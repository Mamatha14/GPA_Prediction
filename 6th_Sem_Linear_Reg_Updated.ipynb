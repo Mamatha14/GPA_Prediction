{
 "cells": [
  {
   "cell_type": "code",
   "execution_count": 1,
   "metadata": {},
   "outputs": [],
   "source": [
    "import pandas as pd, numpy as np\n",
    "import matplotlib.pyplot as plt\n",
    "import seaborn as sns\n",
    "\n",
    "from sklearn.model_selection import train_test_split\n",
    "import statsmodels.api as sm\n",
    "from statsmodels.stats.outliers_influence import variance_inflation_factor\n",
    "from sklearn.metrics import r2_score\n",
    "from sklearn.metrics import mean_squared_error\n",
    "\n",
    "import warnings\n",
    "warnings.filterwarnings('ignore')"
   ]
  },
  {
   "cell_type": "markdown",
   "metadata": {},
   "source": [
    "### Reading and Understanding the data"
   ]
  },
  {
   "cell_type": "code",
   "execution_count": 2,
   "metadata": {},
   "outputs": [
    {
     "data": {
      "text/html": [
       "<div>\n",
       "<style scoped>\n",
       "    .dataframe tbody tr th:only-of-type {\n",
       "        vertical-align: middle;\n",
       "    }\n",
       "\n",
       "    .dataframe tbody tr th {\n",
       "        vertical-align: top;\n",
       "    }\n",
       "\n",
       "    .dataframe thead th {\n",
       "        text-align: right;\n",
       "    }\n",
       "</style>\n",
       "<table border=\"1\" class=\"dataframe\">\n",
       "  <thead>\n",
       "    <tr style=\"text-align: right;\">\n",
       "      <th></th>\n",
       "      <th>Roll No</th>\n",
       "      <th>Name of the Student</th>\n",
       "      <th>Section</th>\n",
       "      <th>Prg_Elec_1</th>\n",
       "      <th>Prg_Elec_2</th>\n",
       "      <th>Inter_Disc_Elec_1</th>\n",
       "      <th>Core_1</th>\n",
       "      <th>Core_2</th>\n",
       "      <th>Core_3</th>\n",
       "      <th>Lab_1</th>\n",
       "      <th>Lab_2</th>\n",
       "      <th>Lab_3</th>\n",
       "      <th>GPA</th>\n",
       "    </tr>\n",
       "  </thead>\n",
       "  <tbody>\n",
       "    <tr>\n",
       "      <th>0</th>\n",
       "      <td>3210316101</td>\n",
       "      <td>A LEELA PRASAD</td>\n",
       "      <td>A</td>\n",
       "      <td>A</td>\n",
       "      <td>B+</td>\n",
       "      <td>B+</td>\n",
       "      <td>B+</td>\n",
       "      <td>B+</td>\n",
       "      <td>B+</td>\n",
       "      <td>A+</td>\n",
       "      <td>A+</td>\n",
       "      <td>A</td>\n",
       "      <td>7.50</td>\n",
       "    </tr>\n",
       "    <tr>\n",
       "      <th>1</th>\n",
       "      <td>3210316102</td>\n",
       "      <td>AGILE VAMSIDHAR REDDY</td>\n",
       "      <td>A</td>\n",
       "      <td>B</td>\n",
       "      <td>F</td>\n",
       "      <td>P</td>\n",
       "      <td>F</td>\n",
       "      <td>F</td>\n",
       "      <td>F</td>\n",
       "      <td>A</td>\n",
       "      <td>B+</td>\n",
       "      <td>A</td>\n",
       "      <td>0.00</td>\n",
       "    </tr>\n",
       "    <tr>\n",
       "      <th>2</th>\n",
       "      <td>3210316103</td>\n",
       "      <td>ALAMPALLI VENKATA MONIKA</td>\n",
       "      <td>A</td>\n",
       "      <td>A</td>\n",
       "      <td>A+</td>\n",
       "      <td>A</td>\n",
       "      <td>A</td>\n",
       "      <td>A+</td>\n",
       "      <td>A+</td>\n",
       "      <td>O</td>\n",
       "      <td>O</td>\n",
       "      <td>O</td>\n",
       "      <td>8.83</td>\n",
       "    </tr>\n",
       "    <tr>\n",
       "      <th>3</th>\n",
       "      <td>3210316104</td>\n",
       "      <td>SHAIK ABDUL RAHEEM</td>\n",
       "      <td>A</td>\n",
       "      <td>B</td>\n",
       "      <td>B+</td>\n",
       "      <td>B</td>\n",
       "      <td>F</td>\n",
       "      <td>B</td>\n",
       "      <td>B</td>\n",
       "      <td>B+</td>\n",
       "      <td>B</td>\n",
       "      <td>P</td>\n",
       "      <td>0.00</td>\n",
       "    </tr>\n",
       "    <tr>\n",
       "      <th>4</th>\n",
       "      <td>3210316105</td>\n",
       "      <td>ACHYUTHA VISHNUTEJA</td>\n",
       "      <td>A</td>\n",
       "      <td>B</td>\n",
       "      <td>B</td>\n",
       "      <td>B+</td>\n",
       "      <td>C</td>\n",
       "      <td>P</td>\n",
       "      <td>P</td>\n",
       "      <td>B+</td>\n",
       "      <td>C</td>\n",
       "      <td>B+</td>\n",
       "      <td>5.46</td>\n",
       "    </tr>\n",
       "  </tbody>\n",
       "</table>\n",
       "</div>"
      ],
      "text/plain": [
       "      Roll No       Name of the Student Section Prg_Elec_1 Prg_Elec_2  \\\n",
       "0  3210316101            A LEELA PRASAD       A          A         B+   \n",
       "1  3210316102     AGILE VAMSIDHAR REDDY       A          B          F   \n",
       "2  3210316103  ALAMPALLI VENKATA MONIKA       A          A         A+   \n",
       "3  3210316104        SHAIK ABDUL RAHEEM       A          B         B+   \n",
       "4  3210316105       ACHYUTHA VISHNUTEJA       A          B          B   \n",
       "\n",
       "  Inter_Disc_Elec_1 Core_1 Core_2 Core_3 Lab_1 Lab_2 Lab_3   GPA  \n",
       "0                B+     B+     B+     B+    A+    A+     A  7.50  \n",
       "1                 P      F      F      F     A    B+     A  0.00  \n",
       "2                 A      A     A+     A+     O     O     O  8.83  \n",
       "3                 B      F      B      B    B+     B     P  0.00  \n",
       "4                B+      C      P      P    B+     C    B+  5.46  "
      ]
     },
     "execution_count": 2,
     "metadata": {},
     "output_type": "execute_result"
    }
   ],
   "source": [
    "sixth_sem = pd.read_excel('6th_Sem_Data.xls')\n",
    "sixth_sem.head()"
   ]
  },
  {
   "cell_type": "code",
   "execution_count": 3,
   "metadata": {},
   "outputs": [
    {
     "data": {
      "text/plain": [
       "(380, 13)"
      ]
     },
     "execution_count": 3,
     "metadata": {},
     "output_type": "execute_result"
    }
   ],
   "source": [
    "sixth_sem.shape"
   ]
  },
  {
   "cell_type": "code",
   "execution_count": 4,
   "metadata": {},
   "outputs": [
    {
     "name": "stdout",
     "output_type": "stream",
     "text": [
      "<class 'pandas.core.frame.DataFrame'>\n",
      "RangeIndex: 380 entries, 0 to 379\n",
      "Data columns (total 13 columns):\n",
      " #   Column               Non-Null Count  Dtype  \n",
      "---  ------               --------------  -----  \n",
      " 0   Roll No              380 non-null    int64  \n",
      " 1   Name of the Student  380 non-null    object \n",
      " 2   Section              380 non-null    object \n",
      " 3   Prg_Elec_1           380 non-null    object \n",
      " 4   Prg_Elec_2           380 non-null    object \n",
      " 5   Inter_Disc_Elec_1    380 non-null    object \n",
      " 6   Core_1               380 non-null    object \n",
      " 7   Core_2               380 non-null    object \n",
      " 8   Core_3               380 non-null    object \n",
      " 9   Lab_1                380 non-null    object \n",
      " 10  Lab_2                380 non-null    object \n",
      " 11  Lab_3                380 non-null    object \n",
      " 12  GPA                  380 non-null    float64\n",
      "dtypes: float64(1), int64(1), object(11)\n",
      "memory usage: 38.7+ KB\n"
     ]
    }
   ],
   "source": [
    "sixth_sem.info()"
   ]
  },
  {
   "cell_type": "code",
   "execution_count": 5,
   "metadata": {},
   "outputs": [
    {
     "data": {
      "text/plain": [
       "<matplotlib.axes._subplots.AxesSubplot at 0x2c9086c8>"
      ]
     },
     "execution_count": 5,
     "metadata": {},
     "output_type": "execute_result"
    },
    {
     "data": {
      "image/png": "[encoded data removed]",
      "text/plain": [
       "<Figure size 432x288 with 1 Axes>"
      ]
     },
     "metadata": {
      "needs_background": "light"
     },
     "output_type": "display_data"
    }
   ],
   "source": [
    "sns.boxplot(data = sixth_sem, x = 'Prg_Elec_1', y = 'GPA')"
   ]
  },
  {
   "cell_type": "markdown",
   "metadata": {},
   "source": [
    "### Data Cleaning\n",
    "\n",
    "Some of the values are repeated so cleaning them"
   ]
  },
  {
   "cell_type": "code",
   "execution_count": 6,
   "metadata": {},
   "outputs": [
    {
     "data": {
      "text/plain": [
       "B+    97\n",
       "B     84\n",
       "A     77\n",
       "F     50\n",
       "A+    31\n",
       "C     20\n",
       "P     11\n",
       "O      7\n",
       "AB     2\n",
       "Ab     1\n",
       "Name: Prg_Elec_1, dtype: int64"
      ]
     },
     "execution_count": 6,
     "metadata": {},
     "output_type": "execute_result"
    }
   ],
   "source": [
    "sixth_sem.Prg_Elec_1.value_counts()"
   ]
  },
  {
   "cell_type": "code",
   "execution_count": 7,
   "metadata": {},
   "outputs": [],
   "source": [
    "sixth_sem.Prg_Elec_1 = sixth_sem.Prg_Elec_1.replace('Ab','AB')"
   ]
  },
  {
   "cell_type": "code",
   "execution_count": 8,
   "metadata": {},
   "outputs": [
    {
     "data": {
      "text/plain": [
       "B+    97\n",
       "B     84\n",
       "A     77\n",
       "F     50\n",
       "A+    31\n",
       "C     20\n",
       "P     11\n",
       "O      7\n",
       "AB     3\n",
       "Name: Prg_Elec_1, dtype: int64"
      ]
     },
     "execution_count": 8,
     "metadata": {},
     "output_type": "execute_result"
    }
   ],
   "source": [
    "sixth_sem.Prg_Elec_1.value_counts()"
   ]
  },
  {
   "cell_type": "code",
   "execution_count": 9,
   "metadata": {},
   "outputs": [
    {
     "data": {
      "text/plain": [
       "B+    120\n",
       "B      86\n",
       "A      85\n",
       "A+     29\n",
       "C      28\n",
       "F      16\n",
       "P      13\n",
       "AB      2\n",
       " A      1\n",
       "Name: Inter_Disc_Elec_1, dtype: int64"
      ]
     },
     "execution_count": 9,
     "metadata": {},
     "output_type": "execute_result"
    }
   ],
   "source": [
    "sixth_sem.Inter_Disc_Elec_1.value_counts()"
   ]
  },
  {
   "cell_type": "code",
   "execution_count": 10,
   "metadata": {},
   "outputs": [],
   "source": [
    "sixth_sem.Inter_Disc_Elec_1 = sixth_sem.Inter_Disc_Elec_1.replace(' A','A')"
   ]
  },
  {
   "cell_type": "code",
   "execution_count": 11,
   "metadata": {},
   "outputs": [
    {
     "data": {
      "text/plain": [
       "B+    120\n",
       "B      86\n",
       "A      86\n",
       "A+     29\n",
       "C      28\n",
       "F      16\n",
       "P      13\n",
       "AB      2\n",
       "Name: Inter_Disc_Elec_1, dtype: int64"
      ]
     },
     "execution_count": 11,
     "metadata": {},
     "output_type": "execute_result"
    }
   ],
   "source": [
    "sixth_sem.Inter_Disc_Elec_1.value_counts()"
   ]
  },
  {
   "cell_type": "code",
   "execution_count": 12,
   "metadata": {},
   "outputs": [
    {
     "data": {
      "text/plain": [
       "B     85\n",
       "B+    85\n",
       "A     58\n",
       "P     39\n",
       "C     33\n",
       "A+    33\n",
       "F     28\n",
       "F     14\n",
       "O      4\n",
       "AB     1\n",
       "Name: Core_1, dtype: int64"
      ]
     },
     "execution_count": 12,
     "metadata": {},
     "output_type": "execute_result"
    }
   ],
   "source": [
    "sixth_sem.Core_1.value_counts()"
   ]
  },
  {
   "cell_type": "code",
   "execution_count": 13,
   "metadata": {},
   "outputs": [],
   "source": [
    "sixth_sem.Core_1 = sixth_sem.Core_1.replace('F ', 'F')"
   ]
  },
  {
   "cell_type": "code",
   "execution_count": 14,
   "metadata": {},
   "outputs": [
    {
     "data": {
      "text/plain": [
       "B     85\n",
       "B+    85\n",
       "A     58\n",
       "F     42\n",
       "P     39\n",
       "C     33\n",
       "A+    33\n",
       "O      4\n",
       "AB     1\n",
       "Name: Core_1, dtype: int64"
      ]
     },
     "execution_count": 14,
     "metadata": {},
     "output_type": "execute_result"
    }
   ],
   "source": [
    "sixth_sem.Core_1.value_counts()"
   ]
  },
  {
   "cell_type": "code",
   "execution_count": 15,
   "metadata": {},
   "outputs": [
    {
     "data": {
      "text/plain": [
       "B     106\n",
       "B+     87\n",
       "A      55\n",
       "F      50\n",
       "C      38\n",
       "P      23\n",
       "A+     14\n",
       "P       5\n",
       "AB      1\n",
       "O       1\n",
       "Name: Core_2, dtype: int64"
      ]
     },
     "execution_count": 15,
     "metadata": {},
     "output_type": "execute_result"
    }
   ],
   "source": [
    "sixth_sem.Core_2.value_counts()"
   ]
  },
  {
   "cell_type": "code",
   "execution_count": 16,
   "metadata": {},
   "outputs": [],
   "source": [
    "sixth_sem.Core_2 = sixth_sem.Core_2.replace('P ', 'P')"
   ]
  },
  {
   "cell_type": "code",
   "execution_count": 17,
   "metadata": {},
   "outputs": [
    {
     "data": {
      "text/plain": [
       "B     106\n",
       "B+     87\n",
       "A      55\n",
       "F      50\n",
       "C      38\n",
       "P      28\n",
       "A+     14\n",
       "AB      1\n",
       "O       1\n",
       "Name: Core_2, dtype: int64"
      ]
     },
     "execution_count": 17,
     "metadata": {},
     "output_type": "execute_result"
    }
   ],
   "source": [
    "sixth_sem.Core_2.value_counts()"
   ]
  },
  {
   "cell_type": "code",
   "execution_count": 18,
   "metadata": {
    "scrolled": true
   },
   "outputs": [
    {
     "data": {
      "text/plain": [
       "A+    155\n",
       "O     136\n",
       "A      62\n",
       "B+     17\n",
       "P       5\n",
       "B       3\n",
       "C       1\n",
       "A       1\n",
       "Name: Lab_1, dtype: int64"
      ]
     },
     "execution_count": 18,
     "metadata": {},
     "output_type": "execute_result"
    }
   ],
   "source": [
    "sixth_sem.Lab_1.value_counts()"
   ]
  },
  {
   "cell_type": "code",
   "execution_count": 19,
   "metadata": {},
   "outputs": [],
   "source": [
    "sixth_sem.Lab_1 = sixth_sem.Lab_1.replace('A ', 'A')"
   ]
  },
  {
   "cell_type": "code",
   "execution_count": 20,
   "metadata": {
    "scrolled": true
   },
   "outputs": [
    {
     "data": {
      "text/plain": [
       "A+    155\n",
       "O     136\n",
       "A      63\n",
       "B+     17\n",
       "P       5\n",
       "B       3\n",
       "C       1\n",
       "Name: Lab_1, dtype: int64"
      ]
     },
     "execution_count": 20,
     "metadata": {},
     "output_type": "execute_result"
    }
   ],
   "source": [
    "sixth_sem.Lab_1.value_counts()"
   ]
  },
  {
   "cell_type": "code",
   "execution_count": 21,
   "metadata": {},
   "outputs": [],
   "source": [
    "#Replacing the grades with corresponding number labeling as follows:\n",
    "# 'O':10,'A+':9,'A':8,'B+':7,'B':6,'C':5,'P':4,'F':2, 'AB':0\n",
    "# instead of dummification.\n",
    "cols = ['Prg_Elec_1', 'Prg_Elec_2','Inter_Disc_Elec_1', 'Core_1', 'Core_2', 'Core_3', 'Lab_1', 'Lab_2','Lab_3']\n",
    "replace_val = {'O':10,'A+':9,'A':8,'B+':7,'B':6,'C':5,'P':4,'F':2, 'AB':0}\n",
    "sixth_sem[cols] = sixth_sem[cols].replace(replace_val)"
   ]
  },
  {
   "cell_type": "code",
   "execution_count": 22,
   "metadata": {},
   "outputs": [
    {
     "data": {
      "text/html": [
       "<div>\n",
       "<style scoped>\n",
       "    .dataframe tbody tr th:only-of-type {\n",
       "        vertical-align: middle;\n",
       "    }\n",
       "\n",
       "    .dataframe tbody tr th {\n",
       "        vertical-align: top;\n",
       "    }\n",
       "\n",
       "    .dataframe thead th {\n",
       "        text-align: right;\n",
       "    }\n",
       "</style>\n",
       "<table border=\"1\" class=\"dataframe\">\n",
       "  <thead>\n",
       "    <tr style=\"text-align: right;\">\n",
       "      <th></th>\n",
       "      <th>Roll No</th>\n",
       "      <th>Name of the Student</th>\n",
       "      <th>Section</th>\n",
       "      <th>Prg_Elec_1</th>\n",
       "      <th>Prg_Elec_2</th>\n",
       "      <th>Inter_Disc_Elec_1</th>\n",
       "      <th>Core_1</th>\n",
       "      <th>Core_2</th>\n",
       "      <th>Core_3</th>\n",
       "      <th>Lab_1</th>\n",
       "      <th>Lab_2</th>\n",
       "      <th>Lab_3</th>\n",
       "      <th>GPA</th>\n",
       "    </tr>\n",
       "  </thead>\n",
       "  <tbody>\n",
       "    <tr>\n",
       "      <th>0</th>\n",
       "      <td>3210316101</td>\n",
       "      <td>A LEELA PRASAD</td>\n",
       "      <td>A</td>\n",
       "      <td>8</td>\n",
       "      <td>7</td>\n",
       "      <td>7</td>\n",
       "      <td>7</td>\n",
       "      <td>7</td>\n",
       "      <td>7</td>\n",
       "      <td>9</td>\n",
       "      <td>9</td>\n",
       "      <td>8</td>\n",
       "      <td>7.50</td>\n",
       "    </tr>\n",
       "    <tr>\n",
       "      <th>1</th>\n",
       "      <td>3210316102</td>\n",
       "      <td>AGILE VAMSIDHAR REDDY</td>\n",
       "      <td>A</td>\n",
       "      <td>6</td>\n",
       "      <td>2</td>\n",
       "      <td>4</td>\n",
       "      <td>2</td>\n",
       "      <td>2</td>\n",
       "      <td>2</td>\n",
       "      <td>8</td>\n",
       "      <td>7</td>\n",
       "      <td>8</td>\n",
       "      <td>0.00</td>\n",
       "    </tr>\n",
       "    <tr>\n",
       "      <th>2</th>\n",
       "      <td>3210316103</td>\n",
       "      <td>ALAMPALLI VENKATA MONIKA</td>\n",
       "      <td>A</td>\n",
       "      <td>8</td>\n",
       "      <td>9</td>\n",
       "      <td>8</td>\n",
       "      <td>8</td>\n",
       "      <td>9</td>\n",
       "      <td>9</td>\n",
       "      <td>10</td>\n",
       "      <td>10</td>\n",
       "      <td>10</td>\n",
       "      <td>8.83</td>\n",
       "    </tr>\n",
       "    <tr>\n",
       "      <th>3</th>\n",
       "      <td>3210316104</td>\n",
       "      <td>SHAIK ABDUL RAHEEM</td>\n",
       "      <td>A</td>\n",
       "      <td>6</td>\n",
       "      <td>7</td>\n",
       "      <td>6</td>\n",
       "      <td>2</td>\n",
       "      <td>6</td>\n",
       "      <td>6</td>\n",
       "      <td>7</td>\n",
       "      <td>6</td>\n",
       "      <td>4</td>\n",
       "      <td>0.00</td>\n",
       "    </tr>\n",
       "    <tr>\n",
       "      <th>4</th>\n",
       "      <td>3210316105</td>\n",
       "      <td>ACHYUTHA VISHNUTEJA</td>\n",
       "      <td>A</td>\n",
       "      <td>6</td>\n",
       "      <td>6</td>\n",
       "      <td>7</td>\n",
       "      <td>5</td>\n",
       "      <td>4</td>\n",
       "      <td>4</td>\n",
       "      <td>7</td>\n",
       "      <td>5</td>\n",
       "      <td>7</td>\n",
       "      <td>5.46</td>\n",
       "    </tr>\n",
       "  </tbody>\n",
       "</table>\n",
       "</div>"
      ],
      "text/plain": [
       "      Roll No       Name of the Student Section  Prg_Elec_1  Prg_Elec_2  \\\n",
       "0  3210316101            A LEELA PRASAD       A           8           7   \n",
       "1  3210316102     AGILE VAMSIDHAR REDDY       A           6           2   \n",
       "2  3210316103  ALAMPALLI VENKATA MONIKA       A           8           9   \n",
       "3  3210316104        SHAIK ABDUL RAHEEM       A           6           7   \n",
       "4  3210316105       ACHYUTHA VISHNUTEJA       A           6           6   \n",
       "\n",
       "   Inter_Disc_Elec_1  Core_1  Core_2  Core_3  Lab_1  Lab_2  Lab_3   GPA  \n",
       "0                  7       7       7       7      9      9      8  7.50  \n",
       "1                  4       2       2       2      8      7      8  0.00  \n",
       "2                  8       8       9       9     10     10     10  8.83  \n",
       "3                  6       2       6       6      7      6      4  0.00  \n",
       "4                  7       5       4       4      7      5      7  5.46  "
      ]
     },
     "execution_count": 22,
     "metadata": {},
     "output_type": "execute_result"
    }
   ],
   "source": [
    "sixth_sem.head()"
   ]
  },
  {
   "cell_type": "markdown",
   "metadata": {},
   "source": [
    "### EDA\n",
    "The data set consists of only categorical values so bivariate analysis can be done across the target variable 'GPA' to get to know the spread and any outlier present."
   ]
  },
  {
   "cell_type": "markdown",
   "metadata": {},
   "source": [
    "#### Univariate Analysis"
   ]
  },
  {
   "cell_type": "code",
   "execution_count": 23,
   "metadata": {},
   "outputs": [
    {
     "data": {
      "text/plain": [
       "<matplotlib.axes._subplots.AxesSubplot at 0x2ca890c8>"
      ]
     },
     "execution_count": 23,
     "metadata": {},
     "output_type": "execute_result"
    },
    {
     "data": {
      "image/png": "[encoded data removed]",
      "text/plain": [
       "<Figure size 432x288 with 1 Axes>"
      ]
     },
     "metadata": {
      "needs_background": "light"
     },
     "output_type": "display_data"
    }
   ],
   "source": [
    "# Number students in each section\n",
    "sns.countplot(sixth_sem.Section)"
   ]
  },
  {
   "cell_type": "code",
   "execution_count": 24,
   "metadata": {},
   "outputs": [],
   "source": [
    "sub = ['Prg_Elec_1','Prg_Elec_2','Inter_Disc_Elec_1','Core_1','Core_2','Core_3','Lab_1','Lab_2','Lab_3']"
   ]
  },
  {
   "cell_type": "code",
   "execution_count": 25,
   "metadata": {
    "scrolled": true
   },
   "outputs": [
    {
     "data": {
      "image/png": "[encoded data removed]",
      "text/plain": [
       "<Figure size 1440x1800 with 9 Axes>"
      ]
     },
     "metadata": {
      "needs_background": "light"
     },
     "output_type": "display_data"
    }
   ],
   "source": [
    "# Univariate Analysis\n",
    "plt.figure(figsize = [20,25])\n",
    "for i in range(0,9):\n",
    "    plt.subplot(5,2,i+1)\n",
    "    sns.countplot(sixth_sem[sub[i]], hue = sixth_sem.Section)\n",
    "    plt.legend(loc = 'best')\n",
    "plt.show()"
   ]
  },
  {
   "cell_type": "markdown",
   "metadata": {},
   "source": [
    "`Inferences:` \n",
    "- The above plot shows the count of the students scoring particular grade in each subject in comparison with other sections.\n",
    "- It's evident that hardly few students have failed in labs and most of them have atleast scored A-grade (specified as 8) which implies that the students results are reasonably good in labs.\n",
    "- For theory subjects, most of the students grading is between 6 and 10 (i.e., B and O)."
   ]
  },
  {
   "cell_type": "markdown",
   "metadata": {},
   "source": [
    "#### Bivariate Analysis"
   ]
  },
  {
   "cell_type": "code",
   "execution_count": 26,
   "metadata": {},
   "outputs": [
    {
     "data": {
      "text/plain": [
       "count    380.000000\n",
       "mean       5.442053\n",
       "std        3.475326\n",
       "min        0.000000\n",
       "25%        0.000000\n",
       "50%        7.080000\n",
       "75%        7.960000\n",
       "max        9.580000\n",
       "Name: GPA, dtype: float64"
      ]
     },
     "execution_count": 26,
     "metadata": {},
     "output_type": "execute_result"
    }
   ],
   "source": [
    "sixth_sem.GPA.describe()"
   ]
  },
  {
   "cell_type": "code",
   "execution_count": 27,
   "metadata": {
    "scrolled": true
   },
   "outputs": [
    {
     "data": {
      "text/plain": [
       "<matplotlib.axes._subplots.AxesSubplot at 0x2e342e08>"
      ]
     },
     "execution_count": 27,
     "metadata": {},
     "output_type": "execute_result"
    },
    {
     "data": {
      "image/png": "[encoded data removed]",
      "text/plain": [
       "<Figure size 432x288 with 1 Axes>"
      ]
     },
     "metadata": {
      "needs_background": "light"
     },
     "output_type": "display_data"
    }
   ],
   "source": [
    "sns.boxplot(sixth_sem.GPA)"
   ]
  },
  {
   "cell_type": "code",
   "execution_count": 28,
   "metadata": {
    "scrolled": true
   },
   "outputs": [
    {
     "data": {
      "image/png": "[encoded data removed]",
      "text/plain": [
       "<Figure size 432x288 with 1 Axes>"
      ]
     },
     "metadata": {
      "needs_background": "light"
     },
     "output_type": "display_data"
    }
   ],
   "source": [
    "sns.boxplot(x = 'Section', y = 'GPA', data = sixth_sem)\n",
    "plt.show()"
   ]
  },
  {
   "cell_type": "markdown",
   "metadata": {},
   "source": [
    "`Inferences:`:\n",
    "- The IQR range of Section 'A' and 'G' is between 5 and 10 which implies that most of the students study well and comparitively minimum number of students who have failed or the students have not appeared in the exams. This is the reason for the outliers present in these two sections.\n",
    "- In other sections the IQR range is spread between 0 and 10 which implies in these section there are students who belongs to all categories i.e., slow learners, average learners and fast learners."
   ]
  },
  {
   "cell_type": "code",
   "execution_count": 29,
   "metadata": {},
   "outputs": [
    {
     "data": {
      "text/plain": [
       "Roll No                13\n",
       "Name of the Student    13\n",
       "Section                13\n",
       "Prg_Elec_1             13\n",
       "Prg_Elec_2             13\n",
       "Inter_Disc_Elec_1      13\n",
       "Core_1                 13\n",
       "Core_2                 13\n",
       "Core_3                 13\n",
       "Lab_1                  13\n",
       "Lab_2                  13\n",
       "Lab_3                  13\n",
       "GPA                    13\n",
       "dtype: int64"
      ]
     },
     "execution_count": 29,
     "metadata": {},
     "output_type": "execute_result"
    }
   ],
   "source": [
    "sixth_sem[(sixth_sem.GPA == 0.0) & (sixth_sem.Section == 'G')].count()"
   ]
  },
  {
   "cell_type": "code",
   "execution_count": 30,
   "metadata": {},
   "outputs": [
    {
     "data": {
      "image/png": "[encoded data removed]",
      "text/plain": [
       "<Figure size 1440x1080 with 9 Axes>"
      ]
     },
     "metadata": {
      "needs_background": "light"
     },
     "output_type": "display_data"
    }
   ],
   "source": [
    "plt.figure(figsize = [20,15])\n",
    "for i in range(0,9):\n",
    "    plt.subplot(3,3,i+1)\n",
    "    sns.boxplot(x = sub[i], y = 'GPA', data = sixth_sem)\n",
    "plt.show()"
   ]
  },
  {
   "cell_type": "markdown",
   "metadata": {},
   "source": [
    "`Inferences:`\n",
    "- There are some outliers in the above plots but cannot be called as outliers but they are indeed the right value.\n",
    "- For example, let me consider the first plot, i.e., Prog_Elec_1 vs GPA, students who have scored 7 or 8 grade in that subject have got 0 GPA, this means though the students have scored good marks in Prg_Elec_1, thet have failed in one or more other subjects. Hence the data point looks as a outlier.\n",
    "- In similar fashion other plots can be interpreted."
   ]
  },
  {
   "cell_type": "markdown",
   "metadata": {},
   "source": [
    "### Splitting the Data"
   ]
  },
  {
   "cell_type": "code",
   "execution_count": 31,
   "metadata": {},
   "outputs": [
    {
     "data": {
      "text/plain": [
       "0      7.50\n",
       "1      0.00\n",
       "2      8.83\n",
       "3      0.00\n",
       "4      5.46\n",
       "       ... \n",
       "375    0.00\n",
       "376    7.88\n",
       "377    8.46\n",
       "378    0.00\n",
       "379    0.00\n",
       "Name: GPA, Length: 380, dtype: float64"
      ]
     },
     "execution_count": 31,
     "metadata": {},
     "output_type": "execute_result"
    }
   ],
   "source": [
    "# Splitting data into X and y\n",
    "\n",
    "# Response / Dependent Variable to 'y'\n",
    "y = sixth_sem.GPA\n",
    "y"
   ]
  },
  {
   "cell_type": "code",
   "execution_count": 32,
   "metadata": {},
   "outputs": [
    {
     "data": {
      "text/html": [
       "<div>\n",
       "<style scoped>\n",
       "    .dataframe tbody tr th:only-of-type {\n",
       "        vertical-align: middle;\n",
       "    }\n",
       "\n",
       "    .dataframe tbody tr th {\n",
       "        vertical-align: top;\n",
       "    }\n",
       "\n",
       "    .dataframe thead th {\n",
       "        text-align: right;\n",
       "    }\n",
       "</style>\n",
       "<table border=\"1\" class=\"dataframe\">\n",
       "  <thead>\n",
       "    <tr style=\"text-align: right;\">\n",
       "      <th></th>\n",
       "      <th>Prg_Elec_1</th>\n",
       "      <th>Prg_Elec_2</th>\n",
       "      <th>Inter_Disc_Elec_1</th>\n",
       "      <th>Core_1</th>\n",
       "      <th>Core_2</th>\n",
       "      <th>Core_3</th>\n",
       "      <th>Lab_1</th>\n",
       "      <th>Lab_2</th>\n",
       "      <th>Lab_3</th>\n",
       "    </tr>\n",
       "  </thead>\n",
       "  <tbody>\n",
       "    <tr>\n",
       "      <th>0</th>\n",
       "      <td>8</td>\n",
       "      <td>7</td>\n",
       "      <td>7</td>\n",
       "      <td>7</td>\n",
       "      <td>7</td>\n",
       "      <td>7</td>\n",
       "      <td>9</td>\n",
       "      <td>9</td>\n",
       "      <td>8</td>\n",
       "    </tr>\n",
       "    <tr>\n",
       "      <th>1</th>\n",
       "      <td>6</td>\n",
       "      <td>2</td>\n",
       "      <td>4</td>\n",
       "      <td>2</td>\n",
       "      <td>2</td>\n",
       "      <td>2</td>\n",
       "      <td>8</td>\n",
       "      <td>7</td>\n",
       "      <td>8</td>\n",
       "    </tr>\n",
       "    <tr>\n",
       "      <th>2</th>\n",
       "      <td>8</td>\n",
       "      <td>9</td>\n",
       "      <td>8</td>\n",
       "      <td>8</td>\n",
       "      <td>9</td>\n",
       "      <td>9</td>\n",
       "      <td>10</td>\n",
       "      <td>10</td>\n",
       "      <td>10</td>\n",
       "    </tr>\n",
       "    <tr>\n",
       "      <th>3</th>\n",
       "      <td>6</td>\n",
       "      <td>7</td>\n",
       "      <td>6</td>\n",
       "      <td>2</td>\n",
       "      <td>6</td>\n",
       "      <td>6</td>\n",
       "      <td>7</td>\n",
       "      <td>6</td>\n",
       "      <td>4</td>\n",
       "    </tr>\n",
       "    <tr>\n",
       "      <th>4</th>\n",
       "      <td>6</td>\n",
       "      <td>6</td>\n",
       "      <td>7</td>\n",
       "      <td>5</td>\n",
       "      <td>4</td>\n",
       "      <td>4</td>\n",
       "      <td>7</td>\n",
       "      <td>5</td>\n",
       "      <td>7</td>\n",
       "    </tr>\n",
       "  </tbody>\n",
       "</table>\n",
       "</div>"
      ],
      "text/plain": [
       "   Prg_Elec_1  Prg_Elec_2  Inter_Disc_Elec_1  Core_1  Core_2  Core_3  Lab_1  \\\n",
       "0           8           7                  7       7       7       7      9   \n",
       "1           6           2                  4       2       2       2      8   \n",
       "2           8           9                  8       8       9       9     10   \n",
       "3           6           7                  6       2       6       6      7   \n",
       "4           6           6                  7       5       4       4      7   \n",
       "\n",
       "   Lab_2  Lab_3  \n",
       "0      9      8  \n",
       "1      7      8  \n",
       "2     10     10  \n",
       "3      6      4  \n",
       "4      5      7  "
      ]
     },
     "execution_count": 32,
     "metadata": {},
     "output_type": "execute_result"
    }
   ],
   "source": [
    "# Independent Variables to X\n",
    "X = sixth_sem.drop(['Roll No', 'Name of the Student','Section', 'GPA'], 1)\n",
    "X.head()"
   ]
  },
  {
   "cell_type": "code",
   "execution_count": 33,
   "metadata": {},
   "outputs": [],
   "source": [
    "# dividing the data to train and test\n",
    "\n",
    "X_train, X_test, y_train, y_test = train_test_split(X, y, train_size = 0.7, random_state  = 100)"
   ]
  },
  {
   "cell_type": "code",
   "execution_count": 34,
   "metadata": {},
   "outputs": [
    {
     "name": "stdout",
     "output_type": "stream",
     "text": [
      "(266, 9)\n",
      "(114, 9)\n",
      "(266,)\n",
      "(114,)\n"
     ]
    }
   ],
   "source": [
    "print(X_train.shape)\n",
    "print(X_test.shape)\n",
    "print(y_train.shape)\n",
    "print(y_test.shape)"
   ]
  },
  {
   "cell_type": "markdown",
   "metadata": {},
   "source": [
    "### Building Linear Model\n",
    "#### Interpretable Model using Linear Regression (OLS Algorithm)"
   ]
  },
  {
   "cell_type": "code",
   "execution_count": 35,
   "metadata": {
    "scrolled": true
   },
   "outputs": [
    {
     "data": {
      "text/html": [
       "<table class=\"simpletable\">\n",
       "<caption>OLS Regression Results</caption>\n",
       "<tr>\n",
       "  <th>Dep. Variable:</th>           <td>GPA</td>       <th>  R-squared:         </th> <td>   0.837</td>\n",
       "</tr>\n",
       "<tr>\n",
       "  <th>Model:</th>                   <td>OLS</td>       <th>  Adj. R-squared:    </th> <td>   0.831</td>\n",
       "</tr>\n",
       "<tr>\n",
       "  <th>Method:</th>             <td>Least Squares</td>  <th>  F-statistic:       </th> <td>   145.8</td>\n",
       "</tr>\n",
       "<tr>\n",
       "  <th>Date:</th>             <td>Mon, 03 May 2021</td> <th>  Prob (F-statistic):</th> <td>2.07e-95</td>\n",
       "</tr>\n",
       "<tr>\n",
       "  <th>Time:</th>                 <td>18:44:28</td>     <th>  Log-Likelihood:    </th> <td> -470.21</td>\n",
       "</tr>\n",
       "<tr>\n",
       "  <th>No. Observations:</th>      <td>   266</td>      <th>  AIC:               </th> <td>   960.4</td>\n",
       "</tr>\n",
       "<tr>\n",
       "  <th>Df Residuals:</th>          <td>   256</td>      <th>  BIC:               </th> <td>   996.3</td>\n",
       "</tr>\n",
       "<tr>\n",
       "  <th>Df Model:</th>              <td>     9</td>      <th>                     </th>     <td> </td>   \n",
       "</tr>\n",
       "<tr>\n",
       "  <th>Covariance Type:</th>      <td>nonrobust</td>    <th>                     </th>     <td> </td>   \n",
       "</tr>\n",
       "</table>\n",
       "<table class=\"simpletable\">\n",
       "<tr>\n",
       "          <td></td>             <th>coef</th>     <th>std err</th>      <th>t</th>      <th>P>|t|</th>  <th>[0.025</th>    <th>0.975]</th>  \n",
       "</tr>\n",
       "<tr>\n",
       "  <th>const</th>             <td>   -2.1721</td> <td>    0.869</td> <td>   -2.499</td> <td> 0.013</td> <td>   -3.884</td> <td>   -0.460</td>\n",
       "</tr>\n",
       "<tr>\n",
       "  <th>Prg_Elec_1</th>        <td>    0.3317</td> <td>    0.079</td> <td>    4.191</td> <td> 0.000</td> <td>    0.176</td> <td>    0.488</td>\n",
       "</tr>\n",
       "<tr>\n",
       "  <th>Prg_Elec_2</th>        <td>    0.1190</td> <td>    0.096</td> <td>    1.246</td> <td> 0.214</td> <td>   -0.069</td> <td>    0.307</td>\n",
       "</tr>\n",
       "<tr>\n",
       "  <th>Inter_Disc_Elec_1</th> <td>   -0.0494</td> <td>    0.092</td> <td>   -0.535</td> <td> 0.593</td> <td>   -0.231</td> <td>    0.132</td>\n",
       "</tr>\n",
       "<tr>\n",
       "  <th>Core_1</th>            <td>    0.4624</td> <td>    0.078</td> <td>    5.916</td> <td> 0.000</td> <td>    0.308</td> <td>    0.616</td>\n",
       "</tr>\n",
       "<tr>\n",
       "  <th>Core_2</th>            <td>    0.3913</td> <td>    0.091</td> <td>    4.285</td> <td> 0.000</td> <td>    0.211</td> <td>    0.571</td>\n",
       "</tr>\n",
       "<tr>\n",
       "  <th>Core_3</th>            <td>    0.5999</td> <td>    0.072</td> <td>    8.321</td> <td> 0.000</td> <td>    0.458</td> <td>    0.742</td>\n",
       "</tr>\n",
       "<tr>\n",
       "  <th>Lab_1</th>             <td>   -0.2241</td> <td>    0.132</td> <td>   -1.704</td> <td> 0.090</td> <td>   -0.483</td> <td>    0.035</td>\n",
       "</tr>\n",
       "<tr>\n",
       "  <th>Lab_2</th>             <td>   -0.1923</td> <td>    0.075</td> <td>   -2.576</td> <td> 0.011</td> <td>   -0.339</td> <td>   -0.045</td>\n",
       "</tr>\n",
       "<tr>\n",
       "  <th>Lab_3</th>             <td>   -0.0048</td> <td>    0.105</td> <td>   -0.046</td> <td> 0.963</td> <td>   -0.212</td> <td>    0.202</td>\n",
       "</tr>\n",
       "</table>\n",
       "<table class=\"simpletable\">\n",
       "<tr>\n",
       "  <th>Omnibus:</th>       <td>32.611</td> <th>  Durbin-Watson:     </th> <td>   1.907</td>\n",
       "</tr>\n",
       "<tr>\n",
       "  <th>Prob(Omnibus):</th> <td> 0.000</td> <th>  Jarque-Bera (JB):  </th> <td>  40.932</td>\n",
       "</tr>\n",
       "<tr>\n",
       "  <th>Skew:</th>          <td>-0.885</td> <th>  Prob(JB):          </th> <td>1.29e-09</td>\n",
       "</tr>\n",
       "<tr>\n",
       "  <th>Kurtosis:</th>      <td> 3.746</td> <th>  Cond. No.          </th> <td>    215.</td>\n",
       "</tr>\n",
       "</table><br/><br/>Warnings:<br/>[1] Standard Errors assume that the covariance matrix of the errors is correctly specified."
      ],
      "text/plain": [
       "<class 'statsmodels.iolib.summary.Summary'>\n",
       "\"\"\"\n",
       "                            OLS Regression Results                            \n",
       "==============================================================================\n",
       "Dep. Variable:                    GPA   R-squared:                       0.837\n",
       "Model:                            OLS   Adj. R-squared:                  0.831\n",
       "Method:                 Least Squares   F-statistic:                     145.8\n",
       "Date:                Mon, 03 May 2021   Prob (F-statistic):           2.07e-95\n",
       "Time:                        18:44:28   Log-Likelihood:                -470.21\n",
       "No. Observations:                 266   AIC:                             960.4\n",
       "Df Residuals:                     256   BIC:                             996.3\n",
       "Df Model:                           9                                         \n",
       "Covariance Type:            nonrobust                                         \n",
       "=====================================================================================\n",
       "                        coef    std err          t      P>|t|      [0.025      0.975]\n",
       "-------------------------------------------------------------------------------------\n",
       "const                -2.1721      0.869     -2.499      0.013      -3.884      -0.460\n",
       "Prg_Elec_1            0.3317      0.079      4.191      0.000       0.176       0.488\n",
       "Prg_Elec_2            0.1190      0.096      1.246      0.214      -0.069       0.307\n",
       "Inter_Disc_Elec_1    -0.0494      0.092     -0.535      0.593      -0.231       0.132\n",
       "Core_1                0.4624      0.078      5.916      0.000       0.308       0.616\n",
       "Core_2                0.3913      0.091      4.285      0.000       0.211       0.571\n",
       "Core_3                0.5999      0.072      8.321      0.000       0.458       0.742\n",
       "Lab_1                -0.2241      0.132     -1.704      0.090      -0.483       0.035\n",
       "Lab_2                -0.1923      0.075     -2.576      0.011      -0.339      -0.045\n",
       "Lab_3                -0.0048      0.105     -0.046      0.963      -0.212       0.202\n",
       "==============================================================================\n",
       "Omnibus:                       32.611   Durbin-Watson:                   1.907\n",
       "Prob(Omnibus):                  0.000   Jarque-Bera (JB):               40.932\n",
       "Skew:                          -0.885   Prob(JB):                     1.29e-09\n",
       "Kurtosis:                       3.746   Cond. No.                         215.\n",
       "==============================================================================\n",
       "\n",
       "Warnings:\n",
       "[1] Standard Errors assume that the covariance matrix of the errors is correctly specified.\n",
       "\"\"\""
      ]
     },
     "execution_count": 35,
     "metadata": {},
     "output_type": "execute_result"
    }
   ],
   "source": [
    "# import necessary library\n",
    "\n",
    "X_train = sm.add_constant(X_train)\n",
    "y_train0 = y_train\n",
    "lm0 = sm.OLS(y_train0, X_train).fit()\n",
    "lm0.summary()"
   ]
  },
  {
   "cell_type": "code",
   "execution_count": 36,
   "metadata": {},
   "outputs": [
    {
     "data": {
      "text/html": [
       "<div>\n",
       "<style scoped>\n",
       "    .dataframe tbody tr th:only-of-type {\n",
       "        vertical-align: middle;\n",
       "    }\n",
       "\n",
       "    .dataframe tbody tr th {\n",
       "        vertical-align: top;\n",
       "    }\n",
       "\n",
       "    .dataframe thead th {\n",
       "        text-align: right;\n",
       "    }\n",
       "</style>\n",
       "<table border=\"1\" class=\"dataframe\">\n",
       "  <thead>\n",
       "    <tr style=\"text-align: right;\">\n",
       "      <th></th>\n",
       "      <th>Features</th>\n",
       "      <th>VIF</th>\n",
       "    </tr>\n",
       "  </thead>\n",
       "  <tbody>\n",
       "    <tr>\n",
       "      <th>0</th>\n",
       "      <td>const</td>\n",
       "      <td>96.31</td>\n",
       "    </tr>\n",
       "    <tr>\n",
       "      <th>5</th>\n",
       "      <td>Core_2</td>\n",
       "      <td>4.05</td>\n",
       "    </tr>\n",
       "    <tr>\n",
       "      <th>2</th>\n",
       "      <td>Prg_Elec_2</td>\n",
       "      <td>3.88</td>\n",
       "    </tr>\n",
       "    <tr>\n",
       "      <th>1</th>\n",
       "      <td>Prg_Elec_1</td>\n",
       "      <td>3.78</td>\n",
       "    </tr>\n",
       "    <tr>\n",
       "      <th>6</th>\n",
       "      <td>Core_3</td>\n",
       "      <td>3.48</td>\n",
       "    </tr>\n",
       "    <tr>\n",
       "      <th>4</th>\n",
       "      <td>Core_1</td>\n",
       "      <td>3.09</td>\n",
       "    </tr>\n",
       "    <tr>\n",
       "      <th>3</th>\n",
       "      <td>Inter_Disc_Elec_1</td>\n",
       "      <td>2.81</td>\n",
       "    </tr>\n",
       "    <tr>\n",
       "      <th>7</th>\n",
       "      <td>Lab_1</td>\n",
       "      <td>2.64</td>\n",
       "    </tr>\n",
       "    <tr>\n",
       "      <th>9</th>\n",
       "      <td>Lab_3</td>\n",
       "      <td>2.21</td>\n",
       "    </tr>\n",
       "    <tr>\n",
       "      <th>8</th>\n",
       "      <td>Lab_2</td>\n",
       "      <td>1.76</td>\n",
       "    </tr>\n",
       "  </tbody>\n",
       "</table>\n",
       "</div>"
      ],
      "text/plain": [
       "            Features    VIF\n",
       "0              const  96.31\n",
       "5             Core_2   4.05\n",
       "2         Prg_Elec_2   3.88\n",
       "1         Prg_Elec_1   3.78\n",
       "6             Core_3   3.48\n",
       "4             Core_1   3.09\n",
       "3  Inter_Disc_Elec_1   2.81\n",
       "7              Lab_1   2.64\n",
       "9              Lab_3   2.21\n",
       "8              Lab_2   1.76"
      ]
     },
     "execution_count": 36,
     "metadata": {},
     "output_type": "execute_result"
    }
   ],
   "source": [
    "vif = pd.DataFrame()\n",
    "vif['Features'] = X_train.columns\n",
    "vif['VIF'] = [variance_inflation_factor(X_train.values, i) for i in range(X_train.shape[1])]\n",
    "vif['VIF'] = round(vif['VIF'], 2)\n",
    "vif = vif.sort_values(by = \"VIF\", ascending = False)\n",
    "vif"
   ]
  },
  {
   "cell_type": "code",
   "execution_count": 37,
   "metadata": {},
   "outputs": [
    {
     "data": {
      "image/png": "[encoded data removed]",
      "text/plain": [
       "<Figure size 432x288 with 1 Axes>"
      ]
     },
     "metadata": {
      "needs_background": "light"
     },
     "output_type": "display_data"
    }
   ],
   "source": [
    "# To check error terms are normally distributed\n",
    "\n",
    "y_train_pred0 = lm0.predict(X_train)\n",
    "\n",
    "sns.distplot((y_train - y_train_pred0))\n",
    "plt.title('Error Terms', fontsize =20)\n",
    "plt.xlabel('Error', fontsize = 15)\n",
    "plt.show()"
   ]
  },
  {
   "cell_type": "code",
   "execution_count": 38,
   "metadata": {},
   "outputs": [],
   "source": [
    "cols0 = X_train.columns"
   ]
  },
  {
   "cell_type": "code",
   "execution_count": 39,
   "metadata": {},
   "outputs": [],
   "source": [
    "X_test_0 = sm.add_constant(X_test)\n",
    "\n",
    "X_test_0 = X_test_0[cols0]"
   ]
  },
  {
   "cell_type": "code",
   "execution_count": 40,
   "metadata": {},
   "outputs": [],
   "source": [
    "y_test_pred0 = lm0.predict(X_test_0)"
   ]
  },
  {
   "cell_type": "code",
   "execution_count": 41,
   "metadata": {},
   "outputs": [
    {
     "name": "stdout",
     "output_type": "stream",
     "text": [
      "Training Set:\n",
      "0.8367405461852757\n",
      "2.008808517139521\n",
      "Testing Set:\n",
      "0.7916807894322034\n",
      "2.3590165200596305\n"
     ]
    }
   ],
   "source": [
    "# R2-Score and MSE on train set\n",
    "print('Training Set:')\n",
    "print(r2_score(y_train, y_train_pred0))\n",
    "print(mean_squared_error(y_train, y_train_pred0))\n",
    "\n",
    "# R2-Score and MSE on test set\n",
    "print('Testing Set:')\n",
    "print(r2_score(y_test, y_test_pred0))\n",
    "print(mean_squared_error(y_test, y_test_pred0))"
   ]
  },
  {
   "cell_type": "markdown",
   "metadata": {},
   "source": [
    "`Inferences on Initail Model (lm0):`\n",
    "- In the initial model, few of the subjects looks insignificant by looking at the p-value but according to the VIF, all subjects are not collinear to each other.\n",
    "- Even though the model looks fine let me drop the insignificant subjects."
   ]
  },
  {
   "cell_type": "code",
   "execution_count": 42,
   "metadata": {},
   "outputs": [],
   "source": [
    "# Drop Lab_3 as p-value = 0.963\n",
    "X_train_new = X_train.drop('Lab_3',1)"
   ]
  },
  {
   "cell_type": "code",
   "execution_count": 43,
   "metadata": {
    "scrolled": true
   },
   "outputs": [
    {
     "data": {
      "text/html": [
       "<table class=\"simpletable\">\n",
       "<caption>OLS Regression Results</caption>\n",
       "<tr>\n",
       "  <th>Dep. Variable:</th>           <td>GPA</td>       <th>  R-squared:         </th> <td>   0.837</td>\n",
       "</tr>\n",
       "<tr>\n",
       "  <th>Model:</th>                   <td>OLS</td>       <th>  Adj. R-squared:    </th> <td>   0.832</td>\n",
       "</tr>\n",
       "<tr>\n",
       "  <th>Method:</th>             <td>Least Squares</td>  <th>  F-statistic:       </th> <td>   164.6</td>\n",
       "</tr>\n",
       "<tr>\n",
       "  <th>Date:</th>             <td>Mon, 03 May 2021</td> <th>  Prob (F-statistic):</th> <td>1.56e-96</td>\n",
       "</tr>\n",
       "<tr>\n",
       "  <th>Time:</th>                 <td>18:44:29</td>     <th>  Log-Likelihood:    </th> <td> -470.21</td>\n",
       "</tr>\n",
       "<tr>\n",
       "  <th>No. Observations:</th>      <td>   266</td>      <th>  AIC:               </th> <td>   958.4</td>\n",
       "</tr>\n",
       "<tr>\n",
       "  <th>Df Residuals:</th>          <td>   257</td>      <th>  BIC:               </th> <td>   990.7</td>\n",
       "</tr>\n",
       "<tr>\n",
       "  <th>Df Model:</th>              <td>     8</td>      <th>                     </th>     <td> </td>   \n",
       "</tr>\n",
       "<tr>\n",
       "  <th>Covariance Type:</th>      <td>nonrobust</td>    <th>                     </th>     <td> </td>   \n",
       "</tr>\n",
       "</table>\n",
       "<table class=\"simpletable\">\n",
       "<tr>\n",
       "          <td></td>             <th>coef</th>     <th>std err</th>      <th>t</th>      <th>P>|t|</th>  <th>[0.025</th>    <th>0.975]</th>  \n",
       "</tr>\n",
       "<tr>\n",
       "  <th>const</th>             <td>   -2.1844</td> <td>    0.825</td> <td>   -2.647</td> <td> 0.009</td> <td>   -3.810</td> <td>   -0.559</td>\n",
       "</tr>\n",
       "<tr>\n",
       "  <th>Prg_Elec_1</th>        <td>    0.3320</td> <td>    0.079</td> <td>    4.217</td> <td> 0.000</td> <td>    0.177</td> <td>    0.487</td>\n",
       "</tr>\n",
       "<tr>\n",
       "  <th>Prg_Elec_2</th>        <td>    0.1186</td> <td>    0.095</td> <td>    1.251</td> <td> 0.212</td> <td>   -0.068</td> <td>    0.305</td>\n",
       "</tr>\n",
       "<tr>\n",
       "  <th>Inter_Disc_Elec_1</th> <td>   -0.0496</td> <td>    0.092</td> <td>   -0.539</td> <td> 0.590</td> <td>   -0.231</td> <td>    0.132</td>\n",
       "</tr>\n",
       "<tr>\n",
       "  <th>Core_1</th>            <td>    0.4623</td> <td>    0.078</td> <td>    5.928</td> <td> 0.000</td> <td>    0.309</td> <td>    0.616</td>\n",
       "</tr>\n",
       "<tr>\n",
       "  <th>Core_2</th>            <td>    0.3907</td> <td>    0.090</td> <td>    4.321</td> <td> 0.000</td> <td>    0.213</td> <td>    0.569</td>\n",
       "</tr>\n",
       "<tr>\n",
       "  <th>Core_3</th>            <td>    0.5995</td> <td>    0.072</td> <td>    8.378</td> <td> 0.000</td> <td>    0.459</td> <td>    0.740</td>\n",
       "</tr>\n",
       "<tr>\n",
       "  <th>Lab_1</th>             <td>   -0.2264</td> <td>    0.122</td> <td>   -1.857</td> <td> 0.064</td> <td>   -0.466</td> <td>    0.014</td>\n",
       "</tr>\n",
       "<tr>\n",
       "  <th>Lab_2</th>             <td>   -0.1924</td> <td>    0.074</td> <td>   -2.585</td> <td> 0.010</td> <td>   -0.339</td> <td>   -0.046</td>\n",
       "</tr>\n",
       "</table>\n",
       "<table class=\"simpletable\">\n",
       "<tr>\n",
       "  <th>Omnibus:</th>       <td>32.595</td> <th>  Durbin-Watson:     </th> <td>   1.907</td>\n",
       "</tr>\n",
       "<tr>\n",
       "  <th>Prob(Omnibus):</th> <td> 0.000</td> <th>  Jarque-Bera (JB):  </th> <td>  40.906</td>\n",
       "</tr>\n",
       "<tr>\n",
       "  <th>Skew:</th>          <td>-0.885</td> <th>  Prob(JB):          </th> <td>1.31e-09</td>\n",
       "</tr>\n",
       "<tr>\n",
       "  <th>Kurtosis:</th>      <td> 3.746</td> <th>  Cond. No.          </th> <td>    189.</td>\n",
       "</tr>\n",
       "</table><br/><br/>Warnings:<br/>[1] Standard Errors assume that the covariance matrix of the errors is correctly specified."
      ],
      "text/plain": [
       "<class 'statsmodels.iolib.summary.Summary'>\n",
       "\"\"\"\n",
       "                            OLS Regression Results                            \n",
       "==============================================================================\n",
       "Dep. Variable:                    GPA   R-squared:                       0.837\n",
       "Model:                            OLS   Adj. R-squared:                  0.832\n",
       "Method:                 Least Squares   F-statistic:                     164.6\n",
       "Date:                Mon, 03 May 2021   Prob (F-statistic):           1.56e-96\n",
       "Time:                        18:44:29   Log-Likelihood:                -470.21\n",
       "No. Observations:                 266   AIC:                             958.4\n",
       "Df Residuals:                     257   BIC:                             990.7\n",
       "Df Model:                           8                                         \n",
       "Covariance Type:            nonrobust                                         \n",
       "=====================================================================================\n",
       "                        coef    std err          t      P>|t|      [0.025      0.975]\n",
       "-------------------------------------------------------------------------------------\n",
       "const                -2.1844      0.825     -2.647      0.009      -3.810      -0.559\n",
       "Prg_Elec_1            0.3320      0.079      4.217      0.000       0.177       0.487\n",
       "Prg_Elec_2            0.1186      0.095      1.251      0.212      -0.068       0.305\n",
       "Inter_Disc_Elec_1    -0.0496      0.092     -0.539      0.590      -0.231       0.132\n",
       "Core_1                0.4623      0.078      5.928      0.000       0.309       0.616\n",
       "Core_2                0.3907      0.090      4.321      0.000       0.213       0.569\n",
       "Core_3                0.5995      0.072      8.378      0.000       0.459       0.740\n",
       "Lab_1                -0.2264      0.122     -1.857      0.064      -0.466       0.014\n",
       "Lab_2                -0.1924      0.074     -2.585      0.010      -0.339      -0.046\n",
       "==============================================================================\n",
       "Omnibus:                       32.595   Durbin-Watson:                   1.907\n",
       "Prob(Omnibus):                  0.000   Jarque-Bera (JB):               40.906\n",
       "Skew:                          -0.885   Prob(JB):                     1.31e-09\n",
       "Kurtosis:                       3.746   Cond. No.                         189.\n",
       "==============================================================================\n",
       "\n",
       "Warnings:\n",
       "[1] Standard Errors assume that the covariance matrix of the errors is correctly specified.\n",
       "\"\"\""
      ]
     },
     "execution_count": 43,
     "metadata": {},
     "output_type": "execute_result"
    }
   ],
   "source": [
    "lm1 = sm.add_constant(X_train_new)\n",
    "lm1 = sm.OLS(y_train, X_train_new).fit()\n",
    "lm1.summary()"
   ]
  },
  {
   "cell_type": "code",
   "execution_count": 44,
   "metadata": {
    "scrolled": true
   },
   "outputs": [
    {
     "data": {
      "text/html": [
       "<table class=\"simpletable\">\n",
       "<caption>OLS Regression Results</caption>\n",
       "<tr>\n",
       "  <th>Dep. Variable:</th>           <td>GPA</td>       <th>  R-squared:         </th> <td>   0.837</td>\n",
       "</tr>\n",
       "<tr>\n",
       "  <th>Model:</th>                   <td>OLS</td>       <th>  Adj. R-squared:    </th> <td>   0.832</td>\n",
       "</tr>\n",
       "<tr>\n",
       "  <th>Method:</th>             <td>Least Squares</td>  <th>  F-statistic:       </th> <td>   188.6</td>\n",
       "</tr>\n",
       "<tr>\n",
       "  <th>Date:</th>             <td>Mon, 03 May 2021</td> <th>  Prob (F-statistic):</th> <td>1.27e-97</td>\n",
       "</tr>\n",
       "<tr>\n",
       "  <th>Time:</th>                 <td>18:44:29</td>     <th>  Log-Likelihood:    </th> <td> -470.36</td>\n",
       "</tr>\n",
       "<tr>\n",
       "  <th>No. Observations:</th>      <td>   266</td>      <th>  AIC:               </th> <td>   956.7</td>\n",
       "</tr>\n",
       "<tr>\n",
       "  <th>Df Residuals:</th>          <td>   258</td>      <th>  BIC:               </th> <td>   985.4</td>\n",
       "</tr>\n",
       "<tr>\n",
       "  <th>Df Model:</th>              <td>     7</td>      <th>                     </th>     <td> </td>   \n",
       "</tr>\n",
       "<tr>\n",
       "  <th>Covariance Type:</th>      <td>nonrobust</td>    <th>                     </th>     <td> </td>   \n",
       "</tr>\n",
       "</table>\n",
       "<table class=\"simpletable\">\n",
       "<tr>\n",
       "       <td></td>         <th>coef</th>     <th>std err</th>      <th>t</th>      <th>P>|t|</th>  <th>[0.025</th>    <th>0.975]</th>  \n",
       "</tr>\n",
       "<tr>\n",
       "  <th>const</th>      <td>   -2.2220</td> <td>    0.821</td> <td>   -2.706</td> <td> 0.007</td> <td>   -3.839</td> <td>   -0.605</td>\n",
       "</tr>\n",
       "<tr>\n",
       "  <th>Prg_Elec_1</th> <td>    0.3251</td> <td>    0.078</td> <td>    4.190</td> <td> 0.000</td> <td>    0.172</td> <td>    0.478</td>\n",
       "</tr>\n",
       "<tr>\n",
       "  <th>Prg_Elec_2</th> <td>    0.1075</td> <td>    0.092</td> <td>    1.163</td> <td> 0.246</td> <td>   -0.075</td> <td>    0.289</td>\n",
       "</tr>\n",
       "<tr>\n",
       "  <th>Core_1</th>     <td>    0.4573</td> <td>    0.077</td> <td>    5.914</td> <td> 0.000</td> <td>    0.305</td> <td>    0.610</td>\n",
       "</tr>\n",
       "<tr>\n",
       "  <th>Core_2</th>     <td>    0.3834</td> <td>    0.089</td> <td>    4.295</td> <td> 0.000</td> <td>    0.208</td> <td>    0.559</td>\n",
       "</tr>\n",
       "<tr>\n",
       "  <th>Core_3</th>     <td>    0.5989</td> <td>    0.071</td> <td>    8.381</td> <td> 0.000</td> <td>    0.458</td> <td>    0.740</td>\n",
       "</tr>\n",
       "<tr>\n",
       "  <th>Lab_1</th>      <td>   -0.2365</td> <td>    0.120</td> <td>   -1.966</td> <td> 0.050</td> <td>   -0.473</td> <td>    0.000</td>\n",
       "</tr>\n",
       "<tr>\n",
       "  <th>Lab_2</th>      <td>   -0.1931</td> <td>    0.074</td> <td>   -2.598</td> <td> 0.010</td> <td>   -0.339</td> <td>   -0.047</td>\n",
       "</tr>\n",
       "</table>\n",
       "<table class=\"simpletable\">\n",
       "<tr>\n",
       "  <th>Omnibus:</th>       <td>34.351</td> <th>  Durbin-Watson:     </th> <td>   1.905</td>\n",
       "</tr>\n",
       "<tr>\n",
       "  <th>Prob(Omnibus):</th> <td> 0.000</td> <th>  Jarque-Bera (JB):  </th> <td>  43.942</td>\n",
       "</tr>\n",
       "<tr>\n",
       "  <th>Skew:</th>          <td>-0.908</td> <th>  Prob(JB):          </th> <td>2.87e-10</td>\n",
       "</tr>\n",
       "<tr>\n",
       "  <th>Kurtosis:</th>      <td> 3.816</td> <th>  Cond. No.          </th> <td>    177.</td>\n",
       "</tr>\n",
       "</table><br/><br/>Warnings:<br/>[1] Standard Errors assume that the covariance matrix of the errors is correctly specified."
      ],
      "text/plain": [
       "<class 'statsmodels.iolib.summary.Summary'>\n",
       "\"\"\"\n",
       "                            OLS Regression Results                            \n",
       "==============================================================================\n",
       "Dep. Variable:                    GPA   R-squared:                       0.837\n",
       "Model:                            OLS   Adj. R-squared:                  0.832\n",
       "Method:                 Least Squares   F-statistic:                     188.6\n",
       "Date:                Mon, 03 May 2021   Prob (F-statistic):           1.27e-97\n",
       "Time:                        18:44:29   Log-Likelihood:                -470.36\n",
       "No. Observations:                 266   AIC:                             956.7\n",
       "Df Residuals:                     258   BIC:                             985.4\n",
       "Df Model:                           7                                         \n",
       "Covariance Type:            nonrobust                                         \n",
       "==============================================================================\n",
       "                 coef    std err          t      P>|t|      [0.025      0.975]\n",
       "------------------------------------------------------------------------------\n",
       "const         -2.2220      0.821     -2.706      0.007      -3.839      -0.605\n",
       "Prg_Elec_1     0.3251      0.078      4.190      0.000       0.172       0.478\n",
       "Prg_Elec_2     0.1075      0.092      1.163      0.246      -0.075       0.289\n",
       "Core_1         0.4573      0.077      5.914      0.000       0.305       0.610\n",
       "Core_2         0.3834      0.089      4.295      0.000       0.208       0.559\n",
       "Core_3         0.5989      0.071      8.381      0.000       0.458       0.740\n",
       "Lab_1         -0.2365      0.120     -1.966      0.050      -0.473       0.000\n",
       "Lab_2         -0.1931      0.074     -2.598      0.010      -0.339      -0.047\n",
       "==============================================================================\n",
       "Omnibus:                       34.351   Durbin-Watson:                   1.905\n",
       "Prob(Omnibus):                  0.000   Jarque-Bera (JB):               43.942\n",
       "Skew:                          -0.908   Prob(JB):                     2.87e-10\n",
       "Kurtosis:                       3.816   Cond. No.                         177.\n",
       "==============================================================================\n",
       "\n",
       "Warnings:\n",
       "[1] Standard Errors assume that the covariance matrix of the errors is correctly specified.\n",
       "\"\"\""
      ]
     },
     "execution_count": 44,
     "metadata": {},
     "output_type": "execute_result"
    }
   ],
   "source": [
    "# Drop Inter_Disc_Elec_1 as p-value=0.59\n",
    "X_train_new = X_train_new.drop('Inter_Disc_Elec_1',1)\n",
    "\n",
    "lm2 = sm.add_constant(X_train_new)\n",
    "lm2 = sm.OLS(y_train, X_train_new).fit()\n",
    "lm2.summary()"
   ]
  },
  {
   "cell_type": "code",
   "execution_count": 45,
   "metadata": {
    "scrolled": true
   },
   "outputs": [
    {
     "data": {
      "text/html": [
       "<table class=\"simpletable\">\n",
       "<caption>OLS Regression Results</caption>\n",
       "<tr>\n",
       "  <th>Dep. Variable:</th>           <td>GPA</td>       <th>  R-squared:         </th> <td>   0.836</td>\n",
       "</tr>\n",
       "<tr>\n",
       "  <th>Model:</th>                   <td>OLS</td>       <th>  Adj. R-squared:    </th> <td>   0.832</td>\n",
       "</tr>\n",
       "<tr>\n",
       "  <th>Method:</th>             <td>Least Squares</td>  <th>  F-statistic:       </th> <td>   219.6</td>\n",
       "</tr>\n",
       "<tr>\n",
       "  <th>Date:</th>             <td>Mon, 03 May 2021</td> <th>  Prob (F-statistic):</th> <td>1.60e-98</td>\n",
       "</tr>\n",
       "<tr>\n",
       "  <th>Time:</th>                 <td>18:44:29</td>     <th>  Log-Likelihood:    </th> <td> -471.06</td>\n",
       "</tr>\n",
       "<tr>\n",
       "  <th>No. Observations:</th>      <td>   266</td>      <th>  AIC:               </th> <td>   956.1</td>\n",
       "</tr>\n",
       "<tr>\n",
       "  <th>Df Residuals:</th>          <td>   259</td>      <th>  BIC:               </th> <td>   981.2</td>\n",
       "</tr>\n",
       "<tr>\n",
       "  <th>Df Model:</th>              <td>     6</td>      <th>                     </th>     <td> </td>   \n",
       "</tr>\n",
       "<tr>\n",
       "  <th>Covariance Type:</th>      <td>nonrobust</td>    <th>                     </th>     <td> </td>   \n",
       "</tr>\n",
       "</table>\n",
       "<table class=\"simpletable\">\n",
       "<tr>\n",
       "       <td></td>         <th>coef</th>     <th>std err</th>      <th>t</th>      <th>P>|t|</th>  <th>[0.025</th>    <th>0.975]</th>  \n",
       "</tr>\n",
       "<tr>\n",
       "  <th>const</th>      <td>   -2.2214</td> <td>    0.822</td> <td>   -2.703</td> <td> 0.007</td> <td>   -3.840</td> <td>   -0.603</td>\n",
       "</tr>\n",
       "<tr>\n",
       "  <th>Prg_Elec_1</th> <td>    0.3466</td> <td>    0.075</td> <td>    4.596</td> <td> 0.000</td> <td>    0.198</td> <td>    0.495</td>\n",
       "</tr>\n",
       "<tr>\n",
       "  <th>Core_1</th>     <td>    0.4684</td> <td>    0.077</td> <td>    6.099</td> <td> 0.000</td> <td>    0.317</td> <td>    0.620</td>\n",
       "</tr>\n",
       "<tr>\n",
       "  <th>Core_2</th>     <td>    0.4124</td> <td>    0.086</td> <td>    4.808</td> <td> 0.000</td> <td>    0.243</td> <td>    0.581</td>\n",
       "</tr>\n",
       "<tr>\n",
       "  <th>Core_3</th>     <td>    0.6095</td> <td>    0.071</td> <td>    8.596</td> <td> 0.000</td> <td>    0.470</td> <td>    0.749</td>\n",
       "</tr>\n",
       "<tr>\n",
       "  <th>Lab_1</th>      <td>   -0.2172</td> <td>    0.119</td> <td>   -1.822</td> <td> 0.070</td> <td>   -0.452</td> <td>    0.018</td>\n",
       "</tr>\n",
       "<tr>\n",
       "  <th>Lab_2</th>      <td>   -0.1777</td> <td>    0.073</td> <td>   -2.428</td> <td> 0.016</td> <td>   -0.322</td> <td>   -0.034</td>\n",
       "</tr>\n",
       "</table>\n",
       "<table class=\"simpletable\">\n",
       "<tr>\n",
       "  <th>Omnibus:</th>       <td>34.770</td> <th>  Durbin-Watson:     </th> <td>   1.923</td>\n",
       "</tr>\n",
       "<tr>\n",
       "  <th>Prob(Omnibus):</th> <td> 0.000</td> <th>  Jarque-Bera (JB):  </th> <td>  44.681</td>\n",
       "</tr>\n",
       "<tr>\n",
       "  <th>Skew:</th>          <td>-0.914</td> <th>  Prob(JB):          </th> <td>1.98e-10</td>\n",
       "</tr>\n",
       "<tr>\n",
       "  <th>Kurtosis:</th>      <td> 3.831</td> <th>  Cond. No.          </th> <td>    164.</td>\n",
       "</tr>\n",
       "</table><br/><br/>Warnings:<br/>[1] Standard Errors assume that the covariance matrix of the errors is correctly specified."
      ],
      "text/plain": [
       "<class 'statsmodels.iolib.summary.Summary'>\n",
       "\"\"\"\n",
       "                            OLS Regression Results                            \n",
       "==============================================================================\n",
       "Dep. Variable:                    GPA   R-squared:                       0.836\n",
       "Model:                            OLS   Adj. R-squared:                  0.832\n",
       "Method:                 Least Squares   F-statistic:                     219.6\n",
       "Date:                Mon, 03 May 2021   Prob (F-statistic):           1.60e-98\n",
       "Time:                        18:44:29   Log-Likelihood:                -471.06\n",
       "No. Observations:                 266   AIC:                             956.1\n",
       "Df Residuals:                     259   BIC:                             981.2\n",
       "Df Model:                           6                                         \n",
       "Covariance Type:            nonrobust                                         \n",
       "==============================================================================\n",
       "                 coef    std err          t      P>|t|      [0.025      0.975]\n",
       "------------------------------------------------------------------------------\n",
       "const         -2.2214      0.822     -2.703      0.007      -3.840      -0.603\n",
       "Prg_Elec_1     0.3466      0.075      4.596      0.000       0.198       0.495\n",
       "Core_1         0.4684      0.077      6.099      0.000       0.317       0.620\n",
       "Core_2         0.4124      0.086      4.808      0.000       0.243       0.581\n",
       "Core_3         0.6095      0.071      8.596      0.000       0.470       0.749\n",
       "Lab_1         -0.2172      0.119     -1.822      0.070      -0.452       0.018\n",
       "Lab_2         -0.1777      0.073     -2.428      0.016      -0.322      -0.034\n",
       "==============================================================================\n",
       "Omnibus:                       34.770   Durbin-Watson:                   1.923\n",
       "Prob(Omnibus):                  0.000   Jarque-Bera (JB):               44.681\n",
       "Skew:                          -0.914   Prob(JB):                     1.98e-10\n",
       "Kurtosis:                       3.831   Cond. No.                         164.\n",
       "==============================================================================\n",
       "\n",
       "Warnings:\n",
       "[1] Standard Errors assume that the covariance matrix of the errors is correctly specified.\n",
       "\"\"\""
      ]
     },
     "execution_count": 45,
     "metadata": {},
     "output_type": "execute_result"
    }
   ],
   "source": [
    "# Drop Prg_Elec_2 as p-value=0.246\n",
    "X_train_new = X_train_new.drop('Prg_Elec_2',1)\n",
    "\n",
    "lm3 = sm.add_constant(X_train_new)\n",
    "lm3 = sm.OLS(y_train, X_train_new).fit()\n",
    "lm3.summary()"
   ]
  },
  {
   "cell_type": "code",
   "execution_count": 46,
   "metadata": {
    "scrolled": true
   },
   "outputs": [
    {
     "data": {
      "text/html": [
       "<table class=\"simpletable\">\n",
       "<caption>OLS Regression Results</caption>\n",
       "<tr>\n",
       "  <th>Dep. Variable:</th>           <td>GPA</td>       <th>  R-squared:         </th> <td>   0.834</td>\n",
       "</tr>\n",
       "<tr>\n",
       "  <th>Model:</th>                   <td>OLS</td>       <th>  Adj. R-squared:    </th> <td>   0.830</td>\n",
       "</tr>\n",
       "<tr>\n",
       "  <th>Method:</th>             <td>Least Squares</td>  <th>  F-statistic:       </th> <td>   260.5</td>\n",
       "</tr>\n",
       "<tr>\n",
       "  <th>Date:</th>             <td>Mon, 03 May 2021</td> <th>  Prob (F-statistic):</th> <td>4.88e-99</td>\n",
       "</tr>\n",
       "<tr>\n",
       "  <th>Time:</th>                 <td>18:44:29</td>     <th>  Log-Likelihood:    </th> <td> -472.75</td>\n",
       "</tr>\n",
       "<tr>\n",
       "  <th>No. Observations:</th>      <td>   266</td>      <th>  AIC:               </th> <td>   957.5</td>\n",
       "</tr>\n",
       "<tr>\n",
       "  <th>Df Residuals:</th>          <td>   260</td>      <th>  BIC:               </th> <td>   979.0</td>\n",
       "</tr>\n",
       "<tr>\n",
       "  <th>Df Model:</th>              <td>     5</td>      <th>                     </th>     <td> </td>   \n",
       "</tr>\n",
       "<tr>\n",
       "  <th>Covariance Type:</th>      <td>nonrobust</td>    <th>                     </th>     <td> </td>   \n",
       "</tr>\n",
       "</table>\n",
       "<table class=\"simpletable\">\n",
       "<tr>\n",
       "       <td></td>         <th>coef</th>     <th>std err</th>      <th>t</th>      <th>P>|t|</th>  <th>[0.025</th>    <th>0.975]</th>  \n",
       "</tr>\n",
       "<tr>\n",
       "  <th>const</th>      <td>   -3.4227</td> <td>    0.493</td> <td>   -6.949</td> <td> 0.000</td> <td>   -4.393</td> <td>   -2.453</td>\n",
       "</tr>\n",
       "<tr>\n",
       "  <th>Prg_Elec_1</th> <td>    0.3527</td> <td>    0.076</td> <td>    4.660</td> <td> 0.000</td> <td>    0.204</td> <td>    0.502</td>\n",
       "</tr>\n",
       "<tr>\n",
       "  <th>Core_1</th>     <td>    0.4307</td> <td>    0.074</td> <td>    5.798</td> <td> 0.000</td> <td>    0.284</td> <td>    0.577</td>\n",
       "</tr>\n",
       "<tr>\n",
       "  <th>Core_2</th>     <td>    0.3934</td> <td>    0.086</td> <td>    4.600</td> <td> 0.000</td> <td>    0.225</td> <td>    0.562</td>\n",
       "</tr>\n",
       "<tr>\n",
       "  <th>Core_3</th>     <td>    0.5909</td> <td>    0.070</td> <td>    8.384</td> <td> 0.000</td> <td>    0.452</td> <td>    0.730</td>\n",
       "</tr>\n",
       "<tr>\n",
       "  <th>Lab_2</th>      <td>   -0.2180</td> <td>    0.070</td> <td>   -3.112</td> <td> 0.002</td> <td>   -0.356</td> <td>   -0.080</td>\n",
       "</tr>\n",
       "</table>\n",
       "<table class=\"simpletable\">\n",
       "<tr>\n",
       "  <th>Omnibus:</th>       <td>35.916</td> <th>  Durbin-Watson:     </th> <td>   1.906</td>\n",
       "</tr>\n",
       "<tr>\n",
       "  <th>Prob(Omnibus):</th> <td> 0.000</td> <th>  Jarque-Bera (JB):  </th> <td>  46.546</td>\n",
       "</tr>\n",
       "<tr>\n",
       "  <th>Skew:</th>          <td>-0.936</td> <th>  Prob(JB):          </th> <td>7.81e-11</td>\n",
       "</tr>\n",
       "<tr>\n",
       "  <th>Kurtosis:</th>      <td> 3.834</td> <th>  Cond. No.          </th> <td>    84.4</td>\n",
       "</tr>\n",
       "</table><br/><br/>Warnings:<br/>[1] Standard Errors assume that the covariance matrix of the errors is correctly specified."
      ],
      "text/plain": [
       "<class 'statsmodels.iolib.summary.Summary'>\n",
       "\"\"\"\n",
       "                            OLS Regression Results                            \n",
       "==============================================================================\n",
       "Dep. Variable:                    GPA   R-squared:                       0.834\n",
       "Model:                            OLS   Adj. R-squared:                  0.830\n",
       "Method:                 Least Squares   F-statistic:                     260.5\n",
       "Date:                Mon, 03 May 2021   Prob (F-statistic):           4.88e-99\n",
       "Time:                        18:44:29   Log-Likelihood:                -472.75\n",
       "No. Observations:                 266   AIC:                             957.5\n",
       "Df Residuals:                     260   BIC:                             979.0\n",
       "Df Model:                           5                                         \n",
       "Covariance Type:            nonrobust                                         \n",
       "==============================================================================\n",
       "                 coef    std err          t      P>|t|      [0.025      0.975]\n",
       "------------------------------------------------------------------------------\n",
       "const         -3.4227      0.493     -6.949      0.000      -4.393      -2.453\n",
       "Prg_Elec_1     0.3527      0.076      4.660      0.000       0.204       0.502\n",
       "Core_1         0.4307      0.074      5.798      0.000       0.284       0.577\n",
       "Core_2         0.3934      0.086      4.600      0.000       0.225       0.562\n",
       "Core_3         0.5909      0.070      8.384      0.000       0.452       0.730\n",
       "Lab_2         -0.2180      0.070     -3.112      0.002      -0.356      -0.080\n",
       "==============================================================================\n",
       "Omnibus:                       35.916   Durbin-Watson:                   1.906\n",
       "Prob(Omnibus):                  0.000   Jarque-Bera (JB):               46.546\n",
       "Skew:                          -0.936   Prob(JB):                     7.81e-11\n",
       "Kurtosis:                       3.834   Cond. No.                         84.4\n",
       "==============================================================================\n",
       "\n",
       "Warnings:\n",
       "[1] Standard Errors assume that the covariance matrix of the errors is correctly specified.\n",
       "\"\"\""
      ]
     },
     "execution_count": 46,
     "metadata": {},
     "output_type": "execute_result"
    }
   ],
   "source": [
    "# Drop Lab_1 as p-value=0.07\n",
    "X_train_new = X_train_new.drop('Lab_1',1)\n",
    "\n",
    "lm4 = sm.add_constant(X_train_new)\n",
    "lm4 = sm.OLS(y_train, X_train_new).fit()\n",
    "lm4.summary()"
   ]
  },
  {
   "cell_type": "code",
   "execution_count": 47,
   "metadata": {},
   "outputs": [
    {
     "data": {
      "text/html": [
       "<div>\n",
       "<style scoped>\n",
       "    .dataframe tbody tr th:only-of-type {\n",
       "        vertical-align: middle;\n",
       "    }\n",
       "\n",
       "    .dataframe tbody tr th {\n",
       "        vertical-align: top;\n",
       "    }\n",
       "\n",
       "    .dataframe thead th {\n",
       "        text-align: right;\n",
       "    }\n",
       "</style>\n",
       "<table border=\"1\" class=\"dataframe\">\n",
       "  <thead>\n",
       "    <tr style=\"text-align: right;\">\n",
       "      <th></th>\n",
       "      <th>Features</th>\n",
       "      <th>VIF</th>\n",
       "    </tr>\n",
       "  </thead>\n",
       "  <tbody>\n",
       "    <tr>\n",
       "      <th>0</th>\n",
       "      <td>const</td>\n",
       "      <td>30.80</td>\n",
       "    </tr>\n",
       "    <tr>\n",
       "      <th>3</th>\n",
       "      <td>Core_2</td>\n",
       "      <td>3.54</td>\n",
       "    </tr>\n",
       "    <tr>\n",
       "      <th>1</th>\n",
       "      <td>Prg_Elec_1</td>\n",
       "      <td>3.44</td>\n",
       "    </tr>\n",
       "    <tr>\n",
       "      <th>4</th>\n",
       "      <td>Core_3</td>\n",
       "      <td>3.31</td>\n",
       "    </tr>\n",
       "    <tr>\n",
       "      <th>2</th>\n",
       "      <td>Core_1</td>\n",
       "      <td>2.78</td>\n",
       "    </tr>\n",
       "    <tr>\n",
       "      <th>5</th>\n",
       "      <td>Lab_2</td>\n",
       "      <td>1.54</td>\n",
       "    </tr>\n",
       "  </tbody>\n",
       "</table>\n",
       "</div>"
      ],
      "text/plain": [
       "     Features    VIF\n",
       "0       const  30.80\n",
       "3      Core_2   3.54\n",
       "1  Prg_Elec_1   3.44\n",
       "4      Core_3   3.31\n",
       "2      Core_1   2.78\n",
       "5       Lab_2   1.54"
      ]
     },
     "execution_count": 47,
     "metadata": {},
     "output_type": "execute_result"
    }
   ],
   "source": [
    "vif = pd.DataFrame()\n",
    "vif['Features'] = X_train_new.columns\n",
    "vif['VIF'] = [variance_inflation_factor(X_train_new.values, i) for i in range(X_train_new.shape[1])]\n",
    "vif['VIF'] = round(vif['VIF'], 2)\n",
    "vif = vif.sort_values(by = \"VIF\", ascending = False)\n",
    "vif"
   ]
  },
  {
   "cell_type": "code",
   "execution_count": 48,
   "metadata": {
    "scrolled": true
   },
   "outputs": [
    {
     "data": {
      "image/png": "[encoded data removed]",
      "text/plain": [
       "<Figure size 432x288 with 1 Axes>"
      ]
     },
     "metadata": {
      "needs_background": "light"
     },
     "output_type": "display_data"
    }
   ],
   "source": [
    "# To check error terms are normally distributed\n",
    "\n",
    "y_train_pred4 = lm4.predict(X_train_new)\n",
    "\n",
    "sns.distplot((y_train - y_train_pred4))\n",
    "plt.title('Error Terms', fontsize =20)\n",
    "plt.xlabel('Error', fontsize = 15)\n",
    "plt.show()"
   ]
  },
  {
   "cell_type": "code",
   "execution_count": 49,
   "metadata": {},
   "outputs": [],
   "source": [
    "cols4 = X_train_new.columns"
   ]
  },
  {
   "cell_type": "code",
   "execution_count": 50,
   "metadata": {},
   "outputs": [],
   "source": [
    "X_test_4 = sm.add_constant(X_test)\n",
    "\n",
    "X_test_4 = X_test_4[cols4]"
   ]
  },
  {
   "cell_type": "code",
   "execution_count": 51,
   "metadata": {},
   "outputs": [],
   "source": [
    "y_test_pred4 = lm4.predict(X_test_4)"
   ]
  },
  {
   "cell_type": "code",
   "execution_count": 52,
   "metadata": {},
   "outputs": [
    {
     "name": "stdout",
     "output_type": "stream",
     "text": [
      "Training Set:\n",
      "0.8335922768522726\n",
      "2.0475460609853013\n",
      "Testing Set:\n",
      "0.7856318734640985\n",
      "2.427514728450105\n"
     ]
    }
   ],
   "source": [
    "# R2-Score and MSE on train set\n",
    "print('Training Set:')\n",
    "print(r2_score(y_train, y_train_pred4))\n",
    "print(mean_squared_error(y_train, y_train_pred4))\n",
    "\n",
    "# R2-Score and MSE on test set\n",
    "print('Testing Set:')\n",
    "print(r2_score(y_test, y_test_pred4))\n",
    "print(mean_squared_error(y_test, y_test_pred4))"
   ]
  },
  {
   "cell_type": "code",
   "execution_count": 53,
   "metadata": {},
   "outputs": [
    {
     "data": {
      "text/plain": [
       "<matplotlib.axes._subplots.AxesSubplot at 0x2d8c9808>"
      ]
     },
     "execution_count": 53,
     "metadata": {},
     "output_type": "execute_result"
    },
    {
     "data": {
      "image/png": "[encoded data removed]",
      "text/plain": [
       "<Figure size 432x288 with 1 Axes>"
      ]
     },
     "metadata": {
      "needs_background": "light"
     },
     "output_type": "display_data"
    }
   ],
   "source": [
    "sns.distplot(y_test-y_test_pred0)"
   ]
  },
  {
   "cell_type": "markdown",
   "metadata": {},
   "source": [
    "`Inferences:`After removing the insignificant features, lm4 is the final model. No much difference in r2_ score and MSE values between initial model (lm0) and final model (lm4). Let the lm4 be considered for this project."
   ]
  },
  {
   "cell_type": "code",
   "execution_count": 54,
   "metadata": {},
   "outputs": [],
   "source": [
    "import pickle\n",
    "from sklearn.externals import joblib\n",
    "\n",
    "# Save the model as pickel file.\n",
    "joblib.dump(lm4, 'lm4.pkl')\n",
    "\n",
    "# load the model from the file.\n",
    "GPA_model = joblib.load('lm4.pkl')"
   ]
  },
  {
   "cell_type": "markdown",
   "metadata": {},
   "source": [
    "Trying with Ridge and Lasso Algorithms and Cross Validation techniques to see whether the r2_score will be increased or not."
   ]
  },
  {
   "cell_type": "markdown",
   "metadata": {},
   "source": [
    "### Ridge and Lasso"
   ]
  },
  {
   "cell_type": "code",
   "execution_count": 55,
   "metadata": {},
   "outputs": [],
   "source": [
    "from sklearn.linear_model import Lasso\n",
    "from sklearn.linear_model import Ridge\n",
    "from sklearn.model_selection import GridSearchCV"
   ]
  },
  {
   "cell_type": "code",
   "execution_count": 56,
   "metadata": {},
   "outputs": [
    {
     "name": "stdout",
     "output_type": "stream",
     "text": [
      "Fitting 5 folds for each of 30 candidates, totalling 150 fits\n"
     ]
    },
    {
     "name": "stderr",
     "output_type": "stream",
     "text": [
      "[Parallel(n_jobs=1)]: Using backend SequentialBackend with 1 concurrent workers.\n",
      "[Parallel(n_jobs=1)]: Done 150 out of 150 | elapsed:    1.3s finished\n"
     ]
    },
    {
     "data": {
      "text/plain": [
       "GridSearchCV(cv=5, error_score=nan,\n",
       "             estimator=Ridge(alpha=1.0, copy_X=True, fit_intercept=True,\n",
       "                             max_iter=None, normalize=False, random_state=None,\n",
       "                             solver='auto', tol=0.001),\n",
       "             iid='deprecated', n_jobs=None,\n",
       "             param_grid={'alpha': [0.1, 0.2, 0.3, 0.4, 0.5, 0.6, 0.7, 0.8, 0.9,\n",
       "                                   1, 2, 3, 4, 5, 6, 7, 8, 9, 10, 20, 30, 40,\n",
       "                                   50, 75, 100, 110, 120, 130, 140, 150]},\n",
       "             pre_dispatch='2*n_jobs', refit=True, return_train_score=True,\n",
       "             scoring='neg_mean_absolute_error', verbose=1)"
      ]
     },
     "execution_count": 56,
     "metadata": {},
     "output_type": "execute_result"
    }
   ],
   "source": [
    "params = {'alpha':[0.1, 0.2, 0.3,0.4, 0.5, 0.6,0.7, 0.8, 0.9,1,2,3, 4, 5,6, 7,8, 9,10,20,30,40,50,75,100,110,120,130,140,150]}\n",
    "\n",
    "ridge = Ridge()\n",
    "\n",
    "model_cv = GridSearchCV(estimator = ridge, param_grid =params, scoring = 'neg_mean_absolute_error', cv = 5, \n",
    "                        return_train_score = True, verbose  = 1)\n",
    "model_cv.fit(X_train, y_train)"
   ]
  },
  {
   "cell_type": "code",
   "execution_count": 57,
   "metadata": {},
   "outputs": [
    {
     "data": {
      "text/html": [
       "<div>\n",
       "<style scoped>\n",
       "    .dataframe tbody tr th:only-of-type {\n",
       "        vertical-align: middle;\n",
       "    }\n",
       "\n",
       "    .dataframe tbody tr th {\n",
       "        vertical-align: top;\n",
       "    }\n",
       "\n",
       "    .dataframe thead th {\n",
       "        text-align: right;\n",
       "    }\n",
       "</style>\n",
       "<table border=\"1\" class=\"dataframe\">\n",
       "  <thead>\n",
       "    <tr style=\"text-align: right;\">\n",
       "      <th></th>\n",
       "      <th>mean_fit_time</th>\n",
       "      <th>std_fit_time</th>\n",
       "      <th>mean_score_time</th>\n",
       "      <th>std_score_time</th>\n",
       "      <th>param_alpha</th>\n",
       "      <th>params</th>\n",
       "      <th>split0_test_score</th>\n",
       "      <th>split1_test_score</th>\n",
       "      <th>split2_test_score</th>\n",
       "      <th>split3_test_score</th>\n",
       "      <th>...</th>\n",
       "      <th>mean_test_score</th>\n",
       "      <th>std_test_score</th>\n",
       "      <th>rank_test_score</th>\n",
       "      <th>split0_train_score</th>\n",
       "      <th>split1_train_score</th>\n",
       "      <th>split2_train_score</th>\n",
       "      <th>split3_train_score</th>\n",
       "      <th>split4_train_score</th>\n",
       "      <th>mean_train_score</th>\n",
       "      <th>std_train_score</th>\n",
       "    </tr>\n",
       "  </thead>\n",
       "  <tbody>\n",
       "    <tr>\n",
       "      <th>0</th>\n",
       "      <td>0.109206</td>\n",
       "      <td>1.984587e-01</td>\n",
       "      <td>0.0030</td>\n",
       "      <td>1.095453e-03</td>\n",
       "      <td>0.1</td>\n",
       "      <td>{'alpha': 0.1}</td>\n",
       "      <td>-0.962794</td>\n",
       "      <td>-1.205414</td>\n",
       "      <td>-1.228832</td>\n",
       "      <td>-1.162598</td>\n",
       "      <td>...</td>\n",
       "      <td>-1.142096</td>\n",
       "      <td>0.093998</td>\n",
       "      <td>26</td>\n",
       "      <td>-1.160968</td>\n",
       "      <td>-1.093562</td>\n",
       "      <td>-1.049788</td>\n",
       "      <td>-1.092478</td>\n",
       "      <td>-1.102463</td>\n",
       "      <td>-1.099852</td>\n",
       "      <td>0.035615</td>\n",
       "    </tr>\n",
       "    <tr>\n",
       "      <th>1</th>\n",
       "      <td>0.005600</td>\n",
       "      <td>2.939538e-03</td>\n",
       "      <td>0.0014</td>\n",
       "      <td>4.898624e-04</td>\n",
       "      <td>0.2</td>\n",
       "      <td>{'alpha': 0.2}</td>\n",
       "      <td>-0.962773</td>\n",
       "      <td>-1.205429</td>\n",
       "      <td>-1.228844</td>\n",
       "      <td>-1.162567</td>\n",
       "      <td>...</td>\n",
       "      <td>-1.142083</td>\n",
       "      <td>0.094008</td>\n",
       "      <td>25</td>\n",
       "      <td>-1.160975</td>\n",
       "      <td>-1.093564</td>\n",
       "      <td>-1.049779</td>\n",
       "      <td>-1.092448</td>\n",
       "      <td>-1.102454</td>\n",
       "      <td>-1.099844</td>\n",
       "      <td>0.035621</td>\n",
       "    </tr>\n",
       "    <tr>\n",
       "      <th>2</th>\n",
       "      <td>0.003000</td>\n",
       "      <td>1.907349e-07</td>\n",
       "      <td>0.0012</td>\n",
       "      <td>4.000902e-04</td>\n",
       "      <td>0.3</td>\n",
       "      <td>{'alpha': 0.3}</td>\n",
       "      <td>-0.962752</td>\n",
       "      <td>-1.205445</td>\n",
       "      <td>-1.228856</td>\n",
       "      <td>-1.162537</td>\n",
       "      <td>...</td>\n",
       "      <td>-1.142069</td>\n",
       "      <td>0.094019</td>\n",
       "      <td>24</td>\n",
       "      <td>-1.160981</td>\n",
       "      <td>-1.093566</td>\n",
       "      <td>-1.049771</td>\n",
       "      <td>-1.092418</td>\n",
       "      <td>-1.102445</td>\n",
       "      <td>-1.099836</td>\n",
       "      <td>0.035627</td>\n",
       "    </tr>\n",
       "    <tr>\n",
       "      <th>3</th>\n",
       "      <td>0.002800</td>\n",
       "      <td>3.999710e-04</td>\n",
       "      <td>0.0010</td>\n",
       "      <td>9.536743e-08</td>\n",
       "      <td>0.4</td>\n",
       "      <td>{'alpha': 0.4}</td>\n",
       "      <td>-0.962731</td>\n",
       "      <td>-1.205461</td>\n",
       "      <td>-1.228868</td>\n",
       "      <td>-1.162506</td>\n",
       "      <td>...</td>\n",
       "      <td>-1.142056</td>\n",
       "      <td>0.094029</td>\n",
       "      <td>23</td>\n",
       "      <td>-1.160988</td>\n",
       "      <td>-1.093568</td>\n",
       "      <td>-1.049762</td>\n",
       "      <td>-1.092389</td>\n",
       "      <td>-1.102436</td>\n",
       "      <td>-1.099829</td>\n",
       "      <td>0.035633</td>\n",
       "    </tr>\n",
       "    <tr>\n",
       "      <th>4</th>\n",
       "      <td>0.003000</td>\n",
       "      <td>1.168008e-07</td>\n",
       "      <td>0.0010</td>\n",
       "      <td>2.132481e-07</td>\n",
       "      <td>0.5</td>\n",
       "      <td>{'alpha': 0.5}</td>\n",
       "      <td>-0.962710</td>\n",
       "      <td>-1.205476</td>\n",
       "      <td>-1.228879</td>\n",
       "      <td>-1.162475</td>\n",
       "      <td>...</td>\n",
       "      <td>-1.142044</td>\n",
       "      <td>0.094039</td>\n",
       "      <td>22</td>\n",
       "      <td>-1.160995</td>\n",
       "      <td>-1.093570</td>\n",
       "      <td>-1.049753</td>\n",
       "      <td>-1.092359</td>\n",
       "      <td>-1.102429</td>\n",
       "      <td>-1.099821</td>\n",
       "      <td>0.035639</td>\n",
       "    </tr>\n",
       "  </tbody>\n",
       "</table>\n",
       "<p>5 rows × 21 columns</p>\n",
       "</div>"
      ],
      "text/plain": [
       "   mean_fit_time  std_fit_time  mean_score_time  std_score_time param_alpha  \\\n",
       "0       0.109206  1.984587e-01           0.0030    1.095453e-03         0.1   \n",
       "1       0.005600  2.939538e-03           0.0014    4.898624e-04         0.2   \n",
       "2       0.003000  1.907349e-07           0.0012    4.000902e-04         0.3   \n",
       "3       0.002800  3.999710e-04           0.0010    9.536743e-08         0.4   \n",
       "4       0.003000  1.168008e-07           0.0010    2.132481e-07         0.5   \n",
       "\n",
       "           params  split0_test_score  split1_test_score  split2_test_score  \\\n",
       "0  {'alpha': 0.1}          -0.962794          -1.205414          -1.228832   \n",
       "1  {'alpha': 0.2}          -0.962773          -1.205429          -1.228844   \n",
       "2  {'alpha': 0.3}          -0.962752          -1.205445          -1.228856   \n",
       "3  {'alpha': 0.4}          -0.962731          -1.205461          -1.228868   \n",
       "4  {'alpha': 0.5}          -0.962710          -1.205476          -1.228879   \n",
       "\n",
       "   split3_test_score  ...  mean_test_score  std_test_score  rank_test_score  \\\n",
       "0          -1.162598  ...        -1.142096        0.093998               26   \n",
       "1          -1.162567  ...        -1.142083        0.094008               25   \n",
       "2          -1.162537  ...        -1.142069        0.094019               24   \n",
       "3          -1.162506  ...        -1.142056        0.094029               23   \n",
       "4          -1.162475  ...        -1.142044        0.094039               22   \n",
       "\n",
       "   split0_train_score  split1_train_score  split2_train_score  \\\n",
       "0           -1.160968           -1.093562           -1.049788   \n",
       "1           -1.160975           -1.093564           -1.049779   \n",
       "2           -1.160981           -1.093566           -1.049771   \n",
       "3           -1.160988           -1.093568           -1.049762   \n",
       "4           -1.160995           -1.093570           -1.049753   \n",
       "\n",
       "   split3_train_score  split4_train_score  mean_train_score  std_train_score  \n",
       "0           -1.092478           -1.102463         -1.099852         0.035615  \n",
       "1           -1.092448           -1.102454         -1.099844         0.035621  \n",
       "2           -1.092418           -1.102445         -1.099836         0.035627  \n",
       "3           -1.092389           -1.102436         -1.099829         0.035633  \n",
       "4           -1.092359           -1.102429         -1.099821         0.035639  \n",
       "\n",
       "[5 rows x 21 columns]"
      ]
     },
     "execution_count": 57,
     "metadata": {},
     "output_type": "execute_result"
    }
   ],
   "source": [
    "results_ridge = pd.DataFrame(model_cv.cv_results_)\n",
    "results_ridge.head()"
   ]
  },
  {
   "cell_type": "code",
   "execution_count": 58,
   "metadata": {},
   "outputs": [
    {
     "data": {
      "text/plain": [
       "-1.1371303177959626"
      ]
     },
     "execution_count": 58,
     "metadata": {},
     "output_type": "execute_result"
    }
   ],
   "source": [
    "model_cv.best_score_"
   ]
  },
  {
   "cell_type": "code",
   "execution_count": 59,
   "metadata": {},
   "outputs": [
    {
     "data": {
      "text/plain": [
       "{'alpha': 50}"
      ]
     },
     "execution_count": 59,
     "metadata": {},
     "output_type": "execute_result"
    }
   ],
   "source": [
    "model_cv.best_params_"
   ]
  },
  {
   "cell_type": "code",
   "execution_count": 60,
   "metadata": {},
   "outputs": [
    {
     "data": {
      "text/plain": [
       "array([ 0.        ,  0.35826231,  0.42100917,  0.38262094,  0.56220605,\n",
       "       -0.17211323])"
      ]
     },
     "execution_count": 60,
     "metadata": {},
     "output_type": "execute_result"
    }
   ],
   "source": [
    "alpha = model_cv.best_params_['alpha']\n",
    "\n",
    "ridge = Ridge(alpha = alpha)\n",
    "ridge.fit(X_train_new, y_train)\n",
    "ar1 = ridge.coef_\n",
    "ar1"
   ]
  },
  {
   "cell_type": "code",
   "execution_count": 61,
   "metadata": {},
   "outputs": [],
   "source": [
    "y_pred_train = ridge.predict(X_train_new)\n",
    "y_pred_test = ridge.predict(X_test_4)"
   ]
  },
  {
   "cell_type": "code",
   "execution_count": 62,
   "metadata": {},
   "outputs": [
    {
     "name": "stdout",
     "output_type": "stream",
     "text": [
      "Training Set:\n",
      "0.8331304084951141\n",
      "2.053229070869127\n",
      "Testing Set:\n",
      "0.7856488478414985\n",
      "2.4273225098035627\n"
     ]
    }
   ],
   "source": [
    "# R2-Score and MSE on train set\n",
    "print('Training Set:')\n",
    "print(r2_score(y_train, y_pred_train))\n",
    "print(mean_squared_error(y_train, y_pred_train))\n",
    "\n",
    "# R2-Score and MSE on test set\n",
    "print('Testing Set:')\n",
    "print(r2_score(y_test, y_pred_test))\n",
    "print(mean_squared_error(y_test, y_pred_test))"
   ]
  },
  {
   "cell_type": "code",
   "execution_count": 63,
   "metadata": {},
   "outputs": [
    {
     "name": "stdout",
     "output_type": "stream",
     "text": [
      "Fitting 5 folds for each of 30 candidates, totalling 150 fits\n"
     ]
    },
    {
     "name": "stderr",
     "output_type": "stream",
     "text": [
      "[Parallel(n_jobs=1)]: Using backend SequentialBackend with 1 concurrent workers.\n",
      "[Parallel(n_jobs=1)]: Done 150 out of 150 | elapsed:    0.9s finished\n"
     ]
    },
    {
     "data": {
      "text/plain": [
       "GridSearchCV(cv=5, error_score=nan,\n",
       "             estimator=Lasso(alpha=1.0, copy_X=True, fit_intercept=True,\n",
       "                             max_iter=1000, normalize=False, positive=False,\n",
       "                             precompute=False, random_state=None,\n",
       "                             selection='cyclic', tol=0.0001, warm_start=False),\n",
       "             iid='deprecated', n_jobs=None,\n",
       "             param_grid={'alpha': [0.1, 0.2, 0.3, 0.4, 0.5, 0.6, 0.7, 0.8, 0.9,\n",
       "                                   1, 2, 3, 4, 5, 6, 7, 8, 9, 10, 20, 30, 40,\n",
       "                                   50, 75, 100, 110, 120, 130, 140, 150]},\n",
       "             pre_dispatch='2*n_jobs', refit=True, return_train_score=True,\n",
       "             scoring='neg_mean_absolute_error', verbose=1)"
      ]
     },
     "execution_count": 63,
     "metadata": {},
     "output_type": "execute_result"
    }
   ],
   "source": [
    "lasso = Lasso()\n",
    "\n",
    "model_cv = GridSearchCV(estimator = lasso, param_grid =params, scoring = 'neg_mean_absolute_error', cv = 5, \n",
    "                        return_train_score = True, verbose  = 1)\n",
    "model_cv.fit(X_train_new, y_train)"
   ]
  },
  {
   "cell_type": "code",
   "execution_count": 64,
   "metadata": {},
   "outputs": [
    {
     "data": {
      "text/plain": [
       "{'alpha': 0.1}"
      ]
     },
     "execution_count": 64,
     "metadata": {},
     "output_type": "execute_result"
    }
   ],
   "source": [
    "model_cv.best_params_"
   ]
  },
  {
   "cell_type": "code",
   "execution_count": 65,
   "metadata": {},
   "outputs": [
    {
     "data": {
      "text/plain": [
       "array([ 0.        ,  0.34373251,  0.4136614 ,  0.36541487,  0.57184165,\n",
       "       -0.12629787])"
      ]
     },
     "execution_count": 65,
     "metadata": {},
     "output_type": "execute_result"
    }
   ],
   "source": [
    "alpha = model_cv.best_params_['alpha']\n",
    "\n",
    "lasso = Lasso(alpha = alpha)\n",
    "lasso.fit(X_train_new, y_train)\n",
    "al1 = lasso.coef_\n",
    "al1"
   ]
  },
  {
   "cell_type": "code",
   "execution_count": 66,
   "metadata": {},
   "outputs": [],
   "source": [
    "y_pred_train = lasso.predict(X_train_new)\n",
    "y_pred_test = lasso.predict(X_test_4)"
   ]
  },
  {
   "cell_type": "code",
   "execution_count": 67,
   "metadata": {},
   "outputs": [
    {
     "name": "stdout",
     "output_type": "stream",
     "text": [
      "Training Set:\n",
      "0.8322540714958337\n",
      "2.0640118659043023\n",
      "Testing Set:\n",
      "0.7830428935452702\n",
      "2.456832458591132\n"
     ]
    }
   ],
   "source": [
    "# R2-Score and MSE on train set\n",
    "print('Training Set:')\n",
    "print(r2_score(y_train, y_pred_train))\n",
    "print(mean_squared_error(y_train, y_pred_train))\n",
    "\n",
    "# R2-Score and MSE on test set\n",
    "print('Testing Set:')\n",
    "print(r2_score(y_test, y_pred_test))\n",
    "print(mean_squared_error(y_test, y_pred_test))"
   ]
  },
  {
   "cell_type": "markdown",
   "metadata": {},
   "source": [
    "`Inferences:` After modeling using Ridge and Lasso the performance is more or less same and the Linear Regression model (lm4) can be considered as the final model."
   ]
  },
  {
   "cell_type": "code",
   "execution_count": null,
   "metadata": {},
   "outputs": [],
   "source": []
  }
 ],
 "metadata": {
  "kernelspec": {
   "display_name": "Python 3",
   "language": "python",
   "name": "python3"
  },
  "language_info": {
   "codemirror_mode": {
    "name": "ipython",
    "version": 3
   },
   "file_extension": ".py",
   "mimetype": "text/x-python",
   "name": "python",
   "nbconvert_exporter": "python",
   "pygments_lexer": "ipython3",
   "version": "3.7.7"
  }
 },
 "nbformat": 4,
 "nbformat_minor": 4
}
