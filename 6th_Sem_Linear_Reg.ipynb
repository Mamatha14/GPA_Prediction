{
 "cells": [
  {
   "cell_type": "code",
   "execution_count": 1,
   "metadata": {},
   "outputs": [],
   "source": [
    "import pandas as pd, numpy as np\n",
    "import matplotlib.pyplot as plt\n",
    "import seaborn as sns"
   ]
  },
  {
   "cell_type": "code",
   "execution_count": 2,
   "metadata": {},
   "outputs": [],
   "source": [
    "import warnings\n",
    "warnings.filterwarnings('ignore')"
   ]
  },
  {
   "cell_type": "markdown",
   "metadata": {},
   "source": [
    "### Reading and Understanding the data"
   ]
  },
  {
   "cell_type": "code",
   "execution_count": 3,
   "metadata": {},
   "outputs": [
    {
     "data": {
      "text/html": [
       "<div>\n",
       "<style scoped>\n",
       "    .dataframe tbody tr th:only-of-type {\n",
       "        vertical-align: middle;\n",
       "    }\n",
       "\n",
       "    .dataframe tbody tr th {\n",
       "        vertical-align: top;\n",
       "    }\n",
       "\n",
       "    .dataframe thead th {\n",
       "        text-align: right;\n",
       "    }\n",
       "</style>\n",
       "<table border=\"1\" class=\"dataframe\">\n",
       "  <thead>\n",
       "    <tr style=\"text-align: right;\">\n",
       "      <th></th>\n",
       "      <th>Roll No</th>\n",
       "      <th>Name of the Student</th>\n",
       "      <th>Section</th>\n",
       "      <th>Prg_Elec_1</th>\n",
       "      <th>Prg_Elec_2</th>\n",
       "      <th>Inter_Disc_Elec_1</th>\n",
       "      <th>Core_1</th>\n",
       "      <th>Core_2</th>\n",
       "      <th>Core_3</th>\n",
       "      <th>Lab_1</th>\n",
       "      <th>Lab_2</th>\n",
       "      <th>Lab_3</th>\n",
       "      <th>GPA</th>\n",
       "    </tr>\n",
       "  </thead>\n",
       "  <tbody>\n",
       "    <tr>\n",
       "      <th>0</th>\n",
       "      <td>3210316101</td>\n",
       "      <td>A LEELA PRASAD</td>\n",
       "      <td>A</td>\n",
       "      <td>A</td>\n",
       "      <td>B+</td>\n",
       "      <td>B+</td>\n",
       "      <td>B+</td>\n",
       "      <td>B+</td>\n",
       "      <td>B+</td>\n",
       "      <td>A+</td>\n",
       "      <td>A+</td>\n",
       "      <td>A</td>\n",
       "      <td>7.50</td>\n",
       "    </tr>\n",
       "    <tr>\n",
       "      <th>1</th>\n",
       "      <td>3210316102</td>\n",
       "      <td>AGILE VAMSIDHAR REDDY</td>\n",
       "      <td>A</td>\n",
       "      <td>B</td>\n",
       "      <td>F</td>\n",
       "      <td>P</td>\n",
       "      <td>F</td>\n",
       "      <td>F</td>\n",
       "      <td>F</td>\n",
       "      <td>A</td>\n",
       "      <td>B+</td>\n",
       "      <td>A</td>\n",
       "      <td>0.00</td>\n",
       "    </tr>\n",
       "    <tr>\n",
       "      <th>2</th>\n",
       "      <td>3210316103</td>\n",
       "      <td>ALAMPALLI VENKATA MONIKA</td>\n",
       "      <td>A</td>\n",
       "      <td>A</td>\n",
       "      <td>A+</td>\n",
       "      <td>A</td>\n",
       "      <td>A</td>\n",
       "      <td>A+</td>\n",
       "      <td>A+</td>\n",
       "      <td>O</td>\n",
       "      <td>O</td>\n",
       "      <td>O</td>\n",
       "      <td>8.83</td>\n",
       "    </tr>\n",
       "    <tr>\n",
       "      <th>3</th>\n",
       "      <td>3210316104</td>\n",
       "      <td>SHAIK ABDUL RAHEEM</td>\n",
       "      <td>A</td>\n",
       "      <td>B</td>\n",
       "      <td>B+</td>\n",
       "      <td>B</td>\n",
       "      <td>F</td>\n",
       "      <td>B</td>\n",
       "      <td>B</td>\n",
       "      <td>B+</td>\n",
       "      <td>B</td>\n",
       "      <td>P</td>\n",
       "      <td>0.00</td>\n",
       "    </tr>\n",
       "    <tr>\n",
       "      <th>4</th>\n",
       "      <td>3210316105</td>\n",
       "      <td>ACHYUTHA VISHNUTEJA</td>\n",
       "      <td>A</td>\n",
       "      <td>B</td>\n",
       "      <td>B</td>\n",
       "      <td>B+</td>\n",
       "      <td>C</td>\n",
       "      <td>P</td>\n",
       "      <td>P</td>\n",
       "      <td>B+</td>\n",
       "      <td>C</td>\n",
       "      <td>B+</td>\n",
       "      <td>5.46</td>\n",
       "    </tr>\n",
       "  </tbody>\n",
       "</table>\n",
       "</div>"
      ],
      "text/plain": [
       "      Roll No       Name of the Student Section Prg_Elec_1 Prg_Elec_2  \\\n",
       "0  3210316101            A LEELA PRASAD       A          A         B+   \n",
       "1  3210316102     AGILE VAMSIDHAR REDDY       A          B          F   \n",
       "2  3210316103  ALAMPALLI VENKATA MONIKA       A          A         A+   \n",
       "3  3210316104        SHAIK ABDUL RAHEEM       A          B         B+   \n",
       "4  3210316105       ACHYUTHA VISHNUTEJA       A          B          B   \n",
       "\n",
       "  Inter_Disc_Elec_1 Core_1 Core_2 Core_3 Lab_1 Lab_2 Lab_3   GPA  \n",
       "0                B+     B+     B+     B+    A+    A+     A  7.50  \n",
       "1                 P      F      F      F     A    B+     A  0.00  \n",
       "2                 A      A     A+     A+     O     O     O  8.83  \n",
       "3                 B      F      B      B    B+     B     P  0.00  \n",
       "4                B+      C      P      P    B+     C    B+  5.46  "
      ]
     },
     "execution_count": 3,
     "metadata": {},
     "output_type": "execute_result"
    }
   ],
   "source": [
    "sixth_sem = pd.read_excel('6th_Sem_Data.xls')\n",
    "sixth_sem.head()"
   ]
  },
  {
   "cell_type": "code",
   "execution_count": 4,
   "metadata": {},
   "outputs": [
    {
     "data": {
      "text/plain": [
       "(380, 13)"
      ]
     },
     "execution_count": 4,
     "metadata": {},
     "output_type": "execute_result"
    }
   ],
   "source": [
    "sixth_sem.shape"
   ]
  },
  {
   "cell_type": "code",
   "execution_count": 5,
   "metadata": {},
   "outputs": [
    {
     "name": "stdout",
     "output_type": "stream",
     "text": [
      "<class 'pandas.core.frame.DataFrame'>\n",
      "RangeIndex: 380 entries, 0 to 379\n",
      "Data columns (total 13 columns):\n",
      " #   Column               Non-Null Count  Dtype  \n",
      "---  ------               --------------  -----  \n",
      " 0   Roll No              380 non-null    int64  \n",
      " 1   Name of the Student  380 non-null    object \n",
      " 2   Section              380 non-null    object \n",
      " 3   Prg_Elec_1           380 non-null    object \n",
      " 4   Prg_Elec_2           380 non-null    object \n",
      " 5   Inter_Disc_Elec_1    380 non-null    object \n",
      " 6   Core_1               380 non-null    object \n",
      " 7   Core_2               380 non-null    object \n",
      " 8   Core_3               380 non-null    object \n",
      " 9   Lab_1                380 non-null    object \n",
      " 10  Lab_2                380 non-null    object \n",
      " 11  Lab_3                380 non-null    object \n",
      " 12  GPA                  380 non-null    float64\n",
      "dtypes: float64(1), int64(1), object(11)\n",
      "memory usage: 38.7+ KB\n"
     ]
    }
   ],
   "source": [
    "sixth_sem.info()"
   ]
  },
  {
   "cell_type": "code",
   "execution_count": 6,
   "metadata": {},
   "outputs": [
    {
     "data": {
      "text/plain": [
       "<matplotlib.axes._subplots.AxesSubplot at 0xb7d4e88>"
      ]
     },
     "execution_count": 6,
     "metadata": {},
     "output_type": "execute_result"
    },
    {
     "data": {
      "image/png": "[encoded data removed]",
      "text/plain": [
       "<Figure size 432x288 with 1 Axes>"
      ]
     },
     "metadata": {
      "needs_background": "light"
     },
     "output_type": "display_data"
    }
   ],
   "source": [
    "sns.boxplot(data = sixth_sem, x = 'Prg_Elec_1', y = 'GPA')"
   ]
  },
  {
   "cell_type": "markdown",
   "metadata": {},
   "source": [
    "### Data Cleaning\n",
    "\n",
    "Some of the values are repeated so cleaning them"
   ]
  },
  {
   "cell_type": "code",
   "execution_count": 7,
   "metadata": {},
   "outputs": [
    {
     "data": {
      "text/plain": [
       "B+    97\n",
       "B     84\n",
       "A     77\n",
       "F     50\n",
       "A+    31\n",
       "C     20\n",
       "P     11\n",
       "O      7\n",
       "AB     2\n",
       "Ab     1\n",
       "Name: Prg_Elec_1, dtype: int64"
      ]
     },
     "execution_count": 7,
     "metadata": {},
     "output_type": "execute_result"
    }
   ],
   "source": [
    "sixth_sem.Prg_Elec_1.value_counts()"
   ]
  },
  {
   "cell_type": "code",
   "execution_count": 8,
   "metadata": {},
   "outputs": [],
   "source": [
    "sixth_sem.Prg_Elec_1 = sixth_sem.Prg_Elec_1.replace('Ab','AB')"
   ]
  },
  {
   "cell_type": "code",
   "execution_count": 9,
   "metadata": {},
   "outputs": [
    {
     "data": {
      "text/plain": [
       "B+    97\n",
       "B     84\n",
       "A     77\n",
       "F     50\n",
       "A+    31\n",
       "C     20\n",
       "P     11\n",
       "O      7\n",
       "AB     3\n",
       "Name: Prg_Elec_1, dtype: int64"
      ]
     },
     "execution_count": 9,
     "metadata": {},
     "output_type": "execute_result"
    }
   ],
   "source": [
    "sixth_sem.Prg_Elec_1.value_counts()"
   ]
  },
  {
   "cell_type": "code",
   "execution_count": 10,
   "metadata": {},
   "outputs": [
    {
     "data": {
      "text/plain": [
       "B+    120\n",
       "B      86\n",
       "A      85\n",
       "A+     29\n",
       "C      28\n",
       "F      16\n",
       "P      13\n",
       "AB      2\n",
       " A      1\n",
       "Name: Inter_Disc_Elec_1, dtype: int64"
      ]
     },
     "execution_count": 10,
     "metadata": {},
     "output_type": "execute_result"
    }
   ],
   "source": [
    "sixth_sem.Inter_Disc_Elec_1.value_counts()"
   ]
  },
  {
   "cell_type": "code",
   "execution_count": 11,
   "metadata": {},
   "outputs": [],
   "source": [
    "sixth_sem.Inter_Disc_Elec_1 = sixth_sem.Inter_Disc_Elec_1.replace(' A','A')"
   ]
  },
  {
   "cell_type": "code",
   "execution_count": 12,
   "metadata": {},
   "outputs": [
    {
     "data": {
      "text/plain": [
       "B+    120\n",
       "B      86\n",
       "A      86\n",
       "A+     29\n",
       "C      28\n",
       "F      16\n",
       "P      13\n",
       "AB      2\n",
       "Name: Inter_Disc_Elec_1, dtype: int64"
      ]
     },
     "execution_count": 12,
     "metadata": {},
     "output_type": "execute_result"
    }
   ],
   "source": [
    "sixth_sem.Inter_Disc_Elec_1.value_counts()"
   ]
  },
  {
   "cell_type": "code",
   "execution_count": 13,
   "metadata": {},
   "outputs": [
    {
     "data": {
      "text/plain": [
       "B     85\n",
       "B+    85\n",
       "A     58\n",
       "P     39\n",
       "A+    33\n",
       "C     33\n",
       "F     28\n",
       "F     14\n",
       "O      4\n",
       "AB     1\n",
       "Name: Core_1, dtype: int64"
      ]
     },
     "execution_count": 13,
     "metadata": {},
     "output_type": "execute_result"
    }
   ],
   "source": [
    "sixth_sem.Core_1.value_counts()"
   ]
  },
  {
   "cell_type": "code",
   "execution_count": 14,
   "metadata": {},
   "outputs": [],
   "source": [
    "sixth_sem.Core_1 = sixth_sem.Core_1.replace('F ', 'F')"
   ]
  },
  {
   "cell_type": "code",
   "execution_count": 15,
   "metadata": {},
   "outputs": [
    {
     "data": {
      "text/plain": [
       "B     85\n",
       "B+    85\n",
       "A     58\n",
       "F     42\n",
       "P     39\n",
       "A+    33\n",
       "C     33\n",
       "O      4\n",
       "AB     1\n",
       "Name: Core_1, dtype: int64"
      ]
     },
     "execution_count": 15,
     "metadata": {},
     "output_type": "execute_result"
    }
   ],
   "source": [
    "sixth_sem.Core_1.value_counts()"
   ]
  },
  {
   "cell_type": "code",
   "execution_count": 16,
   "metadata": {},
   "outputs": [
    {
     "data": {
      "text/plain": [
       "B     106\n",
       "B+     87\n",
       "A      55\n",
       "F      50\n",
       "C      38\n",
       "P      23\n",
       "A+     14\n",
       "P       5\n",
       "O       1\n",
       "AB      1\n",
       "Name: Core_2, dtype: int64"
      ]
     },
     "execution_count": 16,
     "metadata": {},
     "output_type": "execute_result"
    }
   ],
   "source": [
    "sixth_sem.Core_2.value_counts()"
   ]
  },
  {
   "cell_type": "code",
   "execution_count": 17,
   "metadata": {},
   "outputs": [],
   "source": [
    "sixth_sem.Core_2 = sixth_sem.Core_2.replace('P ', 'P')"
   ]
  },
  {
   "cell_type": "code",
   "execution_count": 18,
   "metadata": {},
   "outputs": [
    {
     "data": {
      "text/plain": [
       "B     106\n",
       "B+     87\n",
       "A      55\n",
       "F      50\n",
       "C      38\n",
       "P      28\n",
       "A+     14\n",
       "O       1\n",
       "AB      1\n",
       "Name: Core_2, dtype: int64"
      ]
     },
     "execution_count": 18,
     "metadata": {},
     "output_type": "execute_result"
    }
   ],
   "source": [
    "sixth_sem.Core_2.value_counts()"
   ]
  },
  {
   "cell_type": "code",
   "execution_count": 19,
   "metadata": {
    "scrolled": true
   },
   "outputs": [
    {
     "data": {
      "text/plain": [
       "A+    155\n",
       "O     136\n",
       "A      62\n",
       "B+     17\n",
       "P       5\n",
       "B       3\n",
       "A       1\n",
       "C       1\n",
       "Name: Lab_1, dtype: int64"
      ]
     },
     "execution_count": 19,
     "metadata": {},
     "output_type": "execute_result"
    }
   ],
   "source": [
    "sixth_sem.Lab_1.value_counts()"
   ]
  },
  {
   "cell_type": "code",
   "execution_count": 20,
   "metadata": {},
   "outputs": [],
   "source": [
    "sixth_sem.Lab_1 = sixth_sem.Lab_1.replace('A ', 'A')"
   ]
  },
  {
   "cell_type": "code",
   "execution_count": 21,
   "metadata": {
    "scrolled": true
   },
   "outputs": [
    {
     "data": {
      "text/plain": [
       "A+    155\n",
       "O     136\n",
       "A      63\n",
       "B+     17\n",
       "P       5\n",
       "B       3\n",
       "C       1\n",
       "Name: Lab_1, dtype: int64"
      ]
     },
     "execution_count": 21,
     "metadata": {},
     "output_type": "execute_result"
    }
   ],
   "source": [
    "sixth_sem.Lab_1.value_counts()"
   ]
  },
  {
   "cell_type": "markdown",
   "metadata": {},
   "source": [
    "### EDA\n",
    "The data set consists of only categorical values so bivariate analysis can be done across the target variable 'GPA' to get to know the spread and any outlier present."
   ]
  },
  {
   "cell_type": "markdown",
   "metadata": {},
   "source": [
    "#### Univariate Analysis"
   ]
  },
  {
   "cell_type": "code",
   "execution_count": 22,
   "metadata": {},
   "outputs": [
    {
     "data": {
      "text/plain": [
       "<matplotlib.axes._subplots.AxesSubplot at 0xb97cbc8>"
      ]
     },
     "execution_count": 22,
     "metadata": {},
     "output_type": "execute_result"
    },
    {
     "data": {
      "image/png": "[encoded data removed]",
      "text/plain": [
       "<Figure size 432x288 with 1 Axes>"
      ]
     },
     "metadata": {
      "needs_background": "light"
     },
     "output_type": "display_data"
    }
   ],
   "source": [
    "# Number students in each section\n",
    "sns.countplot(sixth_sem.Section)"
   ]
  },
  {
   "cell_type": "code",
   "execution_count": 23,
   "metadata": {},
   "outputs": [],
   "source": [
    "sub = ['Prg_Elec_1','Prg_Elec_2','Inter_Disc_Elec_1','Core_1','Core_2','Core_3','Lab_1','Lab_2','Lab_3']"
   ]
  },
  {
   "cell_type": "code",
   "execution_count": 24,
   "metadata": {
    "scrolled": true
   },
   "outputs": [
    {
     "data": {
      "image/png": "[encoded data removed]",
      "text/plain": [
       "<Figure size 1440x1800 with 9 Axes>"
      ]
     },
     "metadata": {
      "needs_background": "light"
     },
     "output_type": "display_data"
    }
   ],
   "source": [
    "# Univariate Analysis\n",
    "plt.figure(figsize = [20,25])\n",
    "for i in range(0,9):\n",
    "    plt.subplot(5,2,i+1)\n",
    "    sns.countplot(sixth_sem[sub[i]], hue = sixth_sem.Section)\n",
    "    plt.legend(loc = 'best')\n",
    "plt.show()"
   ]
  },
  {
   "cell_type": "markdown",
   "metadata": {},
   "source": [
    "#### Bivariate Analysis"
   ]
  },
  {
   "cell_type": "code",
   "execution_count": 25,
   "metadata": {},
   "outputs": [
    {
     "data": {
      "text/plain": [
       "count    380.000000\n",
       "mean       5.442053\n",
       "std        3.475326\n",
       "min        0.000000\n",
       "25%        0.000000\n",
       "50%        7.080000\n",
       "75%        7.960000\n",
       "max        9.580000\n",
       "Name: GPA, dtype: float64"
      ]
     },
     "execution_count": 25,
     "metadata": {},
     "output_type": "execute_result"
    }
   ],
   "source": [
    "sixth_sem.GPA.describe()"
   ]
  },
  {
   "cell_type": "code",
   "execution_count": 26,
   "metadata": {
    "scrolled": true
   },
   "outputs": [
    {
     "data": {
      "text/plain": [
       "<matplotlib.axes._subplots.AxesSubplot at 0xbd9b688>"
      ]
     },
     "execution_count": 26,
     "metadata": {},
     "output_type": "execute_result"
    },
    {
     "data": {
      "image/png": "[encoded data removed]",
      "text/plain": [
       "<Figure size 432x288 with 1 Axes>"
      ]
     },
     "metadata": {
      "needs_background": "light"
     },
     "output_type": "display_data"
    }
   ],
   "source": [
    "sns.boxplot(sixth_sem.GPA)"
   ]
  },
  {
   "cell_type": "code",
   "execution_count": 27,
   "metadata": {
    "scrolled": true
   },
   "outputs": [
    {
     "data": {
      "image/png": "[encoded data removed]",
      "text/plain": [
       "<Figure size 432x288 with 1 Axes>"
      ]
     },
     "metadata": {
      "needs_background": "light"
     },
     "output_type": "display_data"
    }
   ],
   "source": [
    "sns.boxplot(x = 'Section', y = 'GPA', data = sixth_sem)\n",
    "plt.show()"
   ]
  },
  {
   "cell_type": "code",
   "execution_count": 28,
   "metadata": {},
   "outputs": [
    {
     "data": {
      "image/png": "[encoded data removed]",
      "text/plain": [
       "<Figure size 1440x1080 with 9 Axes>"
      ]
     },
     "metadata": {
      "needs_background": "light"
     },
     "output_type": "display_data"
    }
   ],
   "source": [
    "\n",
    "plt.figure(figsize = [20,15])\n",
    "for i in range(0,9):\n",
    "    plt.subplot(3,3,i+1)\n",
    "    sns.boxplot(x = sub[i], y = 'GPA', data = sixth_sem)\n",
    "plt.show()"
   ]
  },
  {
   "cell_type": "code",
   "execution_count": null,
   "metadata": {},
   "outputs": [],
   "source": []
  },
  {
   "cell_type": "code",
   "execution_count": 29,
   "metadata": {},
   "outputs": [
    {
     "data": {
      "text/plain": [
       "9"
      ]
     },
     "execution_count": 29,
     "metadata": {},
     "output_type": "execute_result"
    }
   ],
   "source": [
    "#sub.append('Section')\n",
    "len(sub)"
   ]
  },
  {
   "cell_type": "markdown",
   "metadata": {},
   "source": [
    "### Dummy Variable Creation"
   ]
  },
  {
   "cell_type": "code",
   "execution_count": 30,
   "metadata": {},
   "outputs": [
    {
     "data": {
      "text/html": [
       "<div>\n",
       "<style scoped>\n",
       "    .dataframe tbody tr th:only-of-type {\n",
       "        vertical-align: middle;\n",
       "    }\n",
       "\n",
       "    .dataframe tbody tr th {\n",
       "        vertical-align: top;\n",
       "    }\n",
       "\n",
       "    .dataframe thead th {\n",
       "        text-align: right;\n",
       "    }\n",
       "</style>\n",
       "<table border=\"1\" class=\"dataframe\">\n",
       "  <thead>\n",
       "    <tr style=\"text-align: right;\">\n",
       "      <th></th>\n",
       "      <th>Roll No</th>\n",
       "      <th>Name of the Student</th>\n",
       "      <th>Section</th>\n",
       "      <th>GPA</th>\n",
       "      <th>Prg_Elec_1_A+</th>\n",
       "      <th>Prg_Elec_1_AB</th>\n",
       "      <th>Prg_Elec_1_B</th>\n",
       "      <th>Prg_Elec_1_B+</th>\n",
       "      <th>Prg_Elec_1_C</th>\n",
       "      <th>Prg_Elec_1_F</th>\n",
       "      <th>...</th>\n",
       "      <th>Lab_2_F</th>\n",
       "      <th>Lab_2_O</th>\n",
       "      <th>Lab_2_P</th>\n",
       "      <th>Lab_3_A+</th>\n",
       "      <th>Lab_3_B</th>\n",
       "      <th>Lab_3_B+</th>\n",
       "      <th>Lab_3_C</th>\n",
       "      <th>Lab_3_F</th>\n",
       "      <th>Lab_3_O</th>\n",
       "      <th>Lab_3_P</th>\n",
       "    </tr>\n",
       "  </thead>\n",
       "  <tbody>\n",
       "    <tr>\n",
       "      <th>0</th>\n",
       "      <td>3210316101</td>\n",
       "      <td>A LEELA PRASAD</td>\n",
       "      <td>A</td>\n",
       "      <td>7.50</td>\n",
       "      <td>0</td>\n",
       "      <td>0</td>\n",
       "      <td>0</td>\n",
       "      <td>0</td>\n",
       "      <td>0</td>\n",
       "      <td>0</td>\n",
       "      <td>...</td>\n",
       "      <td>0</td>\n",
       "      <td>0</td>\n",
       "      <td>0</td>\n",
       "      <td>0</td>\n",
       "      <td>0</td>\n",
       "      <td>0</td>\n",
       "      <td>0</td>\n",
       "      <td>0</td>\n",
       "      <td>0</td>\n",
       "      <td>0</td>\n",
       "    </tr>\n",
       "    <tr>\n",
       "      <th>1</th>\n",
       "      <td>3210316102</td>\n",
       "      <td>AGILE VAMSIDHAR REDDY</td>\n",
       "      <td>A</td>\n",
       "      <td>0.00</td>\n",
       "      <td>0</td>\n",
       "      <td>0</td>\n",
       "      <td>1</td>\n",
       "      <td>0</td>\n",
       "      <td>0</td>\n",
       "      <td>0</td>\n",
       "      <td>...</td>\n",
       "      <td>0</td>\n",
       "      <td>0</td>\n",
       "      <td>0</td>\n",
       "      <td>0</td>\n",
       "      <td>0</td>\n",
       "      <td>0</td>\n",
       "      <td>0</td>\n",
       "      <td>0</td>\n",
       "      <td>0</td>\n",
       "      <td>0</td>\n",
       "    </tr>\n",
       "    <tr>\n",
       "      <th>2</th>\n",
       "      <td>3210316103</td>\n",
       "      <td>ALAMPALLI VENKATA MONIKA</td>\n",
       "      <td>A</td>\n",
       "      <td>8.83</td>\n",
       "      <td>0</td>\n",
       "      <td>0</td>\n",
       "      <td>0</td>\n",
       "      <td>0</td>\n",
       "      <td>0</td>\n",
       "      <td>0</td>\n",
       "      <td>...</td>\n",
       "      <td>0</td>\n",
       "      <td>1</td>\n",
       "      <td>0</td>\n",
       "      <td>0</td>\n",
       "      <td>0</td>\n",
       "      <td>0</td>\n",
       "      <td>0</td>\n",
       "      <td>0</td>\n",
       "      <td>1</td>\n",
       "      <td>0</td>\n",
       "    </tr>\n",
       "    <tr>\n",
       "      <th>3</th>\n",
       "      <td>3210316104</td>\n",
       "      <td>SHAIK ABDUL RAHEEM</td>\n",
       "      <td>A</td>\n",
       "      <td>0.00</td>\n",
       "      <td>0</td>\n",
       "      <td>0</td>\n",
       "      <td>1</td>\n",
       "      <td>0</td>\n",
       "      <td>0</td>\n",
       "      <td>0</td>\n",
       "      <td>...</td>\n",
       "      <td>0</td>\n",
       "      <td>0</td>\n",
       "      <td>0</td>\n",
       "      <td>0</td>\n",
       "      <td>0</td>\n",
       "      <td>0</td>\n",
       "      <td>0</td>\n",
       "      <td>0</td>\n",
       "      <td>0</td>\n",
       "      <td>1</td>\n",
       "    </tr>\n",
       "    <tr>\n",
       "      <th>4</th>\n",
       "      <td>3210316105</td>\n",
       "      <td>ACHYUTHA VISHNUTEJA</td>\n",
       "      <td>A</td>\n",
       "      <td>5.46</td>\n",
       "      <td>0</td>\n",
       "      <td>0</td>\n",
       "      <td>1</td>\n",
       "      <td>0</td>\n",
       "      <td>0</td>\n",
       "      <td>0</td>\n",
       "      <td>...</td>\n",
       "      <td>0</td>\n",
       "      <td>0</td>\n",
       "      <td>0</td>\n",
       "      <td>0</td>\n",
       "      <td>0</td>\n",
       "      <td>1</td>\n",
       "      <td>0</td>\n",
       "      <td>0</td>\n",
       "      <td>0</td>\n",
       "      <td>0</td>\n",
       "    </tr>\n",
       "  </tbody>\n",
       "</table>\n",
       "<p>5 rows × 71 columns</p>\n",
       "</div>"
      ],
      "text/plain": [
       "      Roll No       Name of the Student Section   GPA  Prg_Elec_1_A+  \\\n",
       "0  3210316101            A LEELA PRASAD       A  7.50              0   \n",
       "1  3210316102     AGILE VAMSIDHAR REDDY       A  0.00              0   \n",
       "2  3210316103  ALAMPALLI VENKATA MONIKA       A  8.83              0   \n",
       "3  3210316104        SHAIK ABDUL RAHEEM       A  0.00              0   \n",
       "4  3210316105       ACHYUTHA VISHNUTEJA       A  5.46              0   \n",
       "\n",
       "   Prg_Elec_1_AB  Prg_Elec_1_B  Prg_Elec_1_B+  Prg_Elec_1_C  Prg_Elec_1_F  \\\n",
       "0              0             0              0             0             0   \n",
       "1              0             1              0             0             0   \n",
       "2              0             0              0             0             0   \n",
       "3              0             1              0             0             0   \n",
       "4              0             1              0             0             0   \n",
       "\n",
       "   ...  Lab_2_F  Lab_2_O  Lab_2_P  Lab_3_A+  Lab_3_B  Lab_3_B+  Lab_3_C  \\\n",
       "0  ...        0        0        0         0        0         0        0   \n",
       "1  ...        0        0        0         0        0         0        0   \n",
       "2  ...        0        1        0         0        0         0        0   \n",
       "3  ...        0        0        0         0        0         0        0   \n",
       "4  ...        0        0        0         0        0         1        0   \n",
       "\n",
       "   Lab_3_F  Lab_3_O  Lab_3_P  \n",
       "0        0        0        0  \n",
       "1        0        0        0  \n",
       "2        0        1        0  \n",
       "3        0        0        1  \n",
       "4        0        0        0  \n",
       "\n",
       "[5 rows x 71 columns]"
      ]
     },
     "execution_count": 30,
     "metadata": {},
     "output_type": "execute_result"
    }
   ],
   "source": [
    "for i in sub:\n",
    "    dummy = pd.get_dummies(sixth_sem[i], prefix = i, drop_first = True)\n",
    "    sixth_sem = pd.concat([sixth_sem, dummy], 1)\n",
    "    sixth_sem = sixth_sem.drop(i,1)\n",
    "sixth_sem.head()"
   ]
  },
  {
   "cell_type": "code",
   "execution_count": 31,
   "metadata": {},
   "outputs": [
    {
     "data": {
      "text/plain": [
       "0      7.50\n",
       "1      0.00\n",
       "2      8.83\n",
       "3      0.00\n",
       "4      5.46\n",
       "       ... \n",
       "375    0.00\n",
       "376    7.88\n",
       "377    8.46\n",
       "378    0.00\n",
       "379    0.00\n",
       "Name: GPA, Length: 380, dtype: float64"
      ]
     },
     "execution_count": 31,
     "metadata": {},
     "output_type": "execute_result"
    }
   ],
   "source": [
    "# Splitting data into X and y\n",
    "\n",
    "y = sixth_sem.GPA\n",
    "y"
   ]
  },
  {
   "cell_type": "code",
   "execution_count": 32,
   "metadata": {},
   "outputs": [
    {
     "data": {
      "text/html": [
       "<div>\n",
       "<style scoped>\n",
       "    .dataframe tbody tr th:only-of-type {\n",
       "        vertical-align: middle;\n",
       "    }\n",
       "\n",
       "    .dataframe tbody tr th {\n",
       "        vertical-align: top;\n",
       "    }\n",
       "\n",
       "    .dataframe thead th {\n",
       "        text-align: right;\n",
       "    }\n",
       "</style>\n",
       "<table border=\"1\" class=\"dataframe\">\n",
       "  <thead>\n",
       "    <tr style=\"text-align: right;\">\n",
       "      <th></th>\n",
       "      <th>Prg_Elec_1_A+</th>\n",
       "      <th>Prg_Elec_1_AB</th>\n",
       "      <th>Prg_Elec_1_B</th>\n",
       "      <th>Prg_Elec_1_B+</th>\n",
       "      <th>Prg_Elec_1_C</th>\n",
       "      <th>Prg_Elec_1_F</th>\n",
       "      <th>Prg_Elec_1_O</th>\n",
       "      <th>Prg_Elec_1_P</th>\n",
       "      <th>Prg_Elec_2_A+</th>\n",
       "      <th>Prg_Elec_2_AB</th>\n",
       "      <th>...</th>\n",
       "      <th>Lab_2_F</th>\n",
       "      <th>Lab_2_O</th>\n",
       "      <th>Lab_2_P</th>\n",
       "      <th>Lab_3_A+</th>\n",
       "      <th>Lab_3_B</th>\n",
       "      <th>Lab_3_B+</th>\n",
       "      <th>Lab_3_C</th>\n",
       "      <th>Lab_3_F</th>\n",
       "      <th>Lab_3_O</th>\n",
       "      <th>Lab_3_P</th>\n",
       "    </tr>\n",
       "  </thead>\n",
       "  <tbody>\n",
       "    <tr>\n",
       "      <th>0</th>\n",
       "      <td>0</td>\n",
       "      <td>0</td>\n",
       "      <td>0</td>\n",
       "      <td>0</td>\n",
       "      <td>0</td>\n",
       "      <td>0</td>\n",
       "      <td>0</td>\n",
       "      <td>0</td>\n",
       "      <td>0</td>\n",
       "      <td>0</td>\n",
       "      <td>...</td>\n",
       "      <td>0</td>\n",
       "      <td>0</td>\n",
       "      <td>0</td>\n",
       "      <td>0</td>\n",
       "      <td>0</td>\n",
       "      <td>0</td>\n",
       "      <td>0</td>\n",
       "      <td>0</td>\n",
       "      <td>0</td>\n",
       "      <td>0</td>\n",
       "    </tr>\n",
       "    <tr>\n",
       "      <th>1</th>\n",
       "      <td>0</td>\n",
       "      <td>0</td>\n",
       "      <td>1</td>\n",
       "      <td>0</td>\n",
       "      <td>0</td>\n",
       "      <td>0</td>\n",
       "      <td>0</td>\n",
       "      <td>0</td>\n",
       "      <td>0</td>\n",
       "      <td>0</td>\n",
       "      <td>...</td>\n",
       "      <td>0</td>\n",
       "      <td>0</td>\n",
       "      <td>0</td>\n",
       "      <td>0</td>\n",
       "      <td>0</td>\n",
       "      <td>0</td>\n",
       "      <td>0</td>\n",
       "      <td>0</td>\n",
       "      <td>0</td>\n",
       "      <td>0</td>\n",
       "    </tr>\n",
       "    <tr>\n",
       "      <th>2</th>\n",
       "      <td>0</td>\n",
       "      <td>0</td>\n",
       "      <td>0</td>\n",
       "      <td>0</td>\n",
       "      <td>0</td>\n",
       "      <td>0</td>\n",
       "      <td>0</td>\n",
       "      <td>0</td>\n",
       "      <td>1</td>\n",
       "      <td>0</td>\n",
       "      <td>...</td>\n",
       "      <td>0</td>\n",
       "      <td>1</td>\n",
       "      <td>0</td>\n",
       "      <td>0</td>\n",
       "      <td>0</td>\n",
       "      <td>0</td>\n",
       "      <td>0</td>\n",
       "      <td>0</td>\n",
       "      <td>1</td>\n",
       "      <td>0</td>\n",
       "    </tr>\n",
       "    <tr>\n",
       "      <th>3</th>\n",
       "      <td>0</td>\n",
       "      <td>0</td>\n",
       "      <td>1</td>\n",
       "      <td>0</td>\n",
       "      <td>0</td>\n",
       "      <td>0</td>\n",
       "      <td>0</td>\n",
       "      <td>0</td>\n",
       "      <td>0</td>\n",
       "      <td>0</td>\n",
       "      <td>...</td>\n",
       "      <td>0</td>\n",
       "      <td>0</td>\n",
       "      <td>0</td>\n",
       "      <td>0</td>\n",
       "      <td>0</td>\n",
       "      <td>0</td>\n",
       "      <td>0</td>\n",
       "      <td>0</td>\n",
       "      <td>0</td>\n",
       "      <td>1</td>\n",
       "    </tr>\n",
       "    <tr>\n",
       "      <th>4</th>\n",
       "      <td>0</td>\n",
       "      <td>0</td>\n",
       "      <td>1</td>\n",
       "      <td>0</td>\n",
       "      <td>0</td>\n",
       "      <td>0</td>\n",
       "      <td>0</td>\n",
       "      <td>0</td>\n",
       "      <td>0</td>\n",
       "      <td>0</td>\n",
       "      <td>...</td>\n",
       "      <td>0</td>\n",
       "      <td>0</td>\n",
       "      <td>0</td>\n",
       "      <td>0</td>\n",
       "      <td>0</td>\n",
       "      <td>1</td>\n",
       "      <td>0</td>\n",
       "      <td>0</td>\n",
       "      <td>0</td>\n",
       "      <td>0</td>\n",
       "    </tr>\n",
       "  </tbody>\n",
       "</table>\n",
       "<p>5 rows × 67 columns</p>\n",
       "</div>"
      ],
      "text/plain": [
       "   Prg_Elec_1_A+  Prg_Elec_1_AB  Prg_Elec_1_B  Prg_Elec_1_B+  Prg_Elec_1_C  \\\n",
       "0              0              0             0              0             0   \n",
       "1              0              0             1              0             0   \n",
       "2              0              0             0              0             0   \n",
       "3              0              0             1              0             0   \n",
       "4              0              0             1              0             0   \n",
       "\n",
       "   Prg_Elec_1_F  Prg_Elec_1_O  Prg_Elec_1_P  Prg_Elec_2_A+  Prg_Elec_2_AB  \\\n",
       "0             0             0             0              0              0   \n",
       "1             0             0             0              0              0   \n",
       "2             0             0             0              1              0   \n",
       "3             0             0             0              0              0   \n",
       "4             0             0             0              0              0   \n",
       "\n",
       "   ...  Lab_2_F  Lab_2_O  Lab_2_P  Lab_3_A+  Lab_3_B  Lab_3_B+  Lab_3_C  \\\n",
       "0  ...        0        0        0         0        0         0        0   \n",
       "1  ...        0        0        0         0        0         0        0   \n",
       "2  ...        0        1        0         0        0         0        0   \n",
       "3  ...        0        0        0         0        0         0        0   \n",
       "4  ...        0        0        0         0        0         1        0   \n",
       "\n",
       "   Lab_3_F  Lab_3_O  Lab_3_P  \n",
       "0        0        0        0  \n",
       "1        0        0        0  \n",
       "2        0        1        0  \n",
       "3        0        0        1  \n",
       "4        0        0        0  \n",
       "\n",
       "[5 rows x 67 columns]"
      ]
     },
     "execution_count": 32,
     "metadata": {},
     "output_type": "execute_result"
    }
   ],
   "source": [
    "X = sixth_sem.drop(['Roll No', 'Name of the Student','Section', 'GPA'], 1)\n",
    "X.head()"
   ]
  },
  {
   "cell_type": "code",
   "execution_count": 33,
   "metadata": {},
   "outputs": [],
   "source": [
    "# dividing the data to train and test\n",
    "from sklearn.model_selection import train_test_split\n",
    "X_train, X_test, y_train, y_test = train_test_split(X, y, train_size = 0.7, random_state  = 100)"
   ]
  },
  {
   "cell_type": "code",
   "execution_count": 34,
   "metadata": {},
   "outputs": [
    {
     "name": "stdout",
     "output_type": "stream",
     "text": [
      "(266, 67)\n",
      "(114, 67)\n",
      "(266,)\n",
      "(114,)\n"
     ]
    }
   ],
   "source": [
    "print(X_train.shape)\n",
    "print(X_test.shape)\n",
    "print(y_train.shape)\n",
    "print(y_test.shape)"
   ]
  },
  {
   "cell_type": "markdown",
   "metadata": {},
   "source": [
    "### Building Linear Model"
   ]
  },
  {
   "cell_type": "code",
   "execution_count": 35,
   "metadata": {},
   "outputs": [],
   "source": [
    "from sklearn.feature_selection import RFE\n",
    "from sklearn.linear_model import LinearRegression"
   ]
  },
  {
   "cell_type": "code",
   "execution_count": 36,
   "metadata": {},
   "outputs": [],
   "source": [
    "lm0 = LinearRegression()\n",
    "lm0.fit(X_train, y_train)\n",
    "rfe = RFE(lm0, 15)\n",
    "rfe = rfe.fit(X_train, y_train)"
   ]
  },
  {
   "cell_type": "code",
   "execution_count": 37,
   "metadata": {
    "scrolled": true
   },
   "outputs": [
    {
     "data": {
      "text/plain": [
       "[('Prg_Elec_1_A+', False, 35),\n",
       " ('Prg_Elec_1_AB', False, 50),\n",
       " ('Prg_Elec_1_B', False, 17),\n",
       " ('Prg_Elec_1_B+', False, 42),\n",
       " ('Prg_Elec_1_C', False, 22),\n",
       " ('Prg_Elec_1_F', True, 1),\n",
       " ('Prg_Elec_1_O', False, 33),\n",
       " ('Prg_Elec_1_P', True, 1),\n",
       " ('Prg_Elec_2_A+', False, 40),\n",
       " ('Prg_Elec_2_AB', False, 34),\n",
       " ('Prg_Elec_2_B', False, 19),\n",
       " ('Prg_Elec_2_B+', False, 20),\n",
       " ('Prg_Elec_2_C', False, 4),\n",
       " ('Prg_Elec_2_F', False, 16),\n",
       " ('Prg_Elec_2_O', False, 41),\n",
       " ('Prg_Elec_2_P', False, 10),\n",
       " ('Inter_Disc_Elec_1_A+', False, 49),\n",
       " ('Inter_Disc_Elec_1_AB', True, 1),\n",
       " ('Inter_Disc_Elec_1_B', False, 37),\n",
       " ('Inter_Disc_Elec_1_B+', False, 46),\n",
       " ('Inter_Disc_Elec_1_C', False, 36),\n",
       " ('Inter_Disc_Elec_1_F', True, 1),\n",
       " ('Inter_Disc_Elec_1_P', False, 48),\n",
       " ('Core_1_A+', False, 43),\n",
       " ('Core_1_AB', False, 38),\n",
       " ('Core_1_B', False, 24),\n",
       " ('Core_1_B+', False, 47),\n",
       " ('Core_1_C', False, 23),\n",
       " ('Core_1_F', True, 1),\n",
       " ('Core_1_O', False, 11),\n",
       " ('Core_1_P', True, 1),\n",
       " ('Core_2_A+', False, 44),\n",
       " ('Core_2_AB', False, 39),\n",
       " ('Core_2_B', True, 1),\n",
       " ('Core_2_B+', False, 31),\n",
       " ('Core_2_C', True, 1),\n",
       " ('Core_2_F', True, 1),\n",
       " ('Core_2_O', False, 2),\n",
       " ('Core_2_P', True, 1),\n",
       " ('Core_3_A+', False, 32),\n",
       " ('Core_3_AB', True, 1),\n",
       " ('Core_3_B', False, 9),\n",
       " ('Core_3_B+', False, 51),\n",
       " ('Core_3_C', False, 8),\n",
       " ('Core_3_F', True, 1),\n",
       " ('Core_3_O', False, 3),\n",
       " ('Core_3_P', True, 1),\n",
       " ('Lab_1_A+', False, 30),\n",
       " ('Lab_1_B', True, 1),\n",
       " ('Lab_1_B+', False, 5),\n",
       " ('Lab_1_C', False, 6),\n",
       " ('Lab_1_O', False, 29),\n",
       " ('Lab_1_P', False, 21),\n",
       " ('Lab_2_A+', False, 53),\n",
       " ('Lab_2_B', False, 18),\n",
       " ('Lab_2_B+', False, 14),\n",
       " ('Lab_2_C', False, 13),\n",
       " ('Lab_2_F', False, 15),\n",
       " ('Lab_2_O', False, 45),\n",
       " ('Lab_2_P', False, 7),\n",
       " ('Lab_3_A+', False, 27),\n",
       " ('Lab_3_B', False, 12),\n",
       " ('Lab_3_B+', False, 28),\n",
       " ('Lab_3_C', False, 25),\n",
       " ('Lab_3_F', False, 26),\n",
       " ('Lab_3_O', False, 52),\n",
       " ('Lab_3_P', True, 1)]"
      ]
     },
     "execution_count": 37,
     "metadata": {},
     "output_type": "execute_result"
    }
   ],
   "source": [
    "list(zip(X_train.columns, rfe.support_, rfe.ranking_))"
   ]
  },
  {
   "cell_type": "code",
   "execution_count": 38,
   "metadata": {},
   "outputs": [
    {
     "data": {
      "text/plain": [
       "Index(['Prg_Elec_1_F', 'Prg_Elec_1_P', 'Inter_Disc_Elec_1_AB',\n",
       "       'Inter_Disc_Elec_1_F', 'Core_1_F', 'Core_1_P', 'Core_2_B', 'Core_2_C',\n",
       "       'Core_2_F', 'Core_2_P', 'Core_3_AB', 'Core_3_F', 'Core_3_P', 'Lab_1_B',\n",
       "       'Lab_3_P'],\n",
       "      dtype='object')"
      ]
     },
     "execution_count": 38,
     "metadata": {},
     "output_type": "execute_result"
    }
   ],
   "source": [
    "col_sel = X_train.columns[rfe.support_]\n",
    "col_sel"
   ]
  },
  {
   "cell_type": "code",
   "execution_count": 39,
   "metadata": {},
   "outputs": [],
   "source": [
    "X_train_rfe = X_train[col_sel]"
   ]
  },
  {
   "cell_type": "code",
   "execution_count": 40,
   "metadata": {
    "scrolled": true
   },
   "outputs": [
    {
     "data": {
      "text/html": [
       "<table class=\"simpletable\">\n",
       "<caption>OLS Regression Results</caption>\n",
       "<tr>\n",
       "  <th>Dep. Variable:</th>           <td>GPA</td>       <th>  R-squared:         </th> <td>   0.856</td>\n",
       "</tr>\n",
       "<tr>\n",
       "  <th>Model:</th>                   <td>OLS</td>       <th>  Adj. R-squared:    </th> <td>   0.848</td>\n",
       "</tr>\n",
       "<tr>\n",
       "  <th>Method:</th>             <td>Least Squares</td>  <th>  F-statistic:       </th> <td>   99.33</td>\n",
       "</tr>\n",
       "<tr>\n",
       "  <th>Date:</th>             <td>Sun, 27 Dec 2020</td> <th>  Prob (F-statistic):</th> <td>4.80e-96</td>\n",
       "</tr>\n",
       "<tr>\n",
       "  <th>Time:</th>                 <td>16:21:25</td>     <th>  Log-Likelihood:    </th> <td> -453.22</td>\n",
       "</tr>\n",
       "<tr>\n",
       "  <th>No. Observations:</th>      <td>   266</td>      <th>  AIC:               </th> <td>   938.4</td>\n",
       "</tr>\n",
       "<tr>\n",
       "  <th>Df Residuals:</th>          <td>   250</td>      <th>  BIC:               </th> <td>   995.8</td>\n",
       "</tr>\n",
       "<tr>\n",
       "  <th>Df Model:</th>              <td>    15</td>      <th>                     </th>     <td> </td>   \n",
       "</tr>\n",
       "<tr>\n",
       "  <th>Covariance Type:</th>      <td>nonrobust</td>    <th>                     </th>     <td> </td>   \n",
       "</tr>\n",
       "</table>\n",
       "<table class=\"simpletable\">\n",
       "<tr>\n",
       "            <td></td>              <th>coef</th>     <th>std err</th>      <th>t</th>      <th>P>|t|</th>  <th>[0.025</th>    <th>0.975]</th>  \n",
       "</tr>\n",
       "<tr>\n",
       "  <th>const</th>                <td>    8.0926</td> <td>    0.134</td> <td>   60.462</td> <td> 0.000</td> <td>    7.829</td> <td>    8.356</td>\n",
       "</tr>\n",
       "<tr>\n",
       "  <th>Prg_Elec_1_F</th>         <td>   -1.7493</td> <td>    0.352</td> <td>   -4.967</td> <td> 0.000</td> <td>   -2.443</td> <td>   -1.056</td>\n",
       "</tr>\n",
       "<tr>\n",
       "  <th>Prg_Elec_1_P</th>         <td>   -1.6882</td> <td>    0.601</td> <td>   -2.811</td> <td> 0.005</td> <td>   -2.871</td> <td>   -0.505</td>\n",
       "</tr>\n",
       "<tr>\n",
       "  <th>Inter_Disc_Elec_1_AB</th> <td>    3.2323</td> <td>    1.429</td> <td>    2.262</td> <td> 0.025</td> <td>    0.418</td> <td>    6.046</td>\n",
       "</tr>\n",
       "<tr>\n",
       "  <th>Inter_Disc_Elec_1_F</th>  <td>    2.0970</td> <td>    0.513</td> <td>    4.084</td> <td> 0.000</td> <td>    1.086</td> <td>    3.108</td>\n",
       "</tr>\n",
       "<tr>\n",
       "  <th>Core_1_F</th>             <td>   -2.7010</td> <td>    0.361</td> <td>   -7.487</td> <td> 0.000</td> <td>   -3.411</td> <td>   -1.991</td>\n",
       "</tr>\n",
       "<tr>\n",
       "  <th>Core_1_P</th>             <td>   -1.4413</td> <td>    0.331</td> <td>   -4.351</td> <td> 0.000</td> <td>   -2.094</td> <td>   -0.789</td>\n",
       "</tr>\n",
       "<tr>\n",
       "  <th>Core_2_B</th>             <td>   -1.5021</td> <td>    0.212</td> <td>   -7.092</td> <td> 0.000</td> <td>   -1.919</td> <td>   -1.085</td>\n",
       "</tr>\n",
       "<tr>\n",
       "  <th>Core_2_C</th>             <td>   -3.1237</td> <td>    0.353</td> <td>   -8.851</td> <td> 0.000</td> <td>   -3.819</td> <td>   -2.429</td>\n",
       "</tr>\n",
       "<tr>\n",
       "  <th>Core_2_F</th>             <td>   -3.8272</td> <td>    0.419</td> <td>   -9.142</td> <td> 0.000</td> <td>   -4.652</td> <td>   -3.003</td>\n",
       "</tr>\n",
       "<tr>\n",
       "  <th>Core_2_P</th>             <td>   -2.0189</td> <td>    0.400</td> <td>   -5.043</td> <td> 0.000</td> <td>   -2.807</td> <td>   -1.230</td>\n",
       "</tr>\n",
       "<tr>\n",
       "  <th>Core_3_AB</th>            <td>   -1.9121</td> <td>    1.477</td> <td>   -1.295</td> <td> 0.197</td> <td>   -4.821</td> <td>    0.997</td>\n",
       "</tr>\n",
       "<tr>\n",
       "  <th>Core_3_F</th>             <td>   -3.0474</td> <td>    0.321</td> <td>   -9.482</td> <td> 0.000</td> <td>   -3.680</td> <td>   -2.414</td>\n",
       "</tr>\n",
       "<tr>\n",
       "  <th>Core_3_P</th>             <td>   -1.9533</td> <td>    0.357</td> <td>   -5.478</td> <td> 0.000</td> <td>   -2.656</td> <td>   -1.251</td>\n",
       "</tr>\n",
       "<tr>\n",
       "  <th>Lab_1_B</th>              <td>    3.0616</td> <td>    1.188</td> <td>    2.577</td> <td> 0.011</td> <td>    0.722</td> <td>    5.402</td>\n",
       "</tr>\n",
       "<tr>\n",
       "  <th>Lab_3_P</th>              <td>   -1.7556</td> <td>    1.175</td> <td>   -1.494</td> <td> 0.136</td> <td>   -4.069</td> <td>    0.558</td>\n",
       "</tr>\n",
       "</table>\n",
       "<table class=\"simpletable\">\n",
       "<tr>\n",
       "  <th>Omnibus:</th>       <td>63.268</td> <th>  Durbin-Watson:     </th> <td>   1.971</td>\n",
       "</tr>\n",
       "<tr>\n",
       "  <th>Prob(Omnibus):</th> <td> 0.000</td> <th>  Jarque-Bera (JB):  </th> <td> 136.352</td>\n",
       "</tr>\n",
       "<tr>\n",
       "  <th>Skew:</th>          <td>-1.163</td> <th>  Prob(JB):          </th> <td>2.46e-30</td>\n",
       "</tr>\n",
       "<tr>\n",
       "  <th>Kurtosis:</th>      <td> 5.626</td> <th>  Cond. No.          </th> <td>    20.1</td>\n",
       "</tr>\n",
       "</table><br/><br/>Warnings:<br/>[1] Standard Errors assume that the covariance matrix of the errors is correctly specified."
      ],
      "text/plain": [
       "<class 'statsmodels.iolib.summary.Summary'>\n",
       "\"\"\"\n",
       "                            OLS Regression Results                            \n",
       "==============================================================================\n",
       "Dep. Variable:                    GPA   R-squared:                       0.856\n",
       "Model:                            OLS   Adj. R-squared:                  0.848\n",
       "Method:                 Least Squares   F-statistic:                     99.33\n",
       "Date:                Sun, 27 Dec 2020   Prob (F-statistic):           4.80e-96\n",
       "Time:                        16:21:25   Log-Likelihood:                -453.22\n",
       "No. Observations:                 266   AIC:                             938.4\n",
       "Df Residuals:                     250   BIC:                             995.8\n",
       "Df Model:                          15                                         \n",
       "Covariance Type:            nonrobust                                         \n",
       "========================================================================================\n",
       "                           coef    std err          t      P>|t|      [0.025      0.975]\n",
       "----------------------------------------------------------------------------------------\n",
       "const                    8.0926      0.134     60.462      0.000       7.829       8.356\n",
       "Prg_Elec_1_F            -1.7493      0.352     -4.967      0.000      -2.443      -1.056\n",
       "Prg_Elec_1_P            -1.6882      0.601     -2.811      0.005      -2.871      -0.505\n",
       "Inter_Disc_Elec_1_AB     3.2323      1.429      2.262      0.025       0.418       6.046\n",
       "Inter_Disc_Elec_1_F      2.0970      0.513      4.084      0.000       1.086       3.108\n",
       "Core_1_F                -2.7010      0.361     -7.487      0.000      -3.411      -1.991\n",
       "Core_1_P                -1.4413      0.331     -4.351      0.000      -2.094      -0.789\n",
       "Core_2_B                -1.5021      0.212     -7.092      0.000      -1.919      -1.085\n",
       "Core_2_C                -3.1237      0.353     -8.851      0.000      -3.819      -2.429\n",
       "Core_2_F                -3.8272      0.419     -9.142      0.000      -4.652      -3.003\n",
       "Core_2_P                -2.0189      0.400     -5.043      0.000      -2.807      -1.230\n",
       "Core_3_AB               -1.9121      1.477     -1.295      0.197      -4.821       0.997\n",
       "Core_3_F                -3.0474      0.321     -9.482      0.000      -3.680      -2.414\n",
       "Core_3_P                -1.9533      0.357     -5.478      0.000      -2.656      -1.251\n",
       "Lab_1_B                  3.0616      1.188      2.577      0.011       0.722       5.402\n",
       "Lab_3_P                 -1.7556      1.175     -1.494      0.136      -4.069       0.558\n",
       "==============================================================================\n",
       "Omnibus:                       63.268   Durbin-Watson:                   1.971\n",
       "Prob(Omnibus):                  0.000   Jarque-Bera (JB):              136.352\n",
       "Skew:                          -1.163   Prob(JB):                     2.46e-30\n",
       "Kurtosis:                       5.626   Cond. No.                         20.1\n",
       "==============================================================================\n",
       "\n",
       "Warnings:\n",
       "[1] Standard Errors assume that the covariance matrix of the errors is correctly specified.\n",
       "\"\"\""
      ]
     },
     "execution_count": 40,
     "metadata": {},
     "output_type": "execute_result"
    }
   ],
   "source": [
    "import statsmodels.api as sm\n",
    "X_train_rfe = sm.add_constant(X_train_rfe)\n",
    "\n",
    "lm0 = sm.OLS(y_train, X_train_rfe).fit()\n",
    "lm0.summary()"
   ]
  },
  {
   "cell_type": "code",
   "execution_count": 41,
   "metadata": {},
   "outputs": [],
   "source": [
    "# Drop Core_3_AB as p-value = 0.197\n",
    "X_train_new = X_train_rfe.drop('Core_3_AB',1)"
   ]
  },
  {
   "cell_type": "code",
   "execution_count": 42,
   "metadata": {
    "scrolled": true
   },
   "outputs": [
    {
     "data": {
      "text/html": [
       "<table class=\"simpletable\">\n",
       "<caption>OLS Regression Results</caption>\n",
       "<tr>\n",
       "  <th>Dep. Variable:</th>           <td>GPA</td>       <th>  R-squared:         </th> <td>   0.855</td>\n",
       "</tr>\n",
       "<tr>\n",
       "  <th>Model:</th>                   <td>OLS</td>       <th>  Adj. R-squared:    </th> <td>   0.847</td>\n",
       "</tr>\n",
       "<tr>\n",
       "  <th>Method:</th>             <td>Least Squares</td>  <th>  F-statistic:       </th> <td>   106.0</td>\n",
       "</tr>\n",
       "<tr>\n",
       "  <th>Date:</th>             <td>Sun, 27 Dec 2020</td> <th>  Prob (F-statistic):</th> <td>1.05e-96</td>\n",
       "</tr>\n",
       "<tr>\n",
       "  <th>Time:</th>                 <td>16:21:26</td>     <th>  Log-Likelihood:    </th> <td> -454.11</td>\n",
       "</tr>\n",
       "<tr>\n",
       "  <th>No. Observations:</th>      <td>   266</td>      <th>  AIC:               </th> <td>   938.2</td>\n",
       "</tr>\n",
       "<tr>\n",
       "  <th>Df Residuals:</th>          <td>   251</td>      <th>  BIC:               </th> <td>   992.0</td>\n",
       "</tr>\n",
       "<tr>\n",
       "  <th>Df Model:</th>              <td>    14</td>      <th>                     </th>     <td> </td>   \n",
       "</tr>\n",
       "<tr>\n",
       "  <th>Covariance Type:</th>      <td>nonrobust</td>    <th>                     </th>     <td> </td>   \n",
       "</tr>\n",
       "</table>\n",
       "<table class=\"simpletable\">\n",
       "<tr>\n",
       "            <td></td>              <th>coef</th>     <th>std err</th>      <th>t</th>      <th>P>|t|</th>  <th>[0.025</th>    <th>0.975]</th>  \n",
       "</tr>\n",
       "<tr>\n",
       "  <th>const</th>                <td>    8.0926</td> <td>    0.134</td> <td>   60.381</td> <td> 0.000</td> <td>    7.829</td> <td>    8.357</td>\n",
       "</tr>\n",
       "<tr>\n",
       "  <th>Prg_Elec_1_F</th>         <td>   -1.7692</td> <td>    0.352</td> <td>   -5.021</td> <td> 0.000</td> <td>   -2.463</td> <td>   -1.075</td>\n",
       "</tr>\n",
       "<tr>\n",
       "  <th>Prg_Elec_1_P</th>         <td>   -1.6634</td> <td>    0.601</td> <td>   -2.767</td> <td> 0.006</td> <td>   -2.847</td> <td>   -0.480</td>\n",
       "</tr>\n",
       "<tr>\n",
       "  <th>Inter_Disc_Elec_1_AB</th> <td>    3.2614</td> <td>    1.431</td> <td>    2.280</td> <td> 0.023</td> <td>    0.444</td> <td>    6.079</td>\n",
       "</tr>\n",
       "<tr>\n",
       "  <th>Inter_Disc_Elec_1_F</th>  <td>    1.9464</td> <td>    0.501</td> <td>    3.887</td> <td> 0.000</td> <td>    0.960</td> <td>    2.933</td>\n",
       "</tr>\n",
       "<tr>\n",
       "  <th>Core_1_F</th>             <td>   -2.7503</td> <td>    0.359</td> <td>   -7.657</td> <td> 0.000</td> <td>   -3.458</td> <td>   -2.043</td>\n",
       "</tr>\n",
       "<tr>\n",
       "  <th>Core_1_P</th>             <td>   -1.4407</td> <td>    0.332</td> <td>   -4.343</td> <td> 0.000</td> <td>   -2.094</td> <td>   -0.787</td>\n",
       "</tr>\n",
       "<tr>\n",
       "  <th>Core_2_B</th>             <td>   -1.5096</td> <td>    0.212</td> <td>   -7.121</td> <td> 0.000</td> <td>   -1.927</td> <td>   -1.092</td>\n",
       "</tr>\n",
       "<tr>\n",
       "  <th>Core_2_C</th>             <td>   -3.1439</td> <td>    0.353</td> <td>   -8.905</td> <td> 0.000</td> <td>   -3.839</td> <td>   -2.449</td>\n",
       "</tr>\n",
       "<tr>\n",
       "  <th>Core_2_F</th>             <td>   -3.8710</td> <td>    0.418</td> <td>   -9.264</td> <td> 0.000</td> <td>   -4.694</td> <td>   -3.048</td>\n",
       "</tr>\n",
       "<tr>\n",
       "  <th>Core_2_P</th>             <td>   -2.0388</td> <td>    0.401</td> <td>   -5.089</td> <td> 0.000</td> <td>   -2.828</td> <td>   -1.250</td>\n",
       "</tr>\n",
       "<tr>\n",
       "  <th>Core_3_F</th>             <td>   -2.9636</td> <td>    0.315</td> <td>   -9.402</td> <td> 0.000</td> <td>   -3.584</td> <td>   -2.343</td>\n",
       "</tr>\n",
       "<tr>\n",
       "  <th>Core_3_P</th>             <td>   -1.9029</td> <td>    0.355</td> <td>   -5.361</td> <td> 0.000</td> <td>   -2.602</td> <td>   -1.204</td>\n",
       "</tr>\n",
       "<tr>\n",
       "  <th>Lab_1_B</th>              <td>    3.1624</td> <td>    1.187</td> <td>    2.664</td> <td> 0.008</td> <td>    0.824</td> <td>    5.500</td>\n",
       "</tr>\n",
       "<tr>\n",
       "  <th>Lab_3_P</th>              <td>   -1.7485</td> <td>    1.176</td> <td>   -1.486</td> <td> 0.138</td> <td>   -4.065</td> <td>    0.568</td>\n",
       "</tr>\n",
       "</table>\n",
       "<table class=\"simpletable\">\n",
       "<tr>\n",
       "  <th>Omnibus:</th>       <td>61.140</td> <th>  Durbin-Watson:     </th> <td>   1.975</td>\n",
       "</tr>\n",
       "<tr>\n",
       "  <th>Prob(Omnibus):</th> <td> 0.000</td> <th>  Jarque-Bera (JB):  </th> <td> 127.760</td>\n",
       "</tr>\n",
       "<tr>\n",
       "  <th>Skew:</th>          <td>-1.139</td> <th>  Prob(JB):          </th> <td>1.81e-28</td>\n",
       "</tr>\n",
       "<tr>\n",
       "  <th>Kurtosis:</th>      <td> 5.518</td> <th>  Cond. No.          </th> <td>    19.8</td>\n",
       "</tr>\n",
       "</table><br/><br/>Warnings:<br/>[1] Standard Errors assume that the covariance matrix of the errors is correctly specified."
      ],
      "text/plain": [
       "<class 'statsmodels.iolib.summary.Summary'>\n",
       "\"\"\"\n",
       "                            OLS Regression Results                            \n",
       "==============================================================================\n",
       "Dep. Variable:                    GPA   R-squared:                       0.855\n",
       "Model:                            OLS   Adj. R-squared:                  0.847\n",
       "Method:                 Least Squares   F-statistic:                     106.0\n",
       "Date:                Sun, 27 Dec 2020   Prob (F-statistic):           1.05e-96\n",
       "Time:                        16:21:26   Log-Likelihood:                -454.11\n",
       "No. Observations:                 266   AIC:                             938.2\n",
       "Df Residuals:                     251   BIC:                             992.0\n",
       "Df Model:                          14                                         \n",
       "Covariance Type:            nonrobust                                         \n",
       "========================================================================================\n",
       "                           coef    std err          t      P>|t|      [0.025      0.975]\n",
       "----------------------------------------------------------------------------------------\n",
       "const                    8.0926      0.134     60.381      0.000       7.829       8.357\n",
       "Prg_Elec_1_F            -1.7692      0.352     -5.021      0.000      -2.463      -1.075\n",
       "Prg_Elec_1_P            -1.6634      0.601     -2.767      0.006      -2.847      -0.480\n",
       "Inter_Disc_Elec_1_AB     3.2614      1.431      2.280      0.023       0.444       6.079\n",
       "Inter_Disc_Elec_1_F      1.9464      0.501      3.887      0.000       0.960       2.933\n",
       "Core_1_F                -2.7503      0.359     -7.657      0.000      -3.458      -2.043\n",
       "Core_1_P                -1.4407      0.332     -4.343      0.000      -2.094      -0.787\n",
       "Core_2_B                -1.5096      0.212     -7.121      0.000      -1.927      -1.092\n",
       "Core_2_C                -3.1439      0.353     -8.905      0.000      -3.839      -2.449\n",
       "Core_2_F                -3.8710      0.418     -9.264      0.000      -4.694      -3.048\n",
       "Core_2_P                -2.0388      0.401     -5.089      0.000      -2.828      -1.250\n",
       "Core_3_F                -2.9636      0.315     -9.402      0.000      -3.584      -2.343\n",
       "Core_3_P                -1.9029      0.355     -5.361      0.000      -2.602      -1.204\n",
       "Lab_1_B                  3.1624      1.187      2.664      0.008       0.824       5.500\n",
       "Lab_3_P                 -1.7485      1.176     -1.486      0.138      -4.065       0.568\n",
       "==============================================================================\n",
       "Omnibus:                       61.140   Durbin-Watson:                   1.975\n",
       "Prob(Omnibus):                  0.000   Jarque-Bera (JB):              127.760\n",
       "Skew:                          -1.139   Prob(JB):                     1.81e-28\n",
       "Kurtosis:                       5.518   Cond. No.                         19.8\n",
       "==============================================================================\n",
       "\n",
       "Warnings:\n",
       "[1] Standard Errors assume that the covariance matrix of the errors is correctly specified.\n",
       "\"\"\""
      ]
     },
     "execution_count": 42,
     "metadata": {},
     "output_type": "execute_result"
    }
   ],
   "source": [
    "lm1 = sm.add_constant(X_train_new)\n",
    "lm1 = sm.OLS(y_train, X_train_new).fit()\n",
    "lm1.summary()"
   ]
  },
  {
   "cell_type": "code",
   "execution_count": 43,
   "metadata": {
    "scrolled": true
   },
   "outputs": [
    {
     "data": {
      "text/html": [
       "<table class=\"simpletable\">\n",
       "<caption>OLS Regression Results</caption>\n",
       "<tr>\n",
       "  <th>Dep. Variable:</th>           <td>GPA</td>       <th>  R-squared:         </th> <td>   0.854</td>\n",
       "</tr>\n",
       "<tr>\n",
       "  <th>Model:</th>                   <td>OLS</td>       <th>  Adj. R-squared:    </th> <td>   0.847</td>\n",
       "</tr>\n",
       "<tr>\n",
       "  <th>Method:</th>             <td>Least Squares</td>  <th>  F-statistic:       </th> <td>   113.5</td>\n",
       "</tr>\n",
       "<tr>\n",
       "  <th>Date:</th>             <td>Sun, 27 Dec 2020</td> <th>  Prob (F-statistic):</th> <td>2.86e-97</td>\n",
       "</tr>\n",
       "<tr>\n",
       "  <th>Time:</th>                 <td>16:21:26</td>     <th>  Log-Likelihood:    </th> <td> -455.27</td>\n",
       "</tr>\n",
       "<tr>\n",
       "  <th>No. Observations:</th>      <td>   266</td>      <th>  AIC:               </th> <td>   938.5</td>\n",
       "</tr>\n",
       "<tr>\n",
       "  <th>Df Residuals:</th>          <td>   252</td>      <th>  BIC:               </th> <td>   988.7</td>\n",
       "</tr>\n",
       "<tr>\n",
       "  <th>Df Model:</th>              <td>    13</td>      <th>                     </th>     <td> </td>   \n",
       "</tr>\n",
       "<tr>\n",
       "  <th>Covariance Type:</th>      <td>nonrobust</td>    <th>                     </th>     <td> </td>   \n",
       "</tr>\n",
       "</table>\n",
       "<table class=\"simpletable\">\n",
       "<tr>\n",
       "            <td></td>              <th>coef</th>     <th>std err</th>      <th>t</th>      <th>P>|t|</th>  <th>[0.025</th>    <th>0.975]</th>  \n",
       "</tr>\n",
       "<tr>\n",
       "  <th>const</th>                <td>    8.0926</td> <td>    0.134</td> <td>   60.237</td> <td> 0.000</td> <td>    7.828</td> <td>    8.357</td>\n",
       "</tr>\n",
       "<tr>\n",
       "  <th>Prg_Elec_1_F</th>         <td>   -1.7129</td> <td>    0.351</td> <td>   -4.878</td> <td> 0.000</td> <td>   -2.404</td> <td>   -1.021</td>\n",
       "</tr>\n",
       "<tr>\n",
       "  <th>Prg_Elec_1_P</th>         <td>   -1.6328</td> <td>    0.602</td> <td>   -2.712</td> <td> 0.007</td> <td>   -2.819</td> <td>   -0.447</td>\n",
       "</tr>\n",
       "<tr>\n",
       "  <th>Inter_Disc_Elec_1_AB</th> <td>    3.1921</td> <td>    1.433</td> <td>    2.227</td> <td> 0.027</td> <td>    0.369</td> <td>    6.015</td>\n",
       "</tr>\n",
       "<tr>\n",
       "  <th>Inter_Disc_Elec_1_F</th>  <td>    1.8223</td> <td>    0.495</td> <td>    3.682</td> <td> 0.000</td> <td>    0.847</td> <td>    2.797</td>\n",
       "</tr>\n",
       "<tr>\n",
       "  <th>Core_1_F</th>             <td>   -2.7215</td> <td>    0.360</td> <td>   -7.569</td> <td> 0.000</td> <td>   -3.430</td> <td>   -2.013</td>\n",
       "</tr>\n",
       "<tr>\n",
       "  <th>Core_1_P</th>             <td>   -1.4895</td> <td>    0.331</td> <td>   -4.502</td> <td> 0.000</td> <td>   -2.141</td> <td>   -0.838</td>\n",
       "</tr>\n",
       "<tr>\n",
       "  <th>Core_2_B</th>             <td>   -1.5076</td> <td>    0.213</td> <td>   -7.094</td> <td> 0.000</td> <td>   -1.926</td> <td>   -1.089</td>\n",
       "</tr>\n",
       "<tr>\n",
       "  <th>Core_2_C</th>             <td>   -3.1276</td> <td>    0.354</td> <td>   -8.842</td> <td> 0.000</td> <td>   -3.824</td> <td>   -2.431</td>\n",
       "</tr>\n",
       "<tr>\n",
       "  <th>Core_2_F</th>             <td>   -3.8408</td> <td>    0.418</td> <td>   -9.181</td> <td> 0.000</td> <td>   -4.665</td> <td>   -3.017</td>\n",
       "</tr>\n",
       "<tr>\n",
       "  <th>Core_2_P</th>             <td>   -2.1216</td> <td>    0.398</td> <td>   -5.335</td> <td> 0.000</td> <td>   -2.905</td> <td>   -1.338</td>\n",
       "</tr>\n",
       "<tr>\n",
       "  <th>Core_3_F</th>             <td>   -3.0095</td> <td>    0.314</td> <td>   -9.571</td> <td> 0.000</td> <td>   -3.629</td> <td>   -2.390</td>\n",
       "</tr>\n",
       "<tr>\n",
       "  <th>Core_3_P</th>             <td>   -1.8975</td> <td>    0.356</td> <td>   -5.333</td> <td> 0.000</td> <td>   -2.598</td> <td>   -1.197</td>\n",
       "</tr>\n",
       "<tr>\n",
       "  <th>Lab_1_B</th>              <td>    2.2810</td> <td>    1.031</td> <td>    2.213</td> <td> 0.028</td> <td>    0.251</td> <td>    4.311</td>\n",
       "</tr>\n",
       "</table>\n",
       "<table class=\"simpletable\">\n",
       "<tr>\n",
       "  <th>Omnibus:</th>       <td>60.430</td> <th>  Durbin-Watson:     </th> <td>   1.966</td>\n",
       "</tr>\n",
       "<tr>\n",
       "  <th>Prob(Omnibus):</th> <td> 0.000</td> <th>  Jarque-Bera (JB):  </th> <td> 124.413</td>\n",
       "</tr>\n",
       "<tr>\n",
       "  <th>Skew:</th>          <td>-1.133</td> <th>  Prob(JB):          </th> <td>9.64e-28</td>\n",
       "</tr>\n",
       "<tr>\n",
       "  <th>Kurtosis:</th>      <td> 5.468</td> <th>  Cond. No.          </th> <td>    19.0</td>\n",
       "</tr>\n",
       "</table><br/><br/>Warnings:<br/>[1] Standard Errors assume that the covariance matrix of the errors is correctly specified."
      ],
      "text/plain": [
       "<class 'statsmodels.iolib.summary.Summary'>\n",
       "\"\"\"\n",
       "                            OLS Regression Results                            \n",
       "==============================================================================\n",
       "Dep. Variable:                    GPA   R-squared:                       0.854\n",
       "Model:                            OLS   Adj. R-squared:                  0.847\n",
       "Method:                 Least Squares   F-statistic:                     113.5\n",
       "Date:                Sun, 27 Dec 2020   Prob (F-statistic):           2.86e-97\n",
       "Time:                        16:21:26   Log-Likelihood:                -455.27\n",
       "No. Observations:                 266   AIC:                             938.5\n",
       "Df Residuals:                     252   BIC:                             988.7\n",
       "Df Model:                          13                                         \n",
       "Covariance Type:            nonrobust                                         \n",
       "========================================================================================\n",
       "                           coef    std err          t      P>|t|      [0.025      0.975]\n",
       "----------------------------------------------------------------------------------------\n",
       "const                    8.0926      0.134     60.237      0.000       7.828       8.357\n",
       "Prg_Elec_1_F            -1.7129      0.351     -4.878      0.000      -2.404      -1.021\n",
       "Prg_Elec_1_P            -1.6328      0.602     -2.712      0.007      -2.819      -0.447\n",
       "Inter_Disc_Elec_1_AB     3.1921      1.433      2.227      0.027       0.369       6.015\n",
       "Inter_Disc_Elec_1_F      1.8223      0.495      3.682      0.000       0.847       2.797\n",
       "Core_1_F                -2.7215      0.360     -7.569      0.000      -3.430      -2.013\n",
       "Core_1_P                -1.4895      0.331     -4.502      0.000      -2.141      -0.838\n",
       "Core_2_B                -1.5076      0.213     -7.094      0.000      -1.926      -1.089\n",
       "Core_2_C                -3.1276      0.354     -8.842      0.000      -3.824      -2.431\n",
       "Core_2_F                -3.8408      0.418     -9.181      0.000      -4.665      -3.017\n",
       "Core_2_P                -2.1216      0.398     -5.335      0.000      -2.905      -1.338\n",
       "Core_3_F                -3.0095      0.314     -9.571      0.000      -3.629      -2.390\n",
       "Core_3_P                -1.8975      0.356     -5.333      0.000      -2.598      -1.197\n",
       "Lab_1_B                  2.2810      1.031      2.213      0.028       0.251       4.311\n",
       "==============================================================================\n",
       "Omnibus:                       60.430   Durbin-Watson:                   1.966\n",
       "Prob(Omnibus):                  0.000   Jarque-Bera (JB):              124.413\n",
       "Skew:                          -1.133   Prob(JB):                     9.64e-28\n",
       "Kurtosis:                       5.468   Cond. No.                         19.0\n",
       "==============================================================================\n",
       "\n",
       "Warnings:\n",
       "[1] Standard Errors assume that the covariance matrix of the errors is correctly specified.\n",
       "\"\"\""
      ]
     },
     "execution_count": 43,
     "metadata": {},
     "output_type": "execute_result"
    }
   ],
   "source": [
    "# Drop Lab_3_P as p-value=0.138\n",
    "X_train_new = X_train_new.drop('Lab_3_P',1)\n",
    "\n",
    "lm2 = sm.add_constant(X_train_new)\n",
    "lm2 = sm.OLS(y_train, X_train_new).fit()\n",
    "lm2.summary()"
   ]
  },
  {
   "cell_type": "code",
   "execution_count": 44,
   "metadata": {
    "scrolled": true
   },
   "outputs": [
    {
     "data": {
      "text/html": [
       "<table class=\"simpletable\">\n",
       "<caption>OLS Regression Results</caption>\n",
       "<tr>\n",
       "  <th>Dep. Variable:</th>           <td>GPA</td>       <th>  R-squared:         </th> <td>   0.851</td>\n",
       "</tr>\n",
       "<tr>\n",
       "  <th>Model:</th>                   <td>OLS</td>       <th>  Adj. R-squared:    </th> <td>   0.844</td>\n",
       "</tr>\n",
       "<tr>\n",
       "  <th>Method:</th>             <td>Least Squares</td>  <th>  F-statistic:       </th> <td>   120.7</td>\n",
       "</tr>\n",
       "<tr>\n",
       "  <th>Date:</th>             <td>Sun, 27 Dec 2020</td> <th>  Prob (F-statistic):</th> <td>2.82e-97</td>\n",
       "</tr>\n",
       "<tr>\n",
       "  <th>Time:</th>                 <td>16:21:26</td>     <th>  Log-Likelihood:    </th> <td> -457.83</td>\n",
       "</tr>\n",
       "<tr>\n",
       "  <th>No. Observations:</th>      <td>   266</td>      <th>  AIC:               </th> <td>   941.7</td>\n",
       "</tr>\n",
       "<tr>\n",
       "  <th>Df Residuals:</th>          <td>   253</td>      <th>  BIC:               </th> <td>   988.2</td>\n",
       "</tr>\n",
       "<tr>\n",
       "  <th>Df Model:</th>              <td>    12</td>      <th>                     </th>     <td> </td>   \n",
       "</tr>\n",
       "<tr>\n",
       "  <th>Covariance Type:</th>      <td>nonrobust</td>    <th>                     </th>     <td> </td>   \n",
       "</tr>\n",
       "</table>\n",
       "<table class=\"simpletable\">\n",
       "<tr>\n",
       "            <td></td>              <th>coef</th>     <th>std err</th>      <th>t</th>      <th>P>|t|</th>  <th>[0.025</th>    <th>0.975]</th>  \n",
       "</tr>\n",
       "<tr>\n",
       "  <th>const</th>                <td>    8.0926</td> <td>    0.135</td> <td>   59.778</td> <td> 0.000</td> <td>    7.826</td> <td>    8.359</td>\n",
       "</tr>\n",
       "<tr>\n",
       "  <th>Prg_Elec_1_F</th>         <td>   -1.6595</td> <td>    0.353</td> <td>   -4.701</td> <td> 0.000</td> <td>   -2.355</td> <td>   -0.964</td>\n",
       "</tr>\n",
       "<tr>\n",
       "  <th>Prg_Elec_1_P</th>         <td>   -1.6789</td> <td>    0.606</td> <td>   -2.768</td> <td> 0.006</td> <td>   -2.873</td> <td>   -0.485</td>\n",
       "</tr>\n",
       "<tr>\n",
       "  <th>Inter_Disc_Elec_1_AB</th> <td>    2.9636</td> <td>    1.441</td> <td>    2.057</td> <td> 0.041</td> <td>    0.127</td> <td>    5.800</td>\n",
       "</tr>\n",
       "<tr>\n",
       "  <th>Inter_Disc_Elec_1_F</th>  <td>    1.8591</td> <td>    0.498</td> <td>    3.730</td> <td> 0.000</td> <td>    0.877</td> <td>    2.841</td>\n",
       "</tr>\n",
       "<tr>\n",
       "  <th>Core_1_F</th>             <td>   -2.6172</td> <td>    0.359</td> <td>   -7.287</td> <td> 0.000</td> <td>   -3.325</td> <td>   -1.910</td>\n",
       "</tr>\n",
       "<tr>\n",
       "  <th>Core_1_P</th>             <td>   -1.5273</td> <td>    0.333</td> <td>   -4.587</td> <td> 0.000</td> <td>   -2.183</td> <td>   -0.872</td>\n",
       "</tr>\n",
       "<tr>\n",
       "  <th>Core_2_B</th>             <td>   -1.5137</td> <td>    0.214</td> <td>   -7.069</td> <td> 0.000</td> <td>   -1.935</td> <td>   -1.092</td>\n",
       "</tr>\n",
       "<tr>\n",
       "  <th>Core_2_C</th>             <td>   -3.1609</td> <td>    0.356</td> <td>   -8.876</td> <td> 0.000</td> <td>   -3.862</td> <td>   -2.460</td>\n",
       "</tr>\n",
       "<tr>\n",
       "  <th>Core_2_F</th>             <td>   -3.8131</td> <td>    0.421</td> <td>   -9.049</td> <td> 0.000</td> <td>   -4.643</td> <td>   -2.983</td>\n",
       "</tr>\n",
       "<tr>\n",
       "  <th>Core_2_P</th>             <td>   -2.1624</td> <td>    0.400</td> <td>   -5.402</td> <td> 0.000</td> <td>   -2.951</td> <td>   -1.374</td>\n",
       "</tr>\n",
       "<tr>\n",
       "  <th>Core_3_F</th>             <td>   -2.9663</td> <td>    0.316</td> <td>   -9.380</td> <td> 0.000</td> <td>   -3.589</td> <td>   -2.343</td>\n",
       "</tr>\n",
       "<tr>\n",
       "  <th>Core_3_P</th>             <td>   -1.9125</td> <td>    0.358</td> <td>   -5.336</td> <td> 0.000</td> <td>   -2.618</td> <td>   -1.207</td>\n",
       "</tr>\n",
       "</table>\n",
       "<table class=\"simpletable\">\n",
       "<tr>\n",
       "  <th>Omnibus:</th>       <td>60.486</td> <th>  Durbin-Watson:     </th> <td>   1.988</td>\n",
       "</tr>\n",
       "<tr>\n",
       "  <th>Prob(Omnibus):</th> <td> 0.000</td> <th>  Jarque-Bera (JB):  </th> <td> 123.676</td>\n",
       "</tr>\n",
       "<tr>\n",
       "  <th>Skew:</th>          <td>-1.137</td> <th>  Prob(JB):          </th> <td>1.39e-27</td>\n",
       "</tr>\n",
       "<tr>\n",
       "  <th>Kurtosis:</th>      <td> 5.447</td> <th>  Cond. No.          </th> <td>    18.9</td>\n",
       "</tr>\n",
       "</table><br/><br/>Warnings:<br/>[1] Standard Errors assume that the covariance matrix of the errors is correctly specified."
      ],
      "text/plain": [
       "<class 'statsmodels.iolib.summary.Summary'>\n",
       "\"\"\"\n",
       "                            OLS Regression Results                            \n",
       "==============================================================================\n",
       "Dep. Variable:                    GPA   R-squared:                       0.851\n",
       "Model:                            OLS   Adj. R-squared:                  0.844\n",
       "Method:                 Least Squares   F-statistic:                     120.7\n",
       "Date:                Sun, 27 Dec 2020   Prob (F-statistic):           2.82e-97\n",
       "Time:                        16:21:26   Log-Likelihood:                -457.83\n",
       "No. Observations:                 266   AIC:                             941.7\n",
       "Df Residuals:                     253   BIC:                             988.2\n",
       "Df Model:                          12                                         \n",
       "Covariance Type:            nonrobust                                         \n",
       "========================================================================================\n",
       "                           coef    std err          t      P>|t|      [0.025      0.975]\n",
       "----------------------------------------------------------------------------------------\n",
       "const                    8.0926      0.135     59.778      0.000       7.826       8.359\n",
       "Prg_Elec_1_F            -1.6595      0.353     -4.701      0.000      -2.355      -0.964\n",
       "Prg_Elec_1_P            -1.6789      0.606     -2.768      0.006      -2.873      -0.485\n",
       "Inter_Disc_Elec_1_AB     2.9636      1.441      2.057      0.041       0.127       5.800\n",
       "Inter_Disc_Elec_1_F      1.8591      0.498      3.730      0.000       0.877       2.841\n",
       "Core_1_F                -2.6172      0.359     -7.287      0.000      -3.325      -1.910\n",
       "Core_1_P                -1.5273      0.333     -4.587      0.000      -2.183      -0.872\n",
       "Core_2_B                -1.5137      0.214     -7.069      0.000      -1.935      -1.092\n",
       "Core_2_C                -3.1609      0.356     -8.876      0.000      -3.862      -2.460\n",
       "Core_2_F                -3.8131      0.421     -9.049      0.000      -4.643      -2.983\n",
       "Core_2_P                -2.1624      0.400     -5.402      0.000      -2.951      -1.374\n",
       "Core_3_F                -2.9663      0.316     -9.380      0.000      -3.589      -2.343\n",
       "Core_3_P                -1.9125      0.358     -5.336      0.000      -2.618      -1.207\n",
       "==============================================================================\n",
       "Omnibus:                       60.486   Durbin-Watson:                   1.988\n",
       "Prob(Omnibus):                  0.000   Jarque-Bera (JB):              123.676\n",
       "Skew:                          -1.137   Prob(JB):                     1.39e-27\n",
       "Kurtosis:                       5.447   Cond. No.                         18.9\n",
       "==============================================================================\n",
       "\n",
       "Warnings:\n",
       "[1] Standard Errors assume that the covariance matrix of the errors is correctly specified.\n",
       "\"\"\""
      ]
     },
     "execution_count": 44,
     "metadata": {},
     "output_type": "execute_result"
    }
   ],
   "source": [
    "# Drop Lab_1_B as p-value=0.028\n",
    "X_train_new = X_train_new.drop('Lab_1_B',1)\n",
    "\n",
    "lm3 = sm.add_constant(X_train_new)\n",
    "lm3 = sm.OLS(y_train, X_train_new).fit()\n",
    "lm3.summary()"
   ]
  },
  {
   "cell_type": "code",
   "execution_count": 45,
   "metadata": {
    "scrolled": true
   },
   "outputs": [
    {
     "data": {
      "text/html": [
       "<table class=\"simpletable\">\n",
       "<caption>OLS Regression Results</caption>\n",
       "<tr>\n",
       "  <th>Dep. Variable:</th>           <td>GPA</td>       <th>  R-squared:         </th> <td>   0.849</td>\n",
       "</tr>\n",
       "<tr>\n",
       "  <th>Model:</th>                   <td>OLS</td>       <th>  Adj. R-squared:    </th> <td>   0.842</td>\n",
       "</tr>\n",
       "<tr>\n",
       "  <th>Method:</th>             <td>Least Squares</td>  <th>  F-statistic:       </th> <td>   129.6</td>\n",
       "</tr>\n",
       "<tr>\n",
       "  <th>Date:</th>             <td>Sun, 27 Dec 2020</td> <th>  Prob (F-statistic):</th> <td>1.95e-97</td>\n",
       "</tr>\n",
       "<tr>\n",
       "  <th>Time:</th>                 <td>16:21:26</td>     <th>  Log-Likelihood:    </th> <td> -460.04</td>\n",
       "</tr>\n",
       "<tr>\n",
       "  <th>No. Observations:</th>      <td>   266</td>      <th>  AIC:               </th> <td>   944.1</td>\n",
       "</tr>\n",
       "<tr>\n",
       "  <th>Df Residuals:</th>          <td>   254</td>      <th>  BIC:               </th> <td>   987.1</td>\n",
       "</tr>\n",
       "<tr>\n",
       "  <th>Df Model:</th>              <td>    11</td>      <th>                     </th>     <td> </td>   \n",
       "</tr>\n",
       "<tr>\n",
       "  <th>Covariance Type:</th>      <td>nonrobust</td>    <th>                     </th>     <td> </td>   \n",
       "</tr>\n",
       "</table>\n",
       "<table class=\"simpletable\">\n",
       "<tr>\n",
       "           <td></td>              <th>coef</th>     <th>std err</th>      <th>t</th>      <th>P>|t|</th>  <th>[0.025</th>    <th>0.975]</th>  \n",
       "</tr>\n",
       "<tr>\n",
       "  <th>const</th>               <td>    8.0926</td> <td>    0.136</td> <td>   59.401</td> <td> 0.000</td> <td>    7.824</td> <td>    8.361</td>\n",
       "</tr>\n",
       "<tr>\n",
       "  <th>Prg_Elec_1_F</th>        <td>   -1.6100</td> <td>    0.354</td> <td>   -4.543</td> <td> 0.000</td> <td>   -2.308</td> <td>   -0.912</td>\n",
       "</tr>\n",
       "<tr>\n",
       "  <th>Prg_Elec_1_P</th>        <td>   -1.6927</td> <td>    0.610</td> <td>   -2.774</td> <td> 0.006</td> <td>   -2.894</td> <td>   -0.491</td>\n",
       "</tr>\n",
       "<tr>\n",
       "  <th>Inter_Disc_Elec_1_F</th> <td>    1.7039</td> <td>    0.496</td> <td>    3.436</td> <td> 0.001</td> <td>    0.727</td> <td>    2.680</td>\n",
       "</tr>\n",
       "<tr>\n",
       "  <th>Core_1_F</th>            <td>   -2.5257</td> <td>    0.359</td> <td>   -7.042</td> <td> 0.000</td> <td>   -3.232</td> <td>   -1.819</td>\n",
       "</tr>\n",
       "<tr>\n",
       "  <th>Core_1_P</th>            <td>   -1.5479</td> <td>    0.335</td> <td>   -4.622</td> <td> 0.000</td> <td>   -2.207</td> <td>   -0.888</td>\n",
       "</tr>\n",
       "<tr>\n",
       "  <th>Core_2_B</th>            <td>   -1.5205</td> <td>    0.215</td> <td>   -7.057</td> <td> 0.000</td> <td>   -1.945</td> <td>   -1.096</td>\n",
       "</tr>\n",
       "<tr>\n",
       "  <th>Core_2_C</th>            <td>   -3.1873</td> <td>    0.358</td> <td>   -8.899</td> <td> 0.000</td> <td>   -3.893</td> <td>   -2.482</td>\n",
       "</tr>\n",
       "<tr>\n",
       "  <th>Core_2_F</th>            <td>   -3.7717</td> <td>    0.424</td> <td>   -8.905</td> <td> 0.000</td> <td>   -4.606</td> <td>   -2.938</td>\n",
       "</tr>\n",
       "<tr>\n",
       "  <th>Core_2_P</th>            <td>   -2.2049</td> <td>    0.402</td> <td>   -5.481</td> <td> 0.000</td> <td>   -2.997</td> <td>   -1.413</td>\n",
       "</tr>\n",
       "<tr>\n",
       "  <th>Core_3_F</th>            <td>   -2.9334</td> <td>    0.318</td> <td>   -9.229</td> <td> 0.000</td> <td>   -3.559</td> <td>   -2.307</td>\n",
       "</tr>\n",
       "<tr>\n",
       "  <th>Core_3_P</th>            <td>   -1.9195</td> <td>    0.361</td> <td>   -5.322</td> <td> 0.000</td> <td>   -2.630</td> <td>   -1.209</td>\n",
       "</tr>\n",
       "</table>\n",
       "<table class=\"simpletable\">\n",
       "<tr>\n",
       "  <th>Omnibus:</th>       <td>60.815</td> <th>  Durbin-Watson:     </th> <td>   1.969</td>\n",
       "</tr>\n",
       "<tr>\n",
       "  <th>Prob(Omnibus):</th> <td> 0.000</td> <th>  Jarque-Bera (JB):  </th> <td> 123.133</td>\n",
       "</tr>\n",
       "<tr>\n",
       "  <th>Skew:</th>          <td>-1.148</td> <th>  Prob(JB):          </th> <td>1.83e-27</td>\n",
       "</tr>\n",
       "<tr>\n",
       "  <th>Kurtosis:</th>      <td> 5.416</td> <th>  Cond. No.          </th> <td>    8.21</td>\n",
       "</tr>\n",
       "</table><br/><br/>Warnings:<br/>[1] Standard Errors assume that the covariance matrix of the errors is correctly specified."
      ],
      "text/plain": [
       "<class 'statsmodels.iolib.summary.Summary'>\n",
       "\"\"\"\n",
       "                            OLS Regression Results                            \n",
       "==============================================================================\n",
       "Dep. Variable:                    GPA   R-squared:                       0.849\n",
       "Model:                            OLS   Adj. R-squared:                  0.842\n",
       "Method:                 Least Squares   F-statistic:                     129.6\n",
       "Date:                Sun, 27 Dec 2020   Prob (F-statistic):           1.95e-97\n",
       "Time:                        16:21:26   Log-Likelihood:                -460.04\n",
       "No. Observations:                 266   AIC:                             944.1\n",
       "Df Residuals:                     254   BIC:                             987.1\n",
       "Df Model:                          11                                         \n",
       "Covariance Type:            nonrobust                                         \n",
       "=======================================================================================\n",
       "                          coef    std err          t      P>|t|      [0.025      0.975]\n",
       "---------------------------------------------------------------------------------------\n",
       "const                   8.0926      0.136     59.401      0.000       7.824       8.361\n",
       "Prg_Elec_1_F           -1.6100      0.354     -4.543      0.000      -2.308      -0.912\n",
       "Prg_Elec_1_P           -1.6927      0.610     -2.774      0.006      -2.894      -0.491\n",
       "Inter_Disc_Elec_1_F     1.7039      0.496      3.436      0.001       0.727       2.680\n",
       "Core_1_F               -2.5257      0.359     -7.042      0.000      -3.232      -1.819\n",
       "Core_1_P               -1.5479      0.335     -4.622      0.000      -2.207      -0.888\n",
       "Core_2_B               -1.5205      0.215     -7.057      0.000      -1.945      -1.096\n",
       "Core_2_C               -3.1873      0.358     -8.899      0.000      -3.893      -2.482\n",
       "Core_2_F               -3.7717      0.424     -8.905      0.000      -4.606      -2.938\n",
       "Core_2_P               -2.2049      0.402     -5.481      0.000      -2.997      -1.413\n",
       "Core_3_F               -2.9334      0.318     -9.229      0.000      -3.559      -2.307\n",
       "Core_3_P               -1.9195      0.361     -5.322      0.000      -2.630      -1.209\n",
       "==============================================================================\n",
       "Omnibus:                       60.815   Durbin-Watson:                   1.969\n",
       "Prob(Omnibus):                  0.000   Jarque-Bera (JB):              123.133\n",
       "Skew:                          -1.148   Prob(JB):                     1.83e-27\n",
       "Kurtosis:                       5.416   Cond. No.                         8.21\n",
       "==============================================================================\n",
       "\n",
       "Warnings:\n",
       "[1] Standard Errors assume that the covariance matrix of the errors is correctly specified.\n",
       "\"\"\""
      ]
     },
     "execution_count": 45,
     "metadata": {},
     "output_type": "execute_result"
    }
   ],
   "source": [
    "# Drop Inter_Disc_Elec_1_AB as p-value=0.041\n",
    "X_train_new = X_train_new.drop('Inter_Disc_Elec_1_AB',1)\n",
    "\n",
    "lm4 = sm.add_constant(X_train_new)\n",
    "lm4 = sm.OLS(y_train, X_train_new).fit()\n",
    "lm4.summary()"
   ]
  },
  {
   "cell_type": "raw",
   "metadata": {},
   "source": [
    "# Drop Lab_1_B as p-value=0.056\n",
    "X_train_new = X_train_new.drop('Lab_1_B',1)\n",
    "\n",
    "lm6 = sm.add_constant(X_train_new)\n",
    "lm6 = sm.OLS(y_train, X_train_new).fit()\n",
    "lm6.summary()\n",
    "# Drop Inter_Disc_Elec_1_AB as p-value=0.064\n",
    "X_train_new7 = X_train_new.drop('Inter_Disc_Elec_1_AB',1)\n",
    "\n",
    "lm7 = sm.add_constant(X_train_new7)\n",
    "lm7 = sm.OLS(y_train, X_train_new7).fit()\n",
    "lm7.summary()\n",
    "# Drop Core_3_O as p-value=0.022\n",
    "X_train_new8 = X_train_new7.drop('Core_3_O',1)\n",
    "\n",
    "lm8 = sm.add_constant(X_train_new8)\n",
    "lm8 = sm.OLS(y_train, X_train_new8).fit()\n",
    "lm8.summary()"
   ]
  },
  {
   "cell_type": "code",
   "execution_count": 46,
   "metadata": {
    "scrolled": true
   },
   "outputs": [
    {
     "data": {
      "text/html": [
       "<table class=\"simpletable\">\n",
       "<caption>OLS Regression Results</caption>\n",
       "<tr>\n",
       "  <th>Dep. Variable:</th>           <td>GPA</td>       <th>  R-squared:         </th> <td>   0.844</td>\n",
       "</tr>\n",
       "<tr>\n",
       "  <th>Model:</th>                   <td>OLS</td>       <th>  Adj. R-squared:    </th> <td>   0.838</td>\n",
       "</tr>\n",
       "<tr>\n",
       "  <th>Method:</th>             <td>Least Squares</td>  <th>  F-statistic:       </th> <td>   138.2</td>\n",
       "</tr>\n",
       "<tr>\n",
       "  <th>Date:</th>             <td>Sun, 27 Dec 2020</td> <th>  Prob (F-statistic):</th> <td>6.97e-97</td>\n",
       "</tr>\n",
       "<tr>\n",
       "  <th>Time:</th>                 <td>16:21:26</td>     <th>  Log-Likelihood:    </th> <td> -464.01</td>\n",
       "</tr>\n",
       "<tr>\n",
       "  <th>No. Observations:</th>      <td>   266</td>      <th>  AIC:               </th> <td>   950.0</td>\n",
       "</tr>\n",
       "<tr>\n",
       "  <th>Df Residuals:</th>          <td>   255</td>      <th>  BIC:               </th> <td>   989.4</td>\n",
       "</tr>\n",
       "<tr>\n",
       "  <th>Df Model:</th>              <td>    10</td>      <th>                     </th>     <td> </td>   \n",
       "</tr>\n",
       "<tr>\n",
       "  <th>Covariance Type:</th>      <td>nonrobust</td>    <th>                     </th>     <td> </td>   \n",
       "</tr>\n",
       "</table>\n",
       "<table class=\"simpletable\">\n",
       "<tr>\n",
       "           <td></td>              <th>coef</th>     <th>std err</th>      <th>t</th>      <th>P>|t|</th>  <th>[0.025</th>    <th>0.975]</th>  \n",
       "</tr>\n",
       "<tr>\n",
       "  <th>const</th>               <td>    8.0926</td> <td>    0.138</td> <td>   58.637</td> <td> 0.000</td> <td>    7.821</td> <td>    8.364</td>\n",
       "</tr>\n",
       "<tr>\n",
       "  <th>Prg_Elec_1_F</th>        <td>   -1.4113</td> <td>    0.352</td> <td>   -4.014</td> <td> 0.000</td> <td>   -2.104</td> <td>   -0.719</td>\n",
       "</tr>\n",
       "<tr>\n",
       "  <th>Inter_Disc_Elec_1_F</th> <td>    1.6119</td> <td>    0.501</td> <td>    3.216</td> <td> 0.001</td> <td>    0.625</td> <td>    2.599</td>\n",
       "</tr>\n",
       "<tr>\n",
       "  <th>Core_1_F</th>            <td>   -2.7123</td> <td>    0.357</td> <td>   -7.599</td> <td> 0.000</td> <td>   -3.415</td> <td>   -2.009</td>\n",
       "</tr>\n",
       "<tr>\n",
       "  <th>Core_1_P</th>            <td>   -1.6083</td> <td>    0.339</td> <td>   -4.750</td> <td> 0.000</td> <td>   -2.275</td> <td>   -0.942</td>\n",
       "</tr>\n",
       "<tr>\n",
       "  <th>Core_2_B</th>            <td>   -1.5447</td> <td>    0.218</td> <td>   -7.083</td> <td> 0.000</td> <td>   -1.974</td> <td>   -1.115</td>\n",
       "</tr>\n",
       "<tr>\n",
       "  <th>Core_2_C</th>            <td>   -3.2480</td> <td>    0.362</td> <td>   -8.969</td> <td> 0.000</td> <td>   -3.961</td> <td>   -2.535</td>\n",
       "</tr>\n",
       "<tr>\n",
       "  <th>Core_2_F</th>            <td>   -3.7955</td> <td>    0.429</td> <td>   -8.848</td> <td> 0.000</td> <td>   -4.640</td> <td>   -2.951</td>\n",
       "</tr>\n",
       "<tr>\n",
       "  <th>Core_2_P</th>            <td>   -2.2263</td> <td>    0.407</td> <td>   -5.464</td> <td> 0.000</td> <td>   -3.029</td> <td>   -1.424</td>\n",
       "</tr>\n",
       "<tr>\n",
       "  <th>Core_3_F</th>            <td>   -2.9630</td> <td>    0.322</td> <td>   -9.207</td> <td> 0.000</td> <td>   -3.597</td> <td>   -2.329</td>\n",
       "</tr>\n",
       "<tr>\n",
       "  <th>Core_3_P</th>            <td>   -2.0754</td> <td>    0.361</td> <td>   -5.750</td> <td> 0.000</td> <td>   -2.786</td> <td>   -1.365</td>\n",
       "</tr>\n",
       "</table>\n",
       "<table class=\"simpletable\">\n",
       "<tr>\n",
       "  <th>Omnibus:</th>       <td>58.549</td> <th>  Durbin-Watson:     </th> <td>   1.986</td>\n",
       "</tr>\n",
       "<tr>\n",
       "  <th>Prob(Omnibus):</th> <td> 0.000</td> <th>  Jarque-Bera (JB):  </th> <td> 114.729</td>\n",
       "</tr>\n",
       "<tr>\n",
       "  <th>Skew:</th>          <td>-1.122</td> <th>  Prob(JB):          </th> <td>1.22e-25</td>\n",
       "</tr>\n",
       "<tr>\n",
       "  <th>Kurtosis:</th>      <td> 5.305</td> <th>  Cond. No.          </th> <td>    8.02</td>\n",
       "</tr>\n",
       "</table><br/><br/>Warnings:<br/>[1] Standard Errors assume that the covariance matrix of the errors is correctly specified."
      ],
      "text/plain": [
       "<class 'statsmodels.iolib.summary.Summary'>\n",
       "\"\"\"\n",
       "                            OLS Regression Results                            \n",
       "==============================================================================\n",
       "Dep. Variable:                    GPA   R-squared:                       0.844\n",
       "Model:                            OLS   Adj. R-squared:                  0.838\n",
       "Method:                 Least Squares   F-statistic:                     138.2\n",
       "Date:                Sun, 27 Dec 2020   Prob (F-statistic):           6.97e-97\n",
       "Time:                        16:21:26   Log-Likelihood:                -464.01\n",
       "No. Observations:                 266   AIC:                             950.0\n",
       "Df Residuals:                     255   BIC:                             989.4\n",
       "Df Model:                          10                                         \n",
       "Covariance Type:            nonrobust                                         \n",
       "=======================================================================================\n",
       "                          coef    std err          t      P>|t|      [0.025      0.975]\n",
       "---------------------------------------------------------------------------------------\n",
       "const                   8.0926      0.138     58.637      0.000       7.821       8.364\n",
       "Prg_Elec_1_F           -1.4113      0.352     -4.014      0.000      -2.104      -0.719\n",
       "Inter_Disc_Elec_1_F     1.6119      0.501      3.216      0.001       0.625       2.599\n",
       "Core_1_F               -2.7123      0.357     -7.599      0.000      -3.415      -2.009\n",
       "Core_1_P               -1.6083      0.339     -4.750      0.000      -2.275      -0.942\n",
       "Core_2_B               -1.5447      0.218     -7.083      0.000      -1.974      -1.115\n",
       "Core_2_C               -3.2480      0.362     -8.969      0.000      -3.961      -2.535\n",
       "Core_2_F               -3.7955      0.429     -8.848      0.000      -4.640      -2.951\n",
       "Core_2_P               -2.2263      0.407     -5.464      0.000      -3.029      -1.424\n",
       "Core_3_F               -2.9630      0.322     -9.207      0.000      -3.597      -2.329\n",
       "Core_3_P               -2.0754      0.361     -5.750      0.000      -2.786      -1.365\n",
       "==============================================================================\n",
       "Omnibus:                       58.549   Durbin-Watson:                   1.986\n",
       "Prob(Omnibus):                  0.000   Jarque-Bera (JB):              114.729\n",
       "Skew:                          -1.122   Prob(JB):                     1.22e-25\n",
       "Kurtosis:                       5.305   Cond. No.                         8.02\n",
       "==============================================================================\n",
       "\n",
       "Warnings:\n",
       "[1] Standard Errors assume that the covariance matrix of the errors is correctly specified.\n",
       "\"\"\""
      ]
     },
     "execution_count": 46,
     "metadata": {},
     "output_type": "execute_result"
    }
   ],
   "source": [
    "# Drop Prg_Elec_1_P as p-value=0.006\n",
    "X_train_new = X_train_new.drop('Prg_Elec_1_P',1)\n",
    "\n",
    "lm5 = sm.add_constant(X_train_new)\n",
    "lm5 = sm.OLS(y_train, X_train_new).fit()\n",
    "lm5.summary()"
   ]
  },
  {
   "cell_type": "code",
   "execution_count": 47,
   "metadata": {
    "scrolled": true
   },
   "outputs": [
    {
     "data": {
      "text/html": [
       "<table class=\"simpletable\">\n",
       "<caption>OLS Regression Results</caption>\n",
       "<tr>\n",
       "  <th>Dep. Variable:</th>           <td>GPA</td>       <th>  R-squared:         </th> <td>   0.838</td>\n",
       "</tr>\n",
       "<tr>\n",
       "  <th>Model:</th>                   <td>OLS</td>       <th>  Adj. R-squared:    </th> <td>   0.832</td>\n",
       "</tr>\n",
       "<tr>\n",
       "  <th>Method:</th>             <td>Least Squares</td>  <th>  F-statistic:       </th> <td>   147.0</td>\n",
       "</tr>\n",
       "<tr>\n",
       "  <th>Date:</th>             <td>Sun, 27 Dec 2020</td> <th>  Prob (F-statistic):</th> <td>8.61e-96</td>\n",
       "</tr>\n",
       "<tr>\n",
       "  <th>Time:</th>                 <td>16:21:26</td>     <th>  Log-Likelihood:    </th> <td> -469.30</td>\n",
       "</tr>\n",
       "<tr>\n",
       "  <th>No. Observations:</th>      <td>   266</td>      <th>  AIC:               </th> <td>   958.6</td>\n",
       "</tr>\n",
       "<tr>\n",
       "  <th>Df Residuals:</th>          <td>   256</td>      <th>  BIC:               </th> <td>   994.4</td>\n",
       "</tr>\n",
       "<tr>\n",
       "  <th>Df Model:</th>              <td>     9</td>      <th>                     </th>     <td> </td>   \n",
       "</tr>\n",
       "<tr>\n",
       "  <th>Covariance Type:</th>      <td>nonrobust</td>    <th>                     </th>     <td> </td>   \n",
       "</tr>\n",
       "</table>\n",
       "<table class=\"simpletable\">\n",
       "<tr>\n",
       "        <td></td>          <th>coef</th>     <th>std err</th>      <th>t</th>      <th>P>|t|</th>  <th>[0.025</th>    <th>0.975]</th>  \n",
       "</tr>\n",
       "<tr>\n",
       "  <th>const</th>        <td>    8.0926</td> <td>    0.141</td> <td>   57.595</td> <td> 0.000</td> <td>    7.816</td> <td>    8.369</td>\n",
       "</tr>\n",
       "<tr>\n",
       "  <th>Prg_Elec_1_F</th> <td>   -1.2770</td> <td>    0.355</td> <td>   -3.593</td> <td> 0.000</td> <td>   -1.977</td> <td>   -0.577</td>\n",
       "</tr>\n",
       "<tr>\n",
       "  <th>Core_1_F</th>     <td>   -2.4522</td> <td>    0.354</td> <td>   -6.929</td> <td> 0.000</td> <td>   -3.149</td> <td>   -1.755</td>\n",
       "</tr>\n",
       "<tr>\n",
       "  <th>Core_1_P</th>     <td>   -1.5780</td> <td>    0.345</td> <td>   -4.580</td> <td> 0.000</td> <td>   -2.256</td> <td>   -0.899</td>\n",
       "</tr>\n",
       "<tr>\n",
       "  <th>Core_2_B</th>     <td>   -1.5703</td> <td>    0.222</td> <td>   -7.077</td> <td> 0.000</td> <td>   -2.007</td> <td>   -1.133</td>\n",
       "</tr>\n",
       "<tr>\n",
       "  <th>Core_2_C</th>     <td>   -3.2956</td> <td>    0.368</td> <td>   -8.946</td> <td> 0.000</td> <td>   -4.021</td> <td>   -2.570</td>\n",
       "</tr>\n",
       "<tr>\n",
       "  <th>Core_2_F</th>     <td>   -3.5726</td> <td>    0.431</td> <td>   -8.289</td> <td> 0.000</td> <td>   -4.421</td> <td>   -2.724</td>\n",
       "</tr>\n",
       "<tr>\n",
       "  <th>Core_2_P</th>     <td>   -2.3822</td> <td>    0.412</td> <td>   -5.784</td> <td> 0.000</td> <td>   -3.193</td> <td>   -1.571</td>\n",
       "</tr>\n",
       "<tr>\n",
       "  <th>Core_3_F</th>     <td>   -2.9050</td> <td>    0.327</td> <td>   -8.881</td> <td> 0.000</td> <td>   -3.549</td> <td>   -2.261</td>\n",
       "</tr>\n",
       "<tr>\n",
       "  <th>Core_3_P</th>     <td>   -2.0421</td> <td>    0.367</td> <td>   -5.560</td> <td> 0.000</td> <td>   -2.765</td> <td>   -1.319</td>\n",
       "</tr>\n",
       "</table>\n",
       "<table class=\"simpletable\">\n",
       "<tr>\n",
       "  <th>Omnibus:</th>       <td>61.942</td> <th>  Durbin-Watson:     </th> <td>   1.942</td>\n",
       "</tr>\n",
       "<tr>\n",
       "  <th>Prob(Omnibus):</th> <td> 0.000</td> <th>  Jarque-Bera (JB):  </th> <td> 123.223</td>\n",
       "</tr>\n",
       "<tr>\n",
       "  <th>Skew:</th>          <td>-1.179</td> <th>  Prob(JB):          </th> <td>1.75e-27</td>\n",
       "</tr>\n",
       "<tr>\n",
       "  <th>Kurtosis:</th>      <td> 5.358</td> <th>  Cond. No.          </th> <td>    8.00</td>\n",
       "</tr>\n",
       "</table><br/><br/>Warnings:<br/>[1] Standard Errors assume that the covariance matrix of the errors is correctly specified."
      ],
      "text/plain": [
       "<class 'statsmodels.iolib.summary.Summary'>\n",
       "\"\"\"\n",
       "                            OLS Regression Results                            \n",
       "==============================================================================\n",
       "Dep. Variable:                    GPA   R-squared:                       0.838\n",
       "Model:                            OLS   Adj. R-squared:                  0.832\n",
       "Method:                 Least Squares   F-statistic:                     147.0\n",
       "Date:                Sun, 27 Dec 2020   Prob (F-statistic):           8.61e-96\n",
       "Time:                        16:21:26   Log-Likelihood:                -469.30\n",
       "No. Observations:                 266   AIC:                             958.6\n",
       "Df Residuals:                     256   BIC:                             994.4\n",
       "Df Model:                           9                                         \n",
       "Covariance Type:            nonrobust                                         \n",
       "================================================================================\n",
       "                   coef    std err          t      P>|t|      [0.025      0.975]\n",
       "--------------------------------------------------------------------------------\n",
       "const            8.0926      0.141     57.595      0.000       7.816       8.369\n",
       "Prg_Elec_1_F    -1.2770      0.355     -3.593      0.000      -1.977      -0.577\n",
       "Core_1_F        -2.4522      0.354     -6.929      0.000      -3.149      -1.755\n",
       "Core_1_P        -1.5780      0.345     -4.580      0.000      -2.256      -0.899\n",
       "Core_2_B        -1.5703      0.222     -7.077      0.000      -2.007      -1.133\n",
       "Core_2_C        -3.2956      0.368     -8.946      0.000      -4.021      -2.570\n",
       "Core_2_F        -3.5726      0.431     -8.289      0.000      -4.421      -2.724\n",
       "Core_2_P        -2.3822      0.412     -5.784      0.000      -3.193      -1.571\n",
       "Core_3_F        -2.9050      0.327     -8.881      0.000      -3.549      -2.261\n",
       "Core_3_P        -2.0421      0.367     -5.560      0.000      -2.765      -1.319\n",
       "==============================================================================\n",
       "Omnibus:                       61.942   Durbin-Watson:                   1.942\n",
       "Prob(Omnibus):                  0.000   Jarque-Bera (JB):              123.223\n",
       "Skew:                          -1.179   Prob(JB):                     1.75e-27\n",
       "Kurtosis:                       5.358   Cond. No.                         8.00\n",
       "==============================================================================\n",
       "\n",
       "Warnings:\n",
       "[1] Standard Errors assume that the covariance matrix of the errors is correctly specified.\n",
       "\"\"\""
      ]
     },
     "execution_count": 47,
     "metadata": {},
     "output_type": "execute_result"
    }
   ],
   "source": [
    "# Drop Inter_Disc_Elec_1_F as p-value=0.001\n",
    "X_train_new = X_train_new.drop('Inter_Disc_Elec_1_F',1)\n",
    "\n",
    "lm6 = sm.add_constant(X_train_new)\n",
    "lm6 = sm.OLS(y_train, X_train_new).fit()\n",
    "lm6.summary()"
   ]
  },
  {
   "cell_type": "code",
   "execution_count": null,
   "metadata": {},
   "outputs": [],
   "source": []
  },
  {
   "cell_type": "code",
   "execution_count": 48,
   "metadata": {},
   "outputs": [
    {
     "data": {
      "text/html": [
       "<div>\n",
       "<style scoped>\n",
       "    .dataframe tbody tr th:only-of-type {\n",
       "        vertical-align: middle;\n",
       "    }\n",
       "\n",
       "    .dataframe tbody tr th {\n",
       "        vertical-align: top;\n",
       "    }\n",
       "\n",
       "    .dataframe thead th {\n",
       "        text-align: right;\n",
       "    }\n",
       "</style>\n",
       "<table border=\"1\" class=\"dataframe\">\n",
       "  <thead>\n",
       "    <tr style=\"text-align: right;\">\n",
       "      <th></th>\n",
       "      <th>Features</th>\n",
       "      <th>VIF</th>\n",
       "    </tr>\n",
       "  </thead>\n",
       "  <tbody>\n",
       "    <tr>\n",
       "      <th>6</th>\n",
       "      <td>Core_2_F</td>\n",
       "      <td>2.92</td>\n",
       "    </tr>\n",
       "    <tr>\n",
       "      <th>0</th>\n",
       "      <td>const</td>\n",
       "      <td>2.53</td>\n",
       "    </tr>\n",
       "    <tr>\n",
       "      <th>1</th>\n",
       "      <td>Prg_Elec_1_F</td>\n",
       "      <td>2.07</td>\n",
       "    </tr>\n",
       "    <tr>\n",
       "      <th>8</th>\n",
       "      <td>Core_3_F</td>\n",
       "      <td>1.93</td>\n",
       "    </tr>\n",
       "    <tr>\n",
       "      <th>7</th>\n",
       "      <td>Core_2_P</td>\n",
       "      <td>1.65</td>\n",
       "    </tr>\n",
       "    <tr>\n",
       "      <th>2</th>\n",
       "      <td>Core_1_F</td>\n",
       "      <td>1.61</td>\n",
       "    </tr>\n",
       "    <tr>\n",
       "      <th>3</th>\n",
       "      <td>Core_1_P</td>\n",
       "      <td>1.48</td>\n",
       "    </tr>\n",
       "    <tr>\n",
       "      <th>5</th>\n",
       "      <td>Core_2_C</td>\n",
       "      <td>1.48</td>\n",
       "    </tr>\n",
       "    <tr>\n",
       "      <th>9</th>\n",
       "      <td>Core_3_P</td>\n",
       "      <td>1.37</td>\n",
       "    </tr>\n",
       "    <tr>\n",
       "      <th>4</th>\n",
       "      <td>Core_2_B</td>\n",
       "      <td>1.29</td>\n",
       "    </tr>\n",
       "  </tbody>\n",
       "</table>\n",
       "</div>"
      ],
      "text/plain": [
       "       Features   VIF\n",
       "6      Core_2_F  2.92\n",
       "0         const  2.53\n",
       "1  Prg_Elec_1_F  2.07\n",
       "8      Core_3_F  1.93\n",
       "7      Core_2_P  1.65\n",
       "2      Core_1_F  1.61\n",
       "3      Core_1_P  1.48\n",
       "5      Core_2_C  1.48\n",
       "9      Core_3_P  1.37\n",
       "4      Core_2_B  1.29"
      ]
     },
     "execution_count": 48,
     "metadata": {},
     "output_type": "execute_result"
    }
   ],
   "source": [
    "from statsmodels.stats.outliers_influence import variance_inflation_factor\n",
    "vif = pd.DataFrame()\n",
    "vif['Features'] = X_train_new.columns\n",
    "vif['VIF'] = [variance_inflation_factor(X_train_new.values, i) for i in range(X_train_new.shape[1])]\n",
    "vif['VIF'] = round(vif['VIF'], 2)\n",
    "vif = vif.sort_values(by = \"VIF\", ascending = False)\n",
    "vif"
   ]
  },
  {
   "cell_type": "code",
   "execution_count": null,
   "metadata": {},
   "outputs": [],
   "source": []
  },
  {
   "cell_type": "code",
   "execution_count": null,
   "metadata": {},
   "outputs": [],
   "source": []
  },
  {
   "cell_type": "code",
   "execution_count": 49,
   "metadata": {},
   "outputs": [
    {
     "data": {
      "image/png": "[encoded data removed]",
      "text/plain": [
       "<Figure size 432x288 with 1 Axes>"
      ]
     },
     "metadata": {
      "needs_background": "light"
     },
     "output_type": "display_data"
    }
   ],
   "source": [
    "# To check error terms are normally distributed\n",
    "\n",
    "y_train_pred = lm6.predict(X_train_new)\n",
    "\n",
    "sns.distplot((y_train - y_train_pred))\n",
    "plt.title('Error Terms', fontsize =20)\n",
    "plt.xlabel('Error', fontsize = 15)\n",
    "plt.show()"
   ]
  },
  {
   "cell_type": "code",
   "execution_count": 50,
   "metadata": {},
   "outputs": [
    {
     "data": {
      "text/plain": [
       "Index(['const', 'Prg_Elec_1_F', 'Core_1_F', 'Core_1_P', 'Core_2_B', 'Core_2_C',\n",
       "       'Core_2_F', 'Core_2_P', 'Core_3_F', 'Core_3_P'],\n",
       "      dtype='object')"
      ]
     },
     "execution_count": 50,
     "metadata": {},
     "output_type": "execute_result"
    }
   ],
   "source": [
    "cols = X_train_new.columns\n",
    "cols"
   ]
  },
  {
   "cell_type": "code",
   "execution_count": 51,
   "metadata": {},
   "outputs": [],
   "source": [
    "X_test_lm = sm.add_constant(X_test)\n",
    "\n",
    "X_test_lm = X_test_lm[cols]"
   ]
  },
  {
   "cell_type": "code",
   "execution_count": 52,
   "metadata": {},
   "outputs": [],
   "source": [
    "y_test_pred = lm6.predict(X_test_lm)"
   ]
  },
  {
   "cell_type": "code",
   "execution_count": 53,
   "metadata": {},
   "outputs": [
    {
     "data": {
      "text/plain": [
       "0.705940083609619"
      ]
     },
     "execution_count": 53,
     "metadata": {},
     "output_type": "execute_result"
    }
   ],
   "source": [
    "from sklearn.metrics import r2_score\n",
    "r2_score(y_test, y_test_pred)"
   ]
  },
  {
   "cell_type": "code",
   "execution_count": 54,
   "metadata": {},
   "outputs": [
    {
     "data": {
      "text/plain": [
       "0.8378603187310999"
      ]
     },
     "execution_count": 54,
     "metadata": {},
     "output_type": "execute_result"
    }
   ],
   "source": [
    "r2_score(y_train, y_train_pred)"
   ]
  },
  {
   "cell_type": "code",
   "execution_count": 55,
   "metadata": {},
   "outputs": [
    {
     "data": {
      "text/plain": [
       "<matplotlib.axes._subplots.AxesSubplot at 0xbed8408>"
      ]
     },
     "execution_count": 55,
     "metadata": {},
     "output_type": "execute_result"
    },
    {
     "data": {
      "image/png": "[encoded data removed]",
      "text/plain": [
       "<Figure size 432x288 with 1 Axes>"
      ]
     },
     "metadata": {
      "needs_background": "light"
     },
     "output_type": "display_data"
    }
   ],
   "source": [
    "sns.distplot(y_test-y_test_pred)"
   ]
  },
  {
   "cell_type": "code",
   "execution_count": null,
   "metadata": {},
   "outputs": [],
   "source": []
  }
 ],
 "metadata": {
  "kernelspec": {
   "display_name": "Python 3",
   "language": "python",
   "name": "python3"
  },
  "language_info": {
   "codemirror_mode": {
    "name": "ipython",
    "version": 3
   },
   "file_extension": ".py",
   "mimetype": "text/x-python",
   "name": "python",
   "nbconvert_exporter": "python",
   "pygments_lexer": "ipython3",
   "version": "3.7.7"
  }
 },
 "nbformat": 4,
 "nbformat_minor": 4
}
